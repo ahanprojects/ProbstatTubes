{
 "cells": [
  {
   "cell_type": "code",
   "execution_count": null,
   "id": "40078792",
   "metadata": {},
   "outputs": [],
   "source": [
    "# Tugas Besar IF2220 Probabilitas dan Statistika\n",
    "# Farhan Nur Hidayat Denira 13519071\n",
    "# Mhd. Hiro Agayeff Muslion 13519070"
   ]
  },
  {
   "cell_type": "code",
   "execution_count": null,
   "id": "8609102e",
   "metadata": {},
   "outputs": [],
   "source": [
    "# Diberikan sebuah data Gandum.csv yang dapat diakses pada utas berikut: Dataset Tugas Besar\n",
    "# IF2220. Gandum.csv merupakan data klasifikasi biji gandum yang mengandung 12 kolom\n",
    "# sebagai berikut:\n",
    "# 1. id\n",
    "# 2. Daerah\n",
    "# 3. SumbuUtama\n",
    "# 4. SumbuKecil\n",
    "# 5. Keunikan\n",
    "# 6. AreaBulatan\n",
    "# 7. Diameter\n",
    "# 8. KadarAir\n",
    "# 9. Keliling\n",
    "# 10. Bulatan\n",
    "# 11. Ransum\n",
    "# 12. Kelas\n",
    "# Kolom 2-11 adalah kolom atribut (non-target), sedangkan kolom 12 adalah kolom target.\n",
    "# Anda diminta untuk melakukan analisis statistika sebagai berikut:"
   ]
  },
  {
   "cell_type": "markdown",
   "id": "2b128e02",
   "metadata": {},
   "source": [
    "Nomor 1"
   ]
  },
  {
   "cell_type": "code",
   "execution_count": null,
   "id": "6a910a0e",
   "metadata": {},
   "outputs": [],
   "source": [
    "# Soal 1\n",
    "\n",
    "# Menulis deskripsi statistika (Descriptive Statistics) dari semua kolom pada data yang bersifat\n",
    "# numerik, terdiri dari mean, median, modus, standar deviasi, variansi, range, nilai minimum,\n",
    "# maksimum, kuartil, IQR, skewness dan kurtosis. Boleh juga ditambahkan deskripsi lain.\n",
    "\n",
    "# dic = {'mean':,'median':,'modus':,\n",
    "#        'standar deviasi':, 'variansi':,\n",
    "#        'range':, 'minimum':, 'maksimum':,\n",
    "#        'kuartil':, 'IQR':, 'skewness':,'kurtosis':}"
   ]
  },
  {
   "cell_type": "code",
   "execution_count": 2,
   "id": "7623316e",
   "metadata": {},
   "outputs": [],
   "source": [
    "def nomor1(nama):\n",
    "    import pandas as pd\n",
    "    # membuka file csv\n",
    "    path = 'D:\\KULIAH SMT 4\\IF2220 Probabilitas dan Statistika\\TUBES\\Gandum.csv'\n",
    "    # menamakan kolom\n",
    "    # df.columns = ['id','Daerah','SumbuUtama','SumbuKecil','Keunikan','AreaBulatan','Diameter','KadarAir','Keliling','Bulatan','Ransum','Kelas']\n",
    "    df = pd.read_csv(path, names=[\"id\", \"Daerah\", \"SumbuUtama\", \"SumbuKecil\", \"Keunikan\", \"AreaBulatan\", \"Diameter\", \"KadarAir\", \"Keliling\", \"Bulatan\", \"Ransum\", \"Kelas\"])\n",
    "\n",
    "    df1 = df[nama]\n",
    "    dic = {'mean':df1.mean(),'median':df1.median(),'modus':df1.mode().values,\n",
    "          'standar deviasi':df1.std(), 'variansi':df1.var(),\n",
    "           'range':df1.max()-df1.min(), 'minimum':df1.min(), \n",
    "           'maksimum':df1.max(),'kuartil 1':df1.quantile(0.25),\n",
    "           'kuartil 2':df1.quantile(0.5),'kuartil 3':df1.quantile(0.75), \n",
    "           'IQR':df1.quantile(0.75) - df1.quantile(0.25), 'skewness':df1.skew(),\n",
    "           'kurtosis':df1.kurtosis()\n",
    "          }\n",
    "    dic_list = list(dic.items())\n",
    "\n",
    "    new_df = pd.DataFrame.from_dict(dic_list)\n",
    "    return new_df.style.set_table_attributes(\"style='display:inline'\").set_caption('Deskripsi Statistik '+nama)"
   ]
  },
  {
   "cell_type": "code",
   "execution_count": 6,
   "id": "d6bf8b20",
   "metadata": {},
   "outputs": [
    {
     "data": {
      "text/html": [
       "<style  type=\"text/css\" >\n",
       "</style><table id=\"T_55862a40_9eb4_11eb_91c3_4c1d9604228d\" style='display:inline'><caption>Deskripsi Statistik id</caption><thead>    <tr>        <th class=\"blank level0\" ></th>        <th class=\"col_heading level0 col0\" >0</th>        <th class=\"col_heading level0 col1\" >1</th>    </tr></thead><tbody>\n",
       "                <tr>\n",
       "                        <th id=\"T_55862a40_9eb4_11eb_91c3_4c1d9604228dlevel0_row0\" class=\"row_heading level0 row0\" >0</th>\n",
       "                        <td id=\"T_55862a40_9eb4_11eb_91c3_4c1d9604228drow0_col0\" class=\"data row0 col0\" >mean</td>\n",
       "                        <td id=\"T_55862a40_9eb4_11eb_91c3_4c1d9604228drow0_col1\" class=\"data row0 col1\" >250.500000</td>\n",
       "            </tr>\n",
       "            <tr>\n",
       "                        <th id=\"T_55862a40_9eb4_11eb_91c3_4c1d9604228dlevel0_row1\" class=\"row_heading level0 row1\" >1</th>\n",
       "                        <td id=\"T_55862a40_9eb4_11eb_91c3_4c1d9604228drow1_col0\" class=\"data row1 col0\" >median</td>\n",
       "                        <td id=\"T_55862a40_9eb4_11eb_91c3_4c1d9604228drow1_col1\" class=\"data row1 col1\" >250.500000</td>\n",
       "            </tr>\n",
       "            <tr>\n",
       "                        <th id=\"T_55862a40_9eb4_11eb_91c3_4c1d9604228dlevel0_row2\" class=\"row_heading level0 row2\" >2</th>\n",
       "                        <td id=\"T_55862a40_9eb4_11eb_91c3_4c1d9604228drow2_col0\" class=\"data row2 col0\" >modus</td>\n",
       "                        <td id=\"T_55862a40_9eb4_11eb_91c3_4c1d9604228drow2_col1\" class=\"data row2 col1\" >[  1   2   3   4   5   6   7   8   9  10  11  12  13  14  15  16  17  18\n",
       "  19  20  21  22  23  24  25  26  27  28  29  30  31  32  33  34  35  36\n",
       "  37  38  39  40  41  42  43  44  45  46  47  48  49  50  51  52  53  54\n",
       "  55  56  57  58  59  60  61  62  63  64  65  66  67  68  69  70  71  72\n",
       "  73  74  75  76  77  78  79  80  81  82  83  84  85  86  87  88  89  90\n",
       "  91  92  93  94  95  96  97  98  99 100 101 102 103 104 105 106 107 108\n",
       " 109 110 111 112 113 114 115 116 117 118 119 120 121 122 123 124 125 126\n",
       " 127 128 129 130 131 132 133 134 135 136 137 138 139 140 141 142 143 144\n",
       " 145 146 147 148 149 150 151 152 153 154 155 156 157 158 159 160 161 162\n",
       " 163 164 165 166 167 168 169 170 171 172 173 174 175 176 177 178 179 180\n",
       " 181 182 183 184 185 186 187 188 189 190 191 192 193 194 195 196 197 198\n",
       " 199 200 201 202 203 204 205 206 207 208 209 210 211 212 213 214 215 216\n",
       " 217 218 219 220 221 222 223 224 225 226 227 228 229 230 231 232 233 234\n",
       " 235 236 237 238 239 240 241 242 243 244 245 246 247 248 249 250 251 252\n",
       " 253 254 255 256 257 258 259 260 261 262 263 264 265 266 267 268 269 270\n",
       " 271 272 273 274 275 276 277 278 279 280 281 282 283 284 285 286 287 288\n",
       " 289 290 291 292 293 294 295 296 297 298 299 300 301 302 303 304 305 306\n",
       " 307 308 309 310 311 312 313 314 315 316 317 318 319 320 321 322 323 324\n",
       " 325 326 327 328 329 330 331 332 333 334 335 336 337 338 339 340 341 342\n",
       " 343 344 345 346 347 348 349 350 351 352 353 354 355 356 357 358 359 360\n",
       " 361 362 363 364 365 366 367 368 369 370 371 372 373 374 375 376 377 378\n",
       " 379 380 381 382 383 384 385 386 387 388 389 390 391 392 393 394 395 396\n",
       " 397 398 399 400 401 402 403 404 405 406 407 408 409 410 411 412 413 414\n",
       " 415 416 417 418 419 420 421 422 423 424 425 426 427 428 429 430 431 432\n",
       " 433 434 435 436 437 438 439 440 441 442 443 444 445 446 447 448 449 450\n",
       " 451 452 453 454 455 456 457 458 459 460 461 462 463 464 465 466 467 468\n",
       " 469 470 471 472 473 474 475 476 477 478 479 480 481 482 483 484 485 486\n",
       " 487 488 489 490 491 492 493 494 495 496 497 498 499 500]</td>\n",
       "            </tr>\n",
       "            <tr>\n",
       "                        <th id=\"T_55862a40_9eb4_11eb_91c3_4c1d9604228dlevel0_row3\" class=\"row_heading level0 row3\" >3</th>\n",
       "                        <td id=\"T_55862a40_9eb4_11eb_91c3_4c1d9604228drow3_col0\" class=\"data row3 col0\" >standar deviasi</td>\n",
       "                        <td id=\"T_55862a40_9eb4_11eb_91c3_4c1d9604228drow3_col1\" class=\"data row3 col1\" >144.481833</td>\n",
       "            </tr>\n",
       "            <tr>\n",
       "                        <th id=\"T_55862a40_9eb4_11eb_91c3_4c1d9604228dlevel0_row4\" class=\"row_heading level0 row4\" >4</th>\n",
       "                        <td id=\"T_55862a40_9eb4_11eb_91c3_4c1d9604228drow4_col0\" class=\"data row4 col0\" >variansi</td>\n",
       "                        <td id=\"T_55862a40_9eb4_11eb_91c3_4c1d9604228drow4_col1\" class=\"data row4 col1\" >20875.000000</td>\n",
       "            </tr>\n",
       "            <tr>\n",
       "                        <th id=\"T_55862a40_9eb4_11eb_91c3_4c1d9604228dlevel0_row5\" class=\"row_heading level0 row5\" >5</th>\n",
       "                        <td id=\"T_55862a40_9eb4_11eb_91c3_4c1d9604228drow5_col0\" class=\"data row5 col0\" >range</td>\n",
       "                        <td id=\"T_55862a40_9eb4_11eb_91c3_4c1d9604228drow5_col1\" class=\"data row5 col1\" >499</td>\n",
       "            </tr>\n",
       "            <tr>\n",
       "                        <th id=\"T_55862a40_9eb4_11eb_91c3_4c1d9604228dlevel0_row6\" class=\"row_heading level0 row6\" >6</th>\n",
       "                        <td id=\"T_55862a40_9eb4_11eb_91c3_4c1d9604228drow6_col0\" class=\"data row6 col0\" >minimum</td>\n",
       "                        <td id=\"T_55862a40_9eb4_11eb_91c3_4c1d9604228drow6_col1\" class=\"data row6 col1\" >1</td>\n",
       "            </tr>\n",
       "            <tr>\n",
       "                        <th id=\"T_55862a40_9eb4_11eb_91c3_4c1d9604228dlevel0_row7\" class=\"row_heading level0 row7\" >7</th>\n",
       "                        <td id=\"T_55862a40_9eb4_11eb_91c3_4c1d9604228drow7_col0\" class=\"data row7 col0\" >maksimum</td>\n",
       "                        <td id=\"T_55862a40_9eb4_11eb_91c3_4c1d9604228drow7_col1\" class=\"data row7 col1\" >500</td>\n",
       "            </tr>\n",
       "            <tr>\n",
       "                        <th id=\"T_55862a40_9eb4_11eb_91c3_4c1d9604228dlevel0_row8\" class=\"row_heading level0 row8\" >8</th>\n",
       "                        <td id=\"T_55862a40_9eb4_11eb_91c3_4c1d9604228drow8_col0\" class=\"data row8 col0\" >kuartil 1</td>\n",
       "                        <td id=\"T_55862a40_9eb4_11eb_91c3_4c1d9604228drow8_col1\" class=\"data row8 col1\" >125.750000</td>\n",
       "            </tr>\n",
       "            <tr>\n",
       "                        <th id=\"T_55862a40_9eb4_11eb_91c3_4c1d9604228dlevel0_row9\" class=\"row_heading level0 row9\" >9</th>\n",
       "                        <td id=\"T_55862a40_9eb4_11eb_91c3_4c1d9604228drow9_col0\" class=\"data row9 col0\" >kuartil 2</td>\n",
       "                        <td id=\"T_55862a40_9eb4_11eb_91c3_4c1d9604228drow9_col1\" class=\"data row9 col1\" >250.500000</td>\n",
       "            </tr>\n",
       "            <tr>\n",
       "                        <th id=\"T_55862a40_9eb4_11eb_91c3_4c1d9604228dlevel0_row10\" class=\"row_heading level0 row10\" >10</th>\n",
       "                        <td id=\"T_55862a40_9eb4_11eb_91c3_4c1d9604228drow10_col0\" class=\"data row10 col0\" >kuartil 3</td>\n",
       "                        <td id=\"T_55862a40_9eb4_11eb_91c3_4c1d9604228drow10_col1\" class=\"data row10 col1\" >375.250000</td>\n",
       "            </tr>\n",
       "            <tr>\n",
       "                        <th id=\"T_55862a40_9eb4_11eb_91c3_4c1d9604228dlevel0_row11\" class=\"row_heading level0 row11\" >11</th>\n",
       "                        <td id=\"T_55862a40_9eb4_11eb_91c3_4c1d9604228drow11_col0\" class=\"data row11 col0\" >IQR</td>\n",
       "                        <td id=\"T_55862a40_9eb4_11eb_91c3_4c1d9604228drow11_col1\" class=\"data row11 col1\" >249.500000</td>\n",
       "            </tr>\n",
       "            <tr>\n",
       "                        <th id=\"T_55862a40_9eb4_11eb_91c3_4c1d9604228dlevel0_row12\" class=\"row_heading level0 row12\" >12</th>\n",
       "                        <td id=\"T_55862a40_9eb4_11eb_91c3_4c1d9604228drow12_col0\" class=\"data row12 col0\" >skewness</td>\n",
       "                        <td id=\"T_55862a40_9eb4_11eb_91c3_4c1d9604228drow12_col1\" class=\"data row12 col1\" >0.000000</td>\n",
       "            </tr>\n",
       "            <tr>\n",
       "                        <th id=\"T_55862a40_9eb4_11eb_91c3_4c1d9604228dlevel0_row13\" class=\"row_heading level0 row13\" >13</th>\n",
       "                        <td id=\"T_55862a40_9eb4_11eb_91c3_4c1d9604228drow13_col0\" class=\"data row13 col0\" >kurtosis</td>\n",
       "                        <td id=\"T_55862a40_9eb4_11eb_91c3_4c1d9604228drow13_col1\" class=\"data row13 col1\" >-1.200000</td>\n",
       "            </tr>\n",
       "    </tbody></table>"
      ],
      "text/plain": [
       "<pandas.io.formats.style.Styler at 0x17d98d72eb8>"
      ]
     },
     "execution_count": 6,
     "metadata": {},
     "output_type": "execute_result"
    }
   ],
   "source": [
    "# id\n",
    "nomor1('id')"
   ]
  },
  {
   "cell_type": "code",
   "execution_count": 7,
   "id": "554e0aac",
   "metadata": {},
   "outputs": [
    {
     "data": {
      "text/html": [
       "<style  type=\"text/css\" >\n",
       "</style><table id=\"T_56666786_9eb4_11eb_85b0_4c1d9604228d\" style='display:inline'><caption>Deskripsi Statistik Daerah</caption><thead>    <tr>        <th class=\"blank level0\" ></th>        <th class=\"col_heading level0 col0\" >0</th>        <th class=\"col_heading level0 col1\" >1</th>    </tr></thead><tbody>\n",
       "                <tr>\n",
       "                        <th id=\"T_56666786_9eb4_11eb_85b0_4c1d9604228dlevel0_row0\" class=\"row_heading level0 row0\" >0</th>\n",
       "                        <td id=\"T_56666786_9eb4_11eb_85b0_4c1d9604228drow0_col0\" class=\"data row0 col0\" >mean</td>\n",
       "                        <td id=\"T_56666786_9eb4_11eb_85b0_4c1d9604228drow0_col1\" class=\"data row0 col1\" >4801.246000</td>\n",
       "            </tr>\n",
       "            <tr>\n",
       "                        <th id=\"T_56666786_9eb4_11eb_85b0_4c1d9604228dlevel0_row1\" class=\"row_heading level0 row1\" >1</th>\n",
       "                        <td id=\"T_56666786_9eb4_11eb_85b0_4c1d9604228drow1_col0\" class=\"data row1 col0\" >median</td>\n",
       "                        <td id=\"T_56666786_9eb4_11eb_85b0_4c1d9604228drow1_col1\" class=\"data row1 col1\" >4735.000000</td>\n",
       "            </tr>\n",
       "            <tr>\n",
       "                        <th id=\"T_56666786_9eb4_11eb_85b0_4c1d9604228dlevel0_row2\" class=\"row_heading level0 row2\" >2</th>\n",
       "                        <td id=\"T_56666786_9eb4_11eb_85b0_4c1d9604228drow2_col0\" class=\"data row2 col0\" >modus</td>\n",
       "                        <td id=\"T_56666786_9eb4_11eb_85b0_4c1d9604228drow2_col1\" class=\"data row2 col1\" >[3992 4881 5642 6083]</td>\n",
       "            </tr>\n",
       "            <tr>\n",
       "                        <th id=\"T_56666786_9eb4_11eb_85b0_4c1d9604228dlevel0_row3\" class=\"row_heading level0 row3\" >3</th>\n",
       "                        <td id=\"T_56666786_9eb4_11eb_85b0_4c1d9604228drow3_col0\" class=\"data row3 col0\" >standar deviasi</td>\n",
       "                        <td id=\"T_56666786_9eb4_11eb_85b0_4c1d9604228drow3_col1\" class=\"data row3 col1\" >986.395491</td>\n",
       "            </tr>\n",
       "            <tr>\n",
       "                        <th id=\"T_56666786_9eb4_11eb_85b0_4c1d9604228dlevel0_row4\" class=\"row_heading level0 row4\" >4</th>\n",
       "                        <td id=\"T_56666786_9eb4_11eb_85b0_4c1d9604228drow4_col0\" class=\"data row4 col0\" >variansi</td>\n",
       "                        <td id=\"T_56666786_9eb4_11eb_85b0_4c1d9604228drow4_col1\" class=\"data row4 col1\" >972976.065615</td>\n",
       "            </tr>\n",
       "            <tr>\n",
       "                        <th id=\"T_56666786_9eb4_11eb_85b0_4c1d9604228dlevel0_row5\" class=\"row_heading level0 row5\" >5</th>\n",
       "                        <td id=\"T_56666786_9eb4_11eb_85b0_4c1d9604228drow5_col0\" class=\"data row5 col0\" >range</td>\n",
       "                        <td id=\"T_56666786_9eb4_11eb_85b0_4c1d9604228drow5_col1\" class=\"data row5 col1\" >4931</td>\n",
       "            </tr>\n",
       "            <tr>\n",
       "                        <th id=\"T_56666786_9eb4_11eb_85b0_4c1d9604228dlevel0_row6\" class=\"row_heading level0 row6\" >6</th>\n",
       "                        <td id=\"T_56666786_9eb4_11eb_85b0_4c1d9604228drow6_col0\" class=\"data row6 col0\" >minimum</td>\n",
       "                        <td id=\"T_56666786_9eb4_11eb_85b0_4c1d9604228drow6_col1\" class=\"data row6 col1\" >2522</td>\n",
       "            </tr>\n",
       "            <tr>\n",
       "                        <th id=\"T_56666786_9eb4_11eb_85b0_4c1d9604228dlevel0_row7\" class=\"row_heading level0 row7\" >7</th>\n",
       "                        <td id=\"T_56666786_9eb4_11eb_85b0_4c1d9604228drow7_col0\" class=\"data row7 col0\" >maksimum</td>\n",
       "                        <td id=\"T_56666786_9eb4_11eb_85b0_4c1d9604228drow7_col1\" class=\"data row7 col1\" >7453</td>\n",
       "            </tr>\n",
       "            <tr>\n",
       "                        <th id=\"T_56666786_9eb4_11eb_85b0_4c1d9604228dlevel0_row8\" class=\"row_heading level0 row8\" >8</th>\n",
       "                        <td id=\"T_56666786_9eb4_11eb_85b0_4c1d9604228drow8_col0\" class=\"data row8 col0\" >kuartil 1</td>\n",
       "                        <td id=\"T_56666786_9eb4_11eb_85b0_4c1d9604228drow8_col1\" class=\"data row8 col1\" >4042.750000</td>\n",
       "            </tr>\n",
       "            <tr>\n",
       "                        <th id=\"T_56666786_9eb4_11eb_85b0_4c1d9604228dlevel0_row9\" class=\"row_heading level0 row9\" >9</th>\n",
       "                        <td id=\"T_56666786_9eb4_11eb_85b0_4c1d9604228drow9_col0\" class=\"data row9 col0\" >kuartil 2</td>\n",
       "                        <td id=\"T_56666786_9eb4_11eb_85b0_4c1d9604228drow9_col1\" class=\"data row9 col1\" >4735.000000</td>\n",
       "            </tr>\n",
       "            <tr>\n",
       "                        <th id=\"T_56666786_9eb4_11eb_85b0_4c1d9604228dlevel0_row10\" class=\"row_heading level0 row10\" >10</th>\n",
       "                        <td id=\"T_56666786_9eb4_11eb_85b0_4c1d9604228drow10_col0\" class=\"data row10 col0\" >kuartil 3</td>\n",
       "                        <td id=\"T_56666786_9eb4_11eb_85b0_4c1d9604228drow10_col1\" class=\"data row10 col1\" >5495.500000</td>\n",
       "            </tr>\n",
       "            <tr>\n",
       "                        <th id=\"T_56666786_9eb4_11eb_85b0_4c1d9604228dlevel0_row11\" class=\"row_heading level0 row11\" >11</th>\n",
       "                        <td id=\"T_56666786_9eb4_11eb_85b0_4c1d9604228drow11_col0\" class=\"data row11 col0\" >IQR</td>\n",
       "                        <td id=\"T_56666786_9eb4_11eb_85b0_4c1d9604228drow11_col1\" class=\"data row11 col1\" >1452.750000</td>\n",
       "            </tr>\n",
       "            <tr>\n",
       "                        <th id=\"T_56666786_9eb4_11eb_85b0_4c1d9604228dlevel0_row12\" class=\"row_heading level0 row12\" >12</th>\n",
       "                        <td id=\"T_56666786_9eb4_11eb_85b0_4c1d9604228drow12_col0\" class=\"data row12 col0\" >skewness</td>\n",
       "                        <td id=\"T_56666786_9eb4_11eb_85b0_4c1d9604228drow12_col1\" class=\"data row12 col1\" >0.238144</td>\n",
       "            </tr>\n",
       "            <tr>\n",
       "                        <th id=\"T_56666786_9eb4_11eb_85b0_4c1d9604228dlevel0_row13\" class=\"row_heading level0 row13\" >13</th>\n",
       "                        <td id=\"T_56666786_9eb4_11eb_85b0_4c1d9604228drow13_col0\" class=\"data row13 col0\" >kurtosis</td>\n",
       "                        <td id=\"T_56666786_9eb4_11eb_85b0_4c1d9604228drow13_col1\" class=\"data row13 col1\" >-0.434631</td>\n",
       "            </tr>\n",
       "    </tbody></table>"
      ],
      "text/plain": [
       "<pandas.io.formats.style.Styler at 0x17d992bf390>"
      ]
     },
     "execution_count": 7,
     "metadata": {},
     "output_type": "execute_result"
    }
   ],
   "source": [
    "# Daerah\n",
    "nomor1('Daerah')"
   ]
  },
  {
   "cell_type": "code",
   "execution_count": 8,
   "id": "55d2e940",
   "metadata": {},
   "outputs": [
    {
     "data": {
      "text/html": [
       "<style  type=\"text/css\" >\n",
       "</style><table id=\"T_5719cbe2_9eb4_11eb_9eb4_4c1d9604228d\" style='display:inline'><caption>Deskripsi Statistik SumbuUtama</caption><thead>    <tr>        <th class=\"blank level0\" ></th>        <th class=\"col_heading level0 col0\" >0</th>        <th class=\"col_heading level0 col1\" >1</th>    </tr></thead><tbody>\n",
       "                <tr>\n",
       "                        <th id=\"T_5719cbe2_9eb4_11eb_9eb4_4c1d9604228dlevel0_row0\" class=\"row_heading level0 row0\" >0</th>\n",
       "                        <td id=\"T_5719cbe2_9eb4_11eb_9eb4_4c1d9604228drow0_col0\" class=\"data row0 col0\" >mean</td>\n",
       "                        <td id=\"T_5719cbe2_9eb4_11eb_9eb4_4c1d9604228drow0_col1\" class=\"data row0 col1\" >116.045171</td>\n",
       "            </tr>\n",
       "            <tr>\n",
       "                        <th id=\"T_5719cbe2_9eb4_11eb_9eb4_4c1d9604228dlevel0_row1\" class=\"row_heading level0 row1\" >1</th>\n",
       "                        <td id=\"T_5719cbe2_9eb4_11eb_9eb4_4c1d9604228drow1_col0\" class=\"data row1 col0\" >median</td>\n",
       "                        <td id=\"T_5719cbe2_9eb4_11eb_9eb4_4c1d9604228drow1_col1\" class=\"data row1 col1\" >115.405140</td>\n",
       "            </tr>\n",
       "            <tr>\n",
       "                        <th id=\"T_5719cbe2_9eb4_11eb_9eb4_4c1d9604228dlevel0_row2\" class=\"row_heading level0 row2\" >2</th>\n",
       "                        <td id=\"T_5719cbe2_9eb4_11eb_9eb4_4c1d9604228drow2_col0\" class=\"data row2 col0\" >modus</td>\n",
       "                        <td id=\"T_5719cbe2_9eb4_11eb_9eb4_4c1d9604228drow2_col1\" class=\"data row2 col1\" >[ 74.13311404  74.36402121  74.69188071  76.2931638   76.78904267\n",
       "  77.03362772  77.04768244  77.09079003  77.41707342  81.27755239\n",
       "  81.3042004   82.57014058  82.87781414  83.37848692  83.82327008\n",
       "  84.05848002  84.32356418  84.54078476  84.58114773  85.12478457\n",
       "  86.56781638  86.95241143  87.3845036   87.41286344  87.97830505\n",
       "  87.98665592  88.0017938   88.02937756  88.11593906  88.77990424\n",
       "  88.92210563  89.40212268  89.49579817  89.54280748  90.07527599\n",
       "  90.76577027  91.05330784  91.13033539  91.40038634  91.87618278\n",
       "  92.20828955  92.21294021  92.2293165   92.43690606  92.47994738\n",
       "  92.58932307  93.52974726  93.5356072   93.76361246  93.9988852\n",
       "  94.00143053  94.00787826  94.12263105  94.17620603  94.26939767\n",
       "  94.53973823  94.59943367  94.63650283  94.91539197  95.00364795\n",
       "  95.17012555  95.2470937   95.37622831  95.46121147  95.69548849\n",
       "  95.74362731  95.97894614  96.03513343  96.14211158  96.23547918\n",
       "  96.29743756  96.33549432  96.35268965  96.40313032  96.60035011\n",
       "  97.08081574  97.32531129  97.47084902  97.69259544  97.77562771\n",
       "  97.97380616  98.21898138  98.2198269   98.35854914  98.37247663\n",
       "  98.37593738  98.86216016  99.01478925  99.21752118  99.32051276\n",
       "  99.47215247  99.49226615  99.60332963  99.79394795  99.88402006\n",
       "  99.93450497  99.93602686 100.0223281  100.4167531  100.5093206\n",
       " 100.5480488  100.698893   100.7357227  100.7501023  101.1105249\n",
       " 101.3157423  101.45421    101.5810398  101.8422762  101.9698018\n",
       " 101.986251   102.1971523  102.2953523  102.320702   102.3709892\n",
       " 102.4485604  102.4749007  102.8634748  103.2901421  103.5232905\n",
       " 103.6999129  103.7527928  103.8253162  103.894842   103.9579819\n",
       " 104.1688036  104.1744438  104.2664186  104.272109   104.3276353\n",
       " 104.3280876  104.3378697  104.3388145  104.6666913  104.8104398\n",
       " 104.9579846  105.3373586  105.4041588  105.5405362  105.5612967\n",
       " 105.6187899  105.6400951  105.6451601  105.9127833  106.0365044\n",
       " 106.1024587  106.1158346  106.2162594  106.25667    106.2923105\n",
       " 106.3301589  106.3932719  106.4473886  106.5010619  106.5811347\n",
       " 106.5972033  106.7211415  106.8064769  106.8208342  106.8561506\n",
       " 106.9162059  106.9605737  106.9693936  107.0147691  107.1803967\n",
       " 107.2441145  107.2664178  107.2992964  107.3117282  107.3323015\n",
       " 107.4234632  107.4901282  107.515859   107.6060473  107.6272465\n",
       " 107.780575   107.8182786  107.830578   107.8974401  107.9361607\n",
       " 108.0411686  108.0691562  108.0842945  108.1493814  108.3345087\n",
       " 108.6018895  108.6173366  108.7011905  108.9832503  109.0780728\n",
       " 109.0975949  109.2221888  109.2448278  109.3320256  109.3482943\n",
       " 109.3557051  109.3909238  109.419762   109.7155482  109.7356066\n",
       " 109.8055701  109.8486599  110.1418199  110.2029953  110.4464398\n",
       " 110.4531344  110.4948924  110.5368768  110.6219338  110.6894983\n",
       " 110.7022218  110.9722142  111.0079213  111.231913   111.2556534\n",
       " 111.3236714  111.7058775  111.7161753  111.7569232  111.7977586\n",
       " 112.1203439  112.173828   112.3670498  112.4289564  113.0192872\n",
       " 113.0268924  113.0982598  113.3293145  113.3307374  113.4990733\n",
       " 113.5134456  113.529303   113.5868234  113.664381   113.719943\n",
       " 113.7689435  113.8160966  113.8714491  114.015075   114.1212737\n",
       " 114.2651167  114.4279914  114.4543656  114.6402584  114.7953243\n",
       " 114.9422326  114.9435821  115.0649959  115.2274784  115.3967443\n",
       " 115.4135356  115.5183228  115.7148758  115.7543147  115.8597799\n",
       " 115.8966117  116.0601546  116.1939725  116.2937463  116.3895145\n",
       " 116.4064279  116.4812077  117.2504881  117.3431374  117.4265099\n",
       " 117.4406074  117.7277342  117.9279205  118.0428891  118.0977083\n",
       " 118.2361891  118.2847646  118.5822997  118.805766   118.8225877\n",
       " 118.8853189  118.9054023  119.0035819  119.0063356  119.2490531\n",
       " 119.4916115  119.6187778  119.8611577  119.8737416  119.9345923\n",
       " 120.0379792  120.0437924  120.0834497  120.1209915  120.1405384\n",
       " 120.6979911  120.7283328  120.7373788  120.8171894  120.9747517\n",
       " 121.0072161  121.0657867  121.3226446  121.5526062  121.9966621\n",
       " 122.0421307  122.0585037  122.1619579  122.1912997  122.2136145\n",
       " 122.7478685  122.8211457  123.0018106  123.0033869  123.0370935\n",
       " 123.0789249  123.1084563  123.1519679  123.4300431  123.4962215\n",
       " 123.4969179  123.5226615  123.6655012  123.6906866  123.8644522\n",
       " 123.9306004  123.9435304  123.9603486  123.991228   124.0033857\n",
       " 124.084748   124.2348815  124.2806183  124.4496928  124.5148772\n",
       " 124.6260959  124.7248074  124.8235842  124.904374   124.9396755\n",
       " 125.003672   125.1644596  125.2441841  125.2643871  125.3132385\n",
       " 125.3959043  125.3970223  125.5554308  125.5654589  125.5864509\n",
       " 125.6229894  125.8384269  125.8670623  125.9189141  125.9803048\n",
       " 126.2778934  126.2920083  126.3149145  126.4068098  126.4776571\n",
       " 126.6010653  126.6443526  126.8097594  127.0139951  127.0159877\n",
       " 127.1641483  127.2987968  127.5101183  127.6522495  128.0022172\n",
       " 128.0663147  128.1784256  128.2147081  128.2888753  128.4823393\n",
       " 128.6306201  128.6889548  128.7618704  129.0205405  129.037623\n",
       " 129.0742991  129.0803     129.0807906  129.098407   129.1812458\n",
       " 129.1862369  129.5767591  129.7610596  129.8095836  130.0598902\n",
       " 130.2207659  130.2621314  130.2739254  130.3923317  130.4379451\n",
       " 130.4457155  130.6999931  130.83002    130.9221608  130.9643735\n",
       " 131.152746   131.2915779  131.4621525  131.609712   131.629047\n",
       " 131.6302887  131.8083893  132.2525025  132.3942597  132.4816506\n",
       " 132.6956228  132.723628   132.7560217  132.7895598  133.0157281\n",
       " 133.084582   133.1994688  133.2444458  133.3679075  133.4361583\n",
       " 133.4399856  133.4634273  133.5949267  133.6271788  133.6566273\n",
       " 133.881794   133.9713999  134.1673184  134.2316812  134.2851441\n",
       " 134.4606566  134.4930235  134.5195056  134.5617589  134.6662091\n",
       " 134.8275164  134.9710615  135.1197917  135.2490597  135.2677147\n",
       " 135.8156503  135.8597438  135.9417416  136.0519648  136.3036028\n",
       " 136.3800864  136.5709394  136.6145396  136.6195076  136.7764526\n",
       " 136.8780111  136.8870215  137.0297517  137.1638147  137.4244119\n",
       " 137.8932058  137.9956035  138.0376883  138.2095558  138.3324882\n",
       " 138.5717146  139.0147323  139.0922395  139.180131   139.2741572\n",
       " 139.5753817  139.9708612  140.3828578  140.4063965  140.4275867\n",
       " 141.0341403  141.0651834  141.1236288  141.1434891  141.3583591\n",
       " 141.4124755  141.7730175  142.0806537  142.34725    142.3807955\n",
       " 142.4027871  142.5335656  142.9495008  143.9124976  144.267473\n",
       " 144.3587743  144.4331141  144.4487392  144.9073336  146.177056\n",
       " 146.3717849  146.5902286  146.6962997  146.7290182  147.0057745\n",
       " 147.138743   147.4293134  147.8905453  150.429964   151.6017657\n",
       " 152.0684401  152.1134913  153.583387   227.1054624  227.9285827 ]</td>\n",
       "            </tr>\n",
       "            <tr>\n",
       "                        <th id=\"T_5719cbe2_9eb4_11eb_9eb4_4c1d9604228dlevel0_row3\" class=\"row_heading level0 row3\" >3</th>\n",
       "                        <td id=\"T_5719cbe2_9eb4_11eb_9eb4_4c1d9604228drow3_col0\" class=\"data row3 col0\" >standar deviasi</td>\n",
       "                        <td id=\"T_5719cbe2_9eb4_11eb_9eb4_4c1d9604228drow3_col1\" class=\"data row3 col1\" >18.282626</td>\n",
       "            </tr>\n",
       "            <tr>\n",
       "                        <th id=\"T_5719cbe2_9eb4_11eb_9eb4_4c1d9604228dlevel0_row4\" class=\"row_heading level0 row4\" >4</th>\n",
       "                        <td id=\"T_5719cbe2_9eb4_11eb_9eb4_4c1d9604228drow4_col0\" class=\"data row4 col0\" >variansi</td>\n",
       "                        <td id=\"T_5719cbe2_9eb4_11eb_9eb4_4c1d9604228drow4_col1\" class=\"data row4 col1\" >334.254412</td>\n",
       "            </tr>\n",
       "            <tr>\n",
       "                        <th id=\"T_5719cbe2_9eb4_11eb_9eb4_4c1d9604228dlevel0_row5\" class=\"row_heading level0 row5\" >5</th>\n",
       "                        <td id=\"T_5719cbe2_9eb4_11eb_9eb4_4c1d9604228drow5_col0\" class=\"data row5 col0\" >range</td>\n",
       "                        <td id=\"T_5719cbe2_9eb4_11eb_9eb4_4c1d9604228drow5_col1\" class=\"data row5 col1\" >153.795469</td>\n",
       "            </tr>\n",
       "            <tr>\n",
       "                        <th id=\"T_5719cbe2_9eb4_11eb_9eb4_4c1d9604228dlevel0_row6\" class=\"row_heading level0 row6\" >6</th>\n",
       "                        <td id=\"T_5719cbe2_9eb4_11eb_9eb4_4c1d9604228drow6_col0\" class=\"data row6 col0\" >minimum</td>\n",
       "                        <td id=\"T_5719cbe2_9eb4_11eb_9eb4_4c1d9604228drow6_col1\" class=\"data row6 col1\" >74.133114</td>\n",
       "            </tr>\n",
       "            <tr>\n",
       "                        <th id=\"T_5719cbe2_9eb4_11eb_9eb4_4c1d9604228dlevel0_row7\" class=\"row_heading level0 row7\" >7</th>\n",
       "                        <td id=\"T_5719cbe2_9eb4_11eb_9eb4_4c1d9604228drow7_col0\" class=\"data row7 col0\" >maksimum</td>\n",
       "                        <td id=\"T_5719cbe2_9eb4_11eb_9eb4_4c1d9604228drow7_col1\" class=\"data row7 col1\" >227.928583</td>\n",
       "            </tr>\n",
       "            <tr>\n",
       "                        <th id=\"T_5719cbe2_9eb4_11eb_9eb4_4c1d9604228dlevel0_row8\" class=\"row_heading level0 row8\" >8</th>\n",
       "                        <td id=\"T_5719cbe2_9eb4_11eb_9eb4_4c1d9604228drow8_col0\" class=\"data row8 col0\" >kuartil 1</td>\n",
       "                        <td id=\"T_5719cbe2_9eb4_11eb_9eb4_4c1d9604228drow8_col1\" class=\"data row8 col1\" >104.116098</td>\n",
       "            </tr>\n",
       "            <tr>\n",
       "                        <th id=\"T_5719cbe2_9eb4_11eb_9eb4_4c1d9604228dlevel0_row9\" class=\"row_heading level0 row9\" >9</th>\n",
       "                        <td id=\"T_5719cbe2_9eb4_11eb_9eb4_4c1d9604228drow9_col0\" class=\"data row9 col0\" >kuartil 2</td>\n",
       "                        <td id=\"T_5719cbe2_9eb4_11eb_9eb4_4c1d9604228drow9_col1\" class=\"data row9 col1\" >115.405140</td>\n",
       "            </tr>\n",
       "            <tr>\n",
       "                        <th id=\"T_5719cbe2_9eb4_11eb_9eb4_4c1d9604228dlevel0_row10\" class=\"row_heading level0 row10\" >10</th>\n",
       "                        <td id=\"T_5719cbe2_9eb4_11eb_9eb4_4c1d9604228drow10_col0\" class=\"data row10 col0\" >kuartil 3</td>\n",
       "                        <td id=\"T_5719cbe2_9eb4_11eb_9eb4_4c1d9604228drow10_col1\" class=\"data row10 col1\" >129.046792</td>\n",
       "            </tr>\n",
       "            <tr>\n",
       "                        <th id=\"T_5719cbe2_9eb4_11eb_9eb4_4c1d9604228dlevel0_row11\" class=\"row_heading level0 row11\" >11</th>\n",
       "                        <td id=\"T_5719cbe2_9eb4_11eb_9eb4_4c1d9604228drow11_col0\" class=\"data row11 col0\" >IQR</td>\n",
       "                        <td id=\"T_5719cbe2_9eb4_11eb_9eb4_4c1d9604228drow11_col1\" class=\"data row11 col1\" >24.930694</td>\n",
       "            </tr>\n",
       "            <tr>\n",
       "                        <th id=\"T_5719cbe2_9eb4_11eb_9eb4_4c1d9604228dlevel0_row12\" class=\"row_heading level0 row12\" >12</th>\n",
       "                        <td id=\"T_5719cbe2_9eb4_11eb_9eb4_4c1d9604228drow12_col0\" class=\"data row12 col0\" >skewness</td>\n",
       "                        <td id=\"T_5719cbe2_9eb4_11eb_9eb4_4c1d9604228drow12_col1\" class=\"data row12 col1\" >0.761529</td>\n",
       "            </tr>\n",
       "            <tr>\n",
       "                        <th id=\"T_5719cbe2_9eb4_11eb_9eb4_4c1d9604228dlevel0_row13\" class=\"row_heading level0 row13\" >13</th>\n",
       "                        <td id=\"T_5719cbe2_9eb4_11eb_9eb4_4c1d9604228drow13_col0\" class=\"data row13 col0\" >kurtosis</td>\n",
       "                        <td id=\"T_5719cbe2_9eb4_11eb_9eb4_4c1d9604228drow13_col1\" class=\"data row13 col1\" >4.330534</td>\n",
       "            </tr>\n",
       "    </tbody></table>"
      ],
      "text/plain": [
       "<pandas.io.formats.style.Styler at 0x17d992a4b00>"
      ]
     },
     "execution_count": 8,
     "metadata": {},
     "output_type": "execute_result"
    }
   ],
   "source": [
    "# SumbuUtama\n",
    "nomor1('SumbuUtama')"
   ]
  },
  {
   "cell_type": "code",
   "execution_count": 9,
   "id": "e0b696ac",
   "metadata": {},
   "outputs": [
    {
     "data": {
      "text/html": [
       "<style  type=\"text/css\" >\n",
       "</style><table id=\"T_581539a4_9eb4_11eb_bd67_4c1d9604228d\" style='display:inline'><caption>Deskripsi Statistik SumbuKecil</caption><thead>    <tr>        <th class=\"blank level0\" ></th>        <th class=\"col_heading level0 col0\" >0</th>        <th class=\"col_heading level0 col1\" >1</th>    </tr></thead><tbody>\n",
       "                <tr>\n",
       "                        <th id=\"T_581539a4_9eb4_11eb_bd67_4c1d9604228dlevel0_row0\" class=\"row_heading level0 row0\" >0</th>\n",
       "                        <td id=\"T_581539a4_9eb4_11eb_bd67_4c1d9604228drow0_col0\" class=\"data row0 col0\" >mean</td>\n",
       "                        <td id=\"T_581539a4_9eb4_11eb_bd67_4c1d9604228drow0_col1\" class=\"data row0 col1\" >53.715246</td>\n",
       "            </tr>\n",
       "            <tr>\n",
       "                        <th id=\"T_581539a4_9eb4_11eb_bd67_4c1d9604228dlevel0_row1\" class=\"row_heading level0 row1\" >1</th>\n",
       "                        <td id=\"T_581539a4_9eb4_11eb_bd67_4c1d9604228drow1_col0\" class=\"data row1 col0\" >median</td>\n",
       "                        <td id=\"T_581539a4_9eb4_11eb_bd67_4c1d9604228drow1_col1\" class=\"data row1 col1\" >53.731199</td>\n",
       "            </tr>\n",
       "            <tr>\n",
       "                        <th id=\"T_581539a4_9eb4_11eb_bd67_4c1d9604228dlevel0_row2\" class=\"row_heading level0 row2\" >2</th>\n",
       "                        <td id=\"T_581539a4_9eb4_11eb_bd67_4c1d9604228drow2_col0\" class=\"data row2 col0\" >modus</td>\n",
       "                        <td id=\"T_581539a4_9eb4_11eb_bd67_4c1d9604228drow2_col1\" class=\"data row2 col1\" >[39.90651744 41.43641868 42.87187941 43.28497882 44.11935531 44.12313831\n",
       " 44.55523434 44.63155114 44.80273426 44.81011044 44.87519946 44.94078546\n",
       " 45.24113928 45.26165673 45.3742466  45.52911212 45.78398888 45.88286667\n",
       " 45.89775233 46.01282025 46.05036728 46.23892946 46.81157756 46.83791704\n",
       " 46.94326548 46.99201881 47.02590414 47.12533466 47.13315533 47.13968338\n",
       " 47.15593922 47.31982512 47.54017615 47.64940038 47.69255121 47.73887538\n",
       " 47.9325942  48.03406538 48.05318758 48.07414422 48.12622906 48.16081418\n",
       " 48.27920161 48.33770705 48.44034455 48.55849663 48.62133126 48.73552413\n",
       " 48.8009917  48.80975228 48.83939057 48.84442145 48.90235887 48.93080224\n",
       " 48.95934176 49.06249966 49.06935374 49.10437226 49.12511552 49.14862456\n",
       " 49.16736189 49.22548543 49.24267814 49.2484593  49.31615584 49.33311864\n",
       " 49.3411712  49.34837868 49.37002437 49.39653936 49.44130516 49.45734894\n",
       " 49.52659704 49.58314468 49.64746533 49.66997344 49.75342248 49.8376875\n",
       " 49.88557273 49.89166435 49.99383017 50.02465547 50.13791447 50.15451213\n",
       " 50.18648304 50.20161732 50.21689738 50.23674047 50.26503783 50.30696932\n",
       " 50.31824228 50.34002156 50.3440607  50.35078641 50.38129497 50.40674957\n",
       " 50.43880144 50.44282234 50.49647509 50.51191604 50.51491056 50.52519208\n",
       " 50.52718252 50.55859111 50.57754473 50.62414147 50.6631383  50.70506339\n",
       " 50.71577122 50.74565115 50.79059698 50.79355129 50.8078401  50.81390793\n",
       " 50.87502689 50.90915187 50.9543441  51.01698501 51.05518917 51.07067636\n",
       " 51.07711152 51.08260448 51.14681966 51.18395809 51.19004627 51.19475302\n",
       " 51.20220775 51.28416875 51.29491408 51.31237346 51.35134765 51.36408785\n",
       " 51.36464535 51.36513446 51.36922513 51.3813348  51.40045446 51.41678314\n",
       " 51.46334912 51.48838799 51.4952914  51.5104279  51.52527338 51.53272243\n",
       " 51.56715505 51.59419579 51.64579845 51.66611058 51.66774487 51.68537529\n",
       " 51.71361378 51.71568655 51.78753009 51.85164606 51.86429927 51.87272624\n",
       " 51.87325399 51.90747401 51.91358009 51.92222212 51.92848667 51.93962023\n",
       " 51.9735486  51.99738757 52.0250802  52.02727997 52.04349114 52.06616637\n",
       " 52.0746236  52.07642841 52.09462225 52.10565058 52.14737228 52.15120679\n",
       " 52.17637903 52.19604698 52.22960782 52.25358497 52.27703901 52.30281469\n",
       " 52.30336252 52.31378371 52.31804963 52.32413559 52.32501448 52.38486049\n",
       " 52.40467224 52.4323366  52.43244079 52.45069063 52.4511359  52.47633057\n",
       " 52.48567756 52.48729068 52.49343954 52.51306281 52.5886165  52.60182365\n",
       " 52.61238315 52.61389592 52.65198942 52.68167884 52.69032762 52.72642645\n",
       " 52.73574362 52.76486452 52.77875015 52.78024542 52.78100382 52.81908582\n",
       " 52.84771577 52.84775827 52.88819805 52.89732251 52.90751618 52.95148583\n",
       " 52.9861638  52.99859978 53.01542506 53.09012652 53.0920322  53.13975738\n",
       " 53.15412282 53.17603697 53.1912048  53.1936825  53.23867944 53.28323892\n",
       " 53.30208661 53.3142954  53.32667827 53.34879907 53.36725831 53.38323965\n",
       " 53.38772664 53.40982683 53.42470023 53.43802216 53.44922494 53.45390584\n",
       " 53.45686204 53.47694772 53.48524695 53.53444948 53.54299328 53.56818644\n",
       " 53.63079347 53.70860038 53.7163328  53.72745253 53.73494502 53.74148331\n",
       " 53.76839227 53.80876967 53.81889593 53.84724626 53.85539635 53.86276766\n",
       " 53.87284326 53.87480874 53.8901512  53.91266267 53.97675659 53.99067461\n",
       " 54.05545555 54.05568063 54.08801741 54.10522429 54.21520552 54.2487085\n",
       " 54.28666365 54.30216853 54.3029021  54.36164284 54.37499282 54.37937746\n",
       " 54.38703038 54.4026735  54.41165575 54.4259274  54.4293035  54.43345386\n",
       " 54.45602198 54.48061344 54.48500011 54.49081793 54.50369237 54.52957006\n",
       " 54.53488492 54.55141565 54.57328405 54.66357193 54.66500185 54.67086487\n",
       " 54.71854525 54.73130459 54.73755333 54.7883112  54.81120375 54.82157996\n",
       " 54.82410069 54.83162027 54.83454494 54.86535794 54.92936825 54.92957964\n",
       " 54.94802805 54.97468691 55.03698356 55.03706832 55.04964734 55.08209826\n",
       " 55.08589466 55.11140291 55.19301256 55.20183645 55.21937217 55.22951728\n",
       " 55.27701192 55.28355112 55.30187602 55.31763147 55.33510202 55.34456288\n",
       " 55.34858972 55.35515604 55.37329946 55.38850592 55.39145755 55.39471737\n",
       " 55.39486495 55.41306133 55.41384666 55.44460968 55.44610788 55.46048507\n",
       " 55.47569683 55.50969084 55.57226815 55.61545032 55.62897901 55.63227728\n",
       " 55.66036397 55.6734017  55.68618329 55.72407565 55.73154196 55.73978445\n",
       " 55.75784788 55.7786501  55.81294139 55.81780631 55.81961637 55.86103791\n",
       " 55.8747349  55.87488082 55.91659689 55.91833049 55.92340017 55.95378028\n",
       " 55.96028775 55.96674868 55.96797915 55.97868866 56.00515296 56.11190573\n",
       " 56.11813541 56.14063497 56.14671184 56.19223391 56.20142521 56.20161967\n",
       " 56.23539815 56.29384365 56.32429689 56.32774126 56.36935775 56.37402054\n",
       " 56.38621395 56.39083506 56.3920177  56.4069029  56.41101106 56.42123689\n",
       " 56.43017494 56.44476861 56.46244162 56.4790283  56.49175078 56.55003031\n",
       " 56.60794623 56.6442029  56.64723153 56.6555965  56.65960303 56.66273543\n",
       " 56.68285423 56.80713383 56.84208808 56.88186745 56.88935479 56.90043992\n",
       " 56.91197897 56.94218191 56.98484397 56.98886817 57.01859044 57.05443377\n",
       " 57.06421701 57.06786443 57.07943418 57.17892838 57.17941587 57.23821435\n",
       " 57.26437529 57.29556014 57.37269718 57.38530573 57.40293611 57.40544291\n",
       " 57.43165941 57.58988352 57.6131887  57.61755431 57.61952234 57.66596082\n",
       " 57.70866139 57.71611459 57.72255233 57.73350774 57.74622982 57.78159612\n",
       " 57.90922261 57.99418631 58.02999061 58.04315267 58.145802   58.16517707\n",
       " 58.1835187  58.21163627 58.21205006 58.28623371 58.3242352  58.36184935\n",
       " 58.37701343 58.45366738 58.47084588 58.50998343 58.54608192 58.55567096\n",
       " 58.57195048 58.78110107 58.81014204 58.90687675 59.0196392  59.12347743\n",
       " 59.23182036 59.254473   59.31319017 59.31434447 59.41414409 59.47327096\n",
       " 59.49805441 59.62625047 59.71033765 59.81104559 59.82281961 59.84329211\n",
       " 59.85390462 59.90157146 60.15695607 60.17811905 60.26176523 60.41631466\n",
       " 60.63224136 60.71394419 60.7533301  60.77690138 60.84233271 60.86592873\n",
       " 61.18062105 61.25272911 61.31214783 61.56537661 61.6740398  61.75362721\n",
       " 61.93266284 62.17534592 62.21498302 62.26812033 62.30497029 62.34924866\n",
       " 62.46606562 62.94989207 62.96183004 63.32285358 63.76230696 64.01276874\n",
       " 65.73847541 68.97769987]</td>\n",
       "            </tr>\n",
       "            <tr>\n",
       "                        <th id=\"T_581539a4_9eb4_11eb_bd67_4c1d9604228dlevel0_row3\" class=\"row_heading level0 row3\" >3</th>\n",
       "                        <td id=\"T_581539a4_9eb4_11eb_bd67_4c1d9604228drow3_col0\" class=\"data row3 col0\" >standar deviasi</td>\n",
       "                        <td id=\"T_581539a4_9eb4_11eb_bd67_4c1d9604228drow3_col1\" class=\"data row3 col1\" >4.071075</td>\n",
       "            </tr>\n",
       "            <tr>\n",
       "                        <th id=\"T_581539a4_9eb4_11eb_bd67_4c1d9604228dlevel0_row4\" class=\"row_heading level0 row4\" >4</th>\n",
       "                        <td id=\"T_581539a4_9eb4_11eb_bd67_4c1d9604228drow4_col0\" class=\"data row4 col0\" >variansi</td>\n",
       "                        <td id=\"T_581539a4_9eb4_11eb_bd67_4c1d9604228drow4_col1\" class=\"data row4 col1\" >16.573650</td>\n",
       "            </tr>\n",
       "            <tr>\n",
       "                        <th id=\"T_581539a4_9eb4_11eb_bd67_4c1d9604228dlevel0_row5\" class=\"row_heading level0 row5\" >5</th>\n",
       "                        <td id=\"T_581539a4_9eb4_11eb_bd67_4c1d9604228drow5_col0\" class=\"data row5 col0\" >range</td>\n",
       "                        <td id=\"T_581539a4_9eb4_11eb_bd67_4c1d9604228drow5_col1\" class=\"data row5 col1\" >29.071182</td>\n",
       "            </tr>\n",
       "            <tr>\n",
       "                        <th id=\"T_581539a4_9eb4_11eb_bd67_4c1d9604228dlevel0_row6\" class=\"row_heading level0 row6\" >6</th>\n",
       "                        <td id=\"T_581539a4_9eb4_11eb_bd67_4c1d9604228drow6_col0\" class=\"data row6 col0\" >minimum</td>\n",
       "                        <td id=\"T_581539a4_9eb4_11eb_bd67_4c1d9604228drow6_col1\" class=\"data row6 col1\" >39.906517</td>\n",
       "            </tr>\n",
       "            <tr>\n",
       "                        <th id=\"T_581539a4_9eb4_11eb_bd67_4c1d9604228dlevel0_row7\" class=\"row_heading level0 row7\" >7</th>\n",
       "                        <td id=\"T_581539a4_9eb4_11eb_bd67_4c1d9604228drow7_col0\" class=\"data row7 col0\" >maksimum</td>\n",
       "                        <td id=\"T_581539a4_9eb4_11eb_bd67_4c1d9604228drow7_col1\" class=\"data row7 col1\" >68.977700</td>\n",
       "            </tr>\n",
       "            <tr>\n",
       "                        <th id=\"T_581539a4_9eb4_11eb_bd67_4c1d9604228dlevel0_row8\" class=\"row_heading level0 row8\" >8</th>\n",
       "                        <td id=\"T_581539a4_9eb4_11eb_bd67_4c1d9604228drow8_col0\" class=\"data row8 col0\" >kuartil 1</td>\n",
       "                        <td id=\"T_581539a4_9eb4_11eb_bd67_4c1d9604228drow8_col1\" class=\"data row8 col1\" >51.193576</td>\n",
       "            </tr>\n",
       "            <tr>\n",
       "                        <th id=\"T_581539a4_9eb4_11eb_bd67_4c1d9604228dlevel0_row9\" class=\"row_heading level0 row9\" >9</th>\n",
       "                        <td id=\"T_581539a4_9eb4_11eb_bd67_4c1d9604228drow9_col0\" class=\"data row9 col0\" >kuartil 2</td>\n",
       "                        <td id=\"T_581539a4_9eb4_11eb_bd67_4c1d9604228drow9_col1\" class=\"data row9 col1\" >53.731199</td>\n",
       "            </tr>\n",
       "            <tr>\n",
       "                        <th id=\"T_581539a4_9eb4_11eb_bd67_4c1d9604228dlevel0_row10\" class=\"row_heading level0 row10\" >10</th>\n",
       "                        <td id=\"T_581539a4_9eb4_11eb_bd67_4c1d9604228drow10_col0\" class=\"data row10 col0\" >kuartil 3</td>\n",
       "                        <td id=\"T_581539a4_9eb4_11eb_bd67_4c1d9604228drow10_col1\" class=\"data row10 col1\" >56.325158</td>\n",
       "            </tr>\n",
       "            <tr>\n",
       "                        <th id=\"T_581539a4_9eb4_11eb_bd67_4c1d9604228dlevel0_row11\" class=\"row_heading level0 row11\" >11</th>\n",
       "                        <td id=\"T_581539a4_9eb4_11eb_bd67_4c1d9604228drow11_col0\" class=\"data row11 col0\" >IQR</td>\n",
       "                        <td id=\"T_581539a4_9eb4_11eb_bd67_4c1d9604228drow11_col1\" class=\"data row11 col1\" >5.131582</td>\n",
       "            </tr>\n",
       "            <tr>\n",
       "                        <th id=\"T_581539a4_9eb4_11eb_bd67_4c1d9604228dlevel0_row12\" class=\"row_heading level0 row12\" >12</th>\n",
       "                        <td id=\"T_581539a4_9eb4_11eb_bd67_4c1d9604228drow12_col0\" class=\"data row12 col0\" >skewness</td>\n",
       "                        <td id=\"T_581539a4_9eb4_11eb_bd67_4c1d9604228drow12_col1\" class=\"data row12 col1\" >-0.010828</td>\n",
       "            </tr>\n",
       "            <tr>\n",
       "                        <th id=\"T_581539a4_9eb4_11eb_bd67_4c1d9604228dlevel0_row13\" class=\"row_heading level0 row13\" >13</th>\n",
       "                        <td id=\"T_581539a4_9eb4_11eb_bd67_4c1d9604228drow13_col0\" class=\"data row13 col0\" >kurtosis</td>\n",
       "                        <td id=\"T_581539a4_9eb4_11eb_bd67_4c1d9604228drow13_col1\" class=\"data row13 col1\" >0.475568</td>\n",
       "            </tr>\n",
       "    </tbody></table>"
      ],
      "text/plain": [
       "<pandas.io.formats.style.Styler at 0x17d992bce10>"
      ]
     },
     "execution_count": 9,
     "metadata": {},
     "output_type": "execute_result"
    }
   ],
   "source": [
    "# SumbuKecil\n",
    "nomor1('SumbuKecil')"
   ]
  },
  {
   "cell_type": "code",
   "execution_count": 10,
   "id": "36ecead1",
   "metadata": {},
   "outputs": [
    {
     "data": {
      "text/html": [
       "<style  type=\"text/css\" >\n",
       "</style><table id=\"T_589f9c2c_9eb4_11eb_8fbe_4c1d9604228d\" style='display:inline'><caption>Deskripsi Statistik Keunikan</caption><thead>    <tr>        <th class=\"blank level0\" ></th>        <th class=\"col_heading level0 col0\" >0</th>        <th class=\"col_heading level0 col1\" >1</th>    </tr></thead><tbody>\n",
       "                <tr>\n",
       "                        <th id=\"T_589f9c2c_9eb4_11eb_8fbe_4c1d9604228dlevel0_row0\" class=\"row_heading level0 row0\" >0</th>\n",
       "                        <td id=\"T_589f9c2c_9eb4_11eb_8fbe_4c1d9604228drow0_col0\" class=\"data row0 col0\" >mean</td>\n",
       "                        <td id=\"T_589f9c2c_9eb4_11eb_8fbe_4c1d9604228drow0_col1\" class=\"data row0 col1\" >0.878764</td>\n",
       "            </tr>\n",
       "            <tr>\n",
       "                        <th id=\"T_589f9c2c_9eb4_11eb_8fbe_4c1d9604228dlevel0_row1\" class=\"row_heading level0 row1\" >1</th>\n",
       "                        <td id=\"T_589f9c2c_9eb4_11eb_8fbe_4c1d9604228drow1_col0\" class=\"data row1 col0\" >median</td>\n",
       "                        <td id=\"T_589f9c2c_9eb4_11eb_8fbe_4c1d9604228drow1_col1\" class=\"data row1 col1\" >0.890045</td>\n",
       "            </tr>\n",
       "            <tr>\n",
       "                        <th id=\"T_589f9c2c_9eb4_11eb_8fbe_4c1d9604228dlevel0_row2\" class=\"row_heading level0 row2\" >2</th>\n",
       "                        <td id=\"T_589f9c2c_9eb4_11eb_8fbe_4c1d9604228drow2_col0\" class=\"data row2 col0\" >modus</td>\n",
       "                        <td id=\"T_589f9c2c_9eb4_11eb_8fbe_4c1d9604228drow2_col1\" class=\"data row2 col1\" >[0.71991623 0.72555275 0.73121093 0.7386387  0.74928158 0.75286089\n",
       " 0.75376157 0.76066424 0.76122822 0.76305306 0.76317771 0.7640795\n",
       " 0.76910743 0.77428629 0.77637178 0.77664682 0.77750417 0.78643575\n",
       " 0.79627742 0.79693013 0.80038985 0.80239954 0.8035597  0.8044317\n",
       " 0.80526757 0.80568208 0.80799587 0.80849498 0.80885174 0.81043337\n",
       " 0.81214204 0.81479539 0.81530766 0.8174273  0.82008729 0.82087939\n",
       " 0.82094114 0.82292533 0.82294987 0.8237116  0.82371531 0.82693103\n",
       " 0.82697316 0.82746698 0.82757739 0.82776305 0.82786874 0.8290873\n",
       " 0.83110071 0.83147098 0.83202349 0.83207438 0.83230368 0.83262109\n",
       " 0.83314891 0.83398907 0.83468536 0.83505043 0.83676013 0.83751077\n",
       " 0.83810254 0.83821914 0.83902061 0.83908822 0.839478   0.83953038\n",
       " 0.83967982 0.84070239 0.84134409 0.84160685 0.84188195 0.84200103\n",
       " 0.84202196 0.84206865 0.84229337 0.8430083  0.84388123 0.84604539\n",
       " 0.84638724 0.84645073 0.84691255 0.84734752 0.84756631 0.84793567\n",
       " 0.84818356 0.848332   0.84835509 0.84972549 0.84997753 0.8505353\n",
       " 0.85132039 0.85141751 0.85145105 0.85161466 0.85212126 0.85219475\n",
       " 0.85246349 0.85315581 0.85334024 0.85350809 0.85381434 0.85463183\n",
       " 0.85508999 0.85543201 0.85547095 0.85622121 0.85668828 0.85673575\n",
       " 0.85793489 0.85800534 0.8585477  0.85896129 0.85978344 0.85980528\n",
       " 0.86048514 0.86130762 0.86199911 0.86205205 0.86238037 0.86259277\n",
       " 0.86263072 0.86289408 0.86292415 0.86293339 0.86366626 0.86367892\n",
       " 0.86372339 0.86402897 0.86405457 0.86407431 0.86535512 0.86539736\n",
       " 0.86550309 0.86569384 0.86574873 0.86608035 0.86619073 0.86624395\n",
       " 0.86649458 0.86675022 0.86696298 0.86715709 0.86724426 0.86760729\n",
       " 0.86762475 0.86783966 0.86785002 0.86799977 0.86812196 0.868134\n",
       " 0.86843876 0.86870276 0.8690427  0.86933497 0.86996783 0.87012557\n",
       " 0.87021252 0.87030527 0.87054922 0.87074793 0.87155129 0.8718538\n",
       " 0.87230653 0.87266194 0.87273544 0.87295164 0.87300076 0.87329643\n",
       " 0.87377343 0.87391071 0.87418877 0.87460011 0.87467047 0.8746811\n",
       " 0.87472602 0.87483333 0.87510454 0.87525848 0.87529402 0.87540512\n",
       " 0.8754423  0.87547829 0.87569006 0.87571532 0.87572542 0.87576057\n",
       " 0.87600915 0.8762072  0.87621971 0.87665161 0.87665207 0.87667717\n",
       " 0.87689078 0.87714128 0.87767028 0.87778895 0.87821655 0.87857217\n",
       " 0.87898496 0.8792422  0.87932338 0.87937584 0.87942393 0.87961759\n",
       " 0.87994362 0.87994475 0.87994706 0.88003987 0.88005644 0.880211\n",
       " 0.88028688 0.88048421 0.880622   0.8810307  0.88105495 0.88159107\n",
       " 0.88194359 0.88201255 0.88205038 0.88218688 0.88233375 0.88254501\n",
       " 0.88276955 0.88311631 0.88321592 0.88336426 0.8833676  0.8837356\n",
       " 0.88451303 0.88516808 0.88554131 0.88564263 0.88601958 0.88662536\n",
       " 0.88672633 0.88714487 0.8873755  0.88740761 0.88822511 0.88830833\n",
       " 0.88863637 0.88866333 0.88876933 0.88885244 0.88914133 0.8896397\n",
       " 0.88970852 0.88972635 0.88973975 0.88999575 0.89009509 0.89009751\n",
       " 0.89010492 0.89049939 0.8908758  0.89114537 0.89134392 0.89139809\n",
       " 0.89147122 0.89165806 0.89170105 0.89174249 0.8920695  0.89208396\n",
       " 0.89264699 0.89276307 0.89283272 0.89291518 0.89294405 0.89304891\n",
       " 0.89322516 0.89343297 0.89347144 0.89447775 0.89475943 0.89477707\n",
       " 0.89593142 0.89605222 0.89644435 0.89658426 0.89679269 0.89708659\n",
       " 0.89719828 0.89741506 0.89748919 0.89749346 0.89750009 0.89752385\n",
       " 0.89752961 0.89754436 0.8976698  0.89771649 0.89815424 0.89827862\n",
       " 0.89827867 0.89845188 0.89849247 0.89849879 0.89872218 0.89956242\n",
       " 0.89969394 0.89969875 0.89982784 0.89995553 0.90017008 0.90023022\n",
       " 0.90023155 0.90070978 0.90081688 0.9008247  0.90145447 0.90145915\n",
       " 0.9017719  0.90192397 0.90195241 0.90199191 0.90205221 0.90207393\n",
       " 0.90221966 0.90226148 0.90231536 0.90233874 0.90246037 0.9024656\n",
       " 0.90251388 0.90274834 0.90286228 0.90302047 0.90305959 0.90307938\n",
       " 0.90309414 0.90323358 0.90324149 0.90351695 0.90357801 0.903675\n",
       " 0.90370758 0.90381371 0.90387354 0.90393435 0.90396624 0.90397389\n",
       " 0.90409771 0.90417936 0.90441063 0.9044404  0.90447076 0.90467449\n",
       " 0.90477542 0.90503158 0.90506026 0.90507235 0.90516029 0.90517247\n",
       " 0.90525892 0.90532656 0.90540523 0.90556325 0.90559586 0.90563274\n",
       " 0.90597353 0.90607693 0.90620804 0.90625747 0.9062653  0.90631206\n",
       " 0.90641867 0.90644183 0.90669067 0.90684415 0.90689406 0.90723816\n",
       " 0.90736395 0.90753071 0.90754243 0.90768438 0.90770424 0.90776261\n",
       " 0.90778397 0.90778583 0.90785652 0.90790217 0.9079576  0.90797189\n",
       " 0.90798139 0.90800207 0.90830068 0.90835077 0.90835477 0.90843601\n",
       " 0.90848635 0.90850104 0.90853433 0.90857268 0.90857737 0.90862411\n",
       " 0.90868735 0.90873538 0.90880071 0.90881516 0.90885796 0.90888064\n",
       " 0.9089062  0.90899539 0.90899956 0.90906621 0.90912934 0.90916896\n",
       " 0.90928407 0.9093163  0.90935133 0.90940512 0.90960893 0.90965157\n",
       " 0.90977474 0.90980441 0.90982271 0.90983805 0.90987446 0.90987766\n",
       " 0.90991595 0.9100426  0.91006134 0.91008809 0.91017549 0.91030212\n",
       " 0.91031942 0.91035189 0.91043433 0.91050728 0.91054422 0.91056402\n",
       " 0.91056602 0.91080161 0.9108217  0.91084907 0.91086282 0.91100999\n",
       " 0.91104689 0.91106344 0.91106655 0.91113448 0.91114689 0.91118727\n",
       " 0.91124513 0.91125922 0.91127341 0.91153438 0.91155826 0.91158403\n",
       " 0.91165168 0.91168014 0.911702   0.91175486 0.91186074 0.91188183\n",
       " 0.9119111  0.91205704 0.91211794 0.91212044 0.9122362  0.91228586\n",
       " 0.91231555 0.91236428 0.91237996 0.91238333 0.91241408 0.91250024\n",
       " 0.91254542 0.91256091 0.91256809 0.91260538 0.91272012 0.91283918\n",
       " 0.91285083 0.91287561 0.91287718 0.91292059 0.91293647 0.91301705\n",
       " 0.91304403 0.91311096 0.91315261 0.91315428 0.91318903 0.91322302\n",
       " 0.91330854 0.91339908 0.91345308 0.9134774  0.91355014 0.9136069\n",
       " 0.91367162 0.9136807  0.91371328 0.9137237  0.91375991 0.91389084\n",
       " 0.91390906 0.91400141]</td>\n",
       "            </tr>\n",
       "            <tr>\n",
       "                        <th id=\"T_589f9c2c_9eb4_11eb_8fbe_4c1d9604228dlevel0_row3\" class=\"row_heading level0 row3\" >3</th>\n",
       "                        <td id=\"T_589f9c2c_9eb4_11eb_8fbe_4c1d9604228drow3_col0\" class=\"data row3 col0\" >standar deviasi</td>\n",
       "                        <td id=\"T_589f9c2c_9eb4_11eb_8fbe_4c1d9604228drow3_col1\" class=\"data row3 col1\" >0.036586</td>\n",
       "            </tr>\n",
       "            <tr>\n",
       "                        <th id=\"T_589f9c2c_9eb4_11eb_8fbe_4c1d9604228dlevel0_row4\" class=\"row_heading level0 row4\" >4</th>\n",
       "                        <td id=\"T_589f9c2c_9eb4_11eb_8fbe_4c1d9604228drow4_col0\" class=\"data row4 col0\" >variansi</td>\n",
       "                        <td id=\"T_589f9c2c_9eb4_11eb_8fbe_4c1d9604228drow4_col1\" class=\"data row4 col1\" >0.001339</td>\n",
       "            </tr>\n",
       "            <tr>\n",
       "                        <th id=\"T_589f9c2c_9eb4_11eb_8fbe_4c1d9604228dlevel0_row5\" class=\"row_heading level0 row5\" >5</th>\n",
       "                        <td id=\"T_589f9c2c_9eb4_11eb_8fbe_4c1d9604228drow5_col0\" class=\"data row5 col0\" >range</td>\n",
       "                        <td id=\"T_589f9c2c_9eb4_11eb_8fbe_4c1d9604228drow5_col1\" class=\"data row5 col1\" >0.194085</td>\n",
       "            </tr>\n",
       "            <tr>\n",
       "                        <th id=\"T_589f9c2c_9eb4_11eb_8fbe_4c1d9604228dlevel0_row6\" class=\"row_heading level0 row6\" >6</th>\n",
       "                        <td id=\"T_589f9c2c_9eb4_11eb_8fbe_4c1d9604228drow6_col0\" class=\"data row6 col0\" >minimum</td>\n",
       "                        <td id=\"T_589f9c2c_9eb4_11eb_8fbe_4c1d9604228drow6_col1\" class=\"data row6 col1\" >0.719916</td>\n",
       "            </tr>\n",
       "            <tr>\n",
       "                        <th id=\"T_589f9c2c_9eb4_11eb_8fbe_4c1d9604228dlevel0_row7\" class=\"row_heading level0 row7\" >7</th>\n",
       "                        <td id=\"T_589f9c2c_9eb4_11eb_8fbe_4c1d9604228drow7_col0\" class=\"data row7 col0\" >maksimum</td>\n",
       "                        <td id=\"T_589f9c2c_9eb4_11eb_8fbe_4c1d9604228drow7_col1\" class=\"data row7 col1\" >0.914001</td>\n",
       "            </tr>\n",
       "            <tr>\n",
       "                        <th id=\"T_589f9c2c_9eb4_11eb_8fbe_4c1d9604228dlevel0_row8\" class=\"row_heading level0 row8\" >8</th>\n",
       "                        <td id=\"T_589f9c2c_9eb4_11eb_8fbe_4c1d9604228drow8_col0\" class=\"data row8 col0\" >kuartil 1</td>\n",
       "                        <td id=\"T_589f9c2c_9eb4_11eb_8fbe_4c1d9604228drow8_col1\" class=\"data row8 col1\" >0.863676</td>\n",
       "            </tr>\n",
       "            <tr>\n",
       "                        <th id=\"T_589f9c2c_9eb4_11eb_8fbe_4c1d9604228dlevel0_row9\" class=\"row_heading level0 row9\" >9</th>\n",
       "                        <td id=\"T_589f9c2c_9eb4_11eb_8fbe_4c1d9604228drow9_col0\" class=\"data row9 col0\" >kuartil 2</td>\n",
       "                        <td id=\"T_589f9c2c_9eb4_11eb_8fbe_4c1d9604228drow9_col1\" class=\"data row9 col1\" >0.890045</td>\n",
       "            </tr>\n",
       "            <tr>\n",
       "                        <th id=\"T_589f9c2c_9eb4_11eb_8fbe_4c1d9604228dlevel0_row10\" class=\"row_heading level0 row10\" >10</th>\n",
       "                        <td id=\"T_589f9c2c_9eb4_11eb_8fbe_4c1d9604228drow10_col0\" class=\"data row10 col0\" >kuartil 3</td>\n",
       "                        <td id=\"T_589f9c2c_9eb4_11eb_8fbe_4c1d9604228drow10_col1\" class=\"data row10 col1\" >0.907578</td>\n",
       "            </tr>\n",
       "            <tr>\n",
       "                        <th id=\"T_589f9c2c_9eb4_11eb_8fbe_4c1d9604228dlevel0_row11\" class=\"row_heading level0 row11\" >11</th>\n",
       "                        <td id=\"T_589f9c2c_9eb4_11eb_8fbe_4c1d9604228drow11_col0\" class=\"data row11 col0\" >IQR</td>\n",
       "                        <td id=\"T_589f9c2c_9eb4_11eb_8fbe_4c1d9604228drow11_col1\" class=\"data row11 col1\" >0.043902</td>\n",
       "            </tr>\n",
       "            <tr>\n",
       "                        <th id=\"T_589f9c2c_9eb4_11eb_8fbe_4c1d9604228dlevel0_row12\" class=\"row_heading level0 row12\" >12</th>\n",
       "                        <td id=\"T_589f9c2c_9eb4_11eb_8fbe_4c1d9604228drow12_col0\" class=\"data row12 col0\" >skewness</td>\n",
       "                        <td id=\"T_589f9c2c_9eb4_11eb_8fbe_4c1d9604228drow12_col1\" class=\"data row12 col1\" >-1.623472</td>\n",
       "            </tr>\n",
       "            <tr>\n",
       "                        <th id=\"T_589f9c2c_9eb4_11eb_8fbe_4c1d9604228dlevel0_row13\" class=\"row_heading level0 row13\" >13</th>\n",
       "                        <td id=\"T_589f9c2c_9eb4_11eb_8fbe_4c1d9604228drow13_col0\" class=\"data row13 col0\" >kurtosis</td>\n",
       "                        <td id=\"T_589f9c2c_9eb4_11eb_8fbe_4c1d9604228drow13_col1\" class=\"data row13 col1\" >2.917256</td>\n",
       "            </tr>\n",
       "    </tbody></table>"
      ],
      "text/plain": [
       "<pandas.io.formats.style.Styler at 0x17d99251860>"
      ]
     },
     "execution_count": 10,
     "metadata": {},
     "output_type": "execute_result"
    }
   ],
   "source": [
    "# Keunikan\n",
    "nomor1('Keunikan')"
   ]
  },
  {
   "cell_type": "code",
   "execution_count": 11,
   "id": "37d49f43",
   "metadata": {},
   "outputs": [
    {
     "data": {
      "text/html": [
       "<style  type=\"text/css\" >\n",
       "</style><table id=\"T_5a3256ae_9eb4_11eb_8239_4c1d9604228d\" style='display:inline'><caption>Deskripsi Statistik AreaBulatan</caption><thead>    <tr>        <th class=\"blank level0\" ></th>        <th class=\"col_heading level0 col0\" >0</th>        <th class=\"col_heading level0 col1\" >1</th>    </tr></thead><tbody>\n",
       "                <tr>\n",
       "                        <th id=\"T_5a3256ae_9eb4_11eb_8239_4c1d9604228dlevel0_row0\" class=\"row_heading level0 row0\" >0</th>\n",
       "                        <td id=\"T_5a3256ae_9eb4_11eb_8239_4c1d9604228drow0_col0\" class=\"data row0 col0\" >mean</td>\n",
       "                        <td id=\"T_5a3256ae_9eb4_11eb_8239_4c1d9604228drow0_col1\" class=\"data row0 col1\" >4937.048000</td>\n",
       "            </tr>\n",
       "            <tr>\n",
       "                        <th id=\"T_5a3256ae_9eb4_11eb_8239_4c1d9604228dlevel0_row1\" class=\"row_heading level0 row1\" >1</th>\n",
       "                        <td id=\"T_5a3256ae_9eb4_11eb_8239_4c1d9604228drow1_col0\" class=\"data row1 col0\" >median</td>\n",
       "                        <td id=\"T_5a3256ae_9eb4_11eb_8239_4c1d9604228drow1_col1\" class=\"data row1 col1\" >4857.000000</td>\n",
       "            </tr>\n",
       "            <tr>\n",
       "                        <th id=\"T_5a3256ae_9eb4_11eb_8239_4c1d9604228dlevel0_row2\" class=\"row_heading level0 row2\" >2</th>\n",
       "                        <td id=\"T_5a3256ae_9eb4_11eb_8239_4c1d9604228drow2_col0\" class=\"data row2 col0\" >modus</td>\n",
       "                        <td id=\"T_5a3256ae_9eb4_11eb_8239_4c1d9604228drow2_col1\" class=\"data row2 col1\" >[3802 4913]</td>\n",
       "            </tr>\n",
       "            <tr>\n",
       "                        <th id=\"T_5a3256ae_9eb4_11eb_8239_4c1d9604228dlevel0_row3\" class=\"row_heading level0 row3\" >3</th>\n",
       "                        <td id=\"T_5a3256ae_9eb4_11eb_8239_4c1d9604228drow3_col0\" class=\"data row3 col0\" >standar deviasi</td>\n",
       "                        <td id=\"T_5a3256ae_9eb4_11eb_8239_4c1d9604228drow3_col1\" class=\"data row3 col1\" >1011.696255</td>\n",
       "            </tr>\n",
       "            <tr>\n",
       "                        <th id=\"T_5a3256ae_9eb4_11eb_8239_4c1d9604228dlevel0_row4\" class=\"row_heading level0 row4\" >4</th>\n",
       "                        <td id=\"T_5a3256ae_9eb4_11eb_8239_4c1d9604228drow4_col0\" class=\"data row4 col0\" >variansi</td>\n",
       "                        <td id=\"T_5a3256ae_9eb4_11eb_8239_4c1d9604228drow4_col1\" class=\"data row4 col1\" >1023529.312321</td>\n",
       "            </tr>\n",
       "            <tr>\n",
       "                        <th id=\"T_5a3256ae_9eb4_11eb_8239_4c1d9604228dlevel0_row5\" class=\"row_heading level0 row5\" >5</th>\n",
       "                        <td id=\"T_5a3256ae_9eb4_11eb_8239_4c1d9604228drow5_col0\" class=\"data row5 col0\" >range</td>\n",
       "                        <td id=\"T_5a3256ae_9eb4_11eb_8239_4c1d9604228drow5_col1\" class=\"data row5 col1\" >5141</td>\n",
       "            </tr>\n",
       "            <tr>\n",
       "                        <th id=\"T_5a3256ae_9eb4_11eb_8239_4c1d9604228dlevel0_row6\" class=\"row_heading level0 row6\" >6</th>\n",
       "                        <td id=\"T_5a3256ae_9eb4_11eb_8239_4c1d9604228drow6_col0\" class=\"data row6 col0\" >minimum</td>\n",
       "                        <td id=\"T_5a3256ae_9eb4_11eb_8239_4c1d9604228drow6_col1\" class=\"data row6 col1\" >2579</td>\n",
       "            </tr>\n",
       "            <tr>\n",
       "                        <th id=\"T_5a3256ae_9eb4_11eb_8239_4c1d9604228dlevel0_row7\" class=\"row_heading level0 row7\" >7</th>\n",
       "                        <td id=\"T_5a3256ae_9eb4_11eb_8239_4c1d9604228drow7_col0\" class=\"data row7 col0\" >maksimum</td>\n",
       "                        <td id=\"T_5a3256ae_9eb4_11eb_8239_4c1d9604228drow7_col1\" class=\"data row7 col1\" >7720</td>\n",
       "            </tr>\n",
       "            <tr>\n",
       "                        <th id=\"T_5a3256ae_9eb4_11eb_8239_4c1d9604228dlevel0_row8\" class=\"row_heading level0 row8\" >8</th>\n",
       "                        <td id=\"T_5a3256ae_9eb4_11eb_8239_4c1d9604228drow8_col0\" class=\"data row8 col0\" >kuartil 1</td>\n",
       "                        <td id=\"T_5a3256ae_9eb4_11eb_8239_4c1d9604228drow8_col1\" class=\"data row8 col1\" >4170.250000</td>\n",
       "            </tr>\n",
       "            <tr>\n",
       "                        <th id=\"T_5a3256ae_9eb4_11eb_8239_4c1d9604228dlevel0_row9\" class=\"row_heading level0 row9\" >9</th>\n",
       "                        <td id=\"T_5a3256ae_9eb4_11eb_8239_4c1d9604228drow9_col0\" class=\"data row9 col0\" >kuartil 2</td>\n",
       "                        <td id=\"T_5a3256ae_9eb4_11eb_8239_4c1d9604228drow9_col1\" class=\"data row9 col1\" >4857.000000</td>\n",
       "            </tr>\n",
       "            <tr>\n",
       "                        <th id=\"T_5a3256ae_9eb4_11eb_8239_4c1d9604228dlevel0_row10\" class=\"row_heading level0 row10\" >10</th>\n",
       "                        <td id=\"T_5a3256ae_9eb4_11eb_8239_4c1d9604228drow10_col0\" class=\"data row10 col0\" >kuartil 3</td>\n",
       "                        <td id=\"T_5a3256ae_9eb4_11eb_8239_4c1d9604228drow10_col1\" class=\"data row10 col1\" >5654.250000</td>\n",
       "            </tr>\n",
       "            <tr>\n",
       "                        <th id=\"T_5a3256ae_9eb4_11eb_8239_4c1d9604228dlevel0_row11\" class=\"row_heading level0 row11\" >11</th>\n",
       "                        <td id=\"T_5a3256ae_9eb4_11eb_8239_4c1d9604228drow11_col0\" class=\"data row11 col0\" >IQR</td>\n",
       "                        <td id=\"T_5a3256ae_9eb4_11eb_8239_4c1d9604228drow11_col1\" class=\"data row11 col1\" >1484.000000</td>\n",
       "            </tr>\n",
       "            <tr>\n",
       "                        <th id=\"T_5a3256ae_9eb4_11eb_8239_4c1d9604228dlevel0_row12\" class=\"row_heading level0 row12\" >12</th>\n",
       "                        <td id=\"T_5a3256ae_9eb4_11eb_8239_4c1d9604228drow12_col0\" class=\"data row12 col0\" >skewness</td>\n",
       "                        <td id=\"T_5a3256ae_9eb4_11eb_8239_4c1d9604228drow12_col1\" class=\"data row12 col1\" >0.257560</td>\n",
       "            </tr>\n",
       "            <tr>\n",
       "                        <th id=\"T_5a3256ae_9eb4_11eb_8239_4c1d9604228dlevel0_row13\" class=\"row_heading level0 row13\" >13</th>\n",
       "                        <td id=\"T_5a3256ae_9eb4_11eb_8239_4c1d9604228drow13_col0\" class=\"data row13 col0\" >kurtosis</td>\n",
       "                        <td id=\"T_5a3256ae_9eb4_11eb_8239_4c1d9604228drow13_col1\" class=\"data row13 col1\" >-0.409685</td>\n",
       "            </tr>\n",
       "    </tbody></table>"
      ],
      "text/plain": [
       "<pandas.io.formats.style.Styler at 0x17d992ad908>"
      ]
     },
     "execution_count": 11,
     "metadata": {},
     "output_type": "execute_result"
    }
   ],
   "source": [
    "# AreaBulatan\n",
    "nomor1('AreaBulatan')"
   ]
  },
  {
   "cell_type": "code",
   "execution_count": 12,
   "id": "508a2c11",
   "metadata": {},
   "outputs": [
    {
     "data": {
      "text/html": [
       "<style  type=\"text/css\" >\n",
       "</style><table id=\"T_5aca999e_9eb4_11eb_849f_4c1d9604228d\" style='display:inline'><caption>Deskripsi Statistik Diameter</caption><thead>    <tr>        <th class=\"blank level0\" ></th>        <th class=\"col_heading level0 col0\" >0</th>        <th class=\"col_heading level0 col1\" >1</th>    </tr></thead><tbody>\n",
       "                <tr>\n",
       "                        <th id=\"T_5aca999e_9eb4_11eb_849f_4c1d9604228dlevel0_row0\" class=\"row_heading level0 row0\" >0</th>\n",
       "                        <td id=\"T_5aca999e_9eb4_11eb_849f_4c1d9604228drow0_col0\" class=\"data row0 col0\" >mean</td>\n",
       "                        <td id=\"T_5aca999e_9eb4_11eb_849f_4c1d9604228drow0_col1\" class=\"data row0 col1\" >77.771158</td>\n",
       "            </tr>\n",
       "            <tr>\n",
       "                        <th id=\"T_5aca999e_9eb4_11eb_849f_4c1d9604228dlevel0_row1\" class=\"row_heading level0 row1\" >1</th>\n",
       "                        <td id=\"T_5aca999e_9eb4_11eb_849f_4c1d9604228drow1_col0\" class=\"data row1 col0\" >median</td>\n",
       "                        <td id=\"T_5aca999e_9eb4_11eb_849f_4c1d9604228drow1_col1\" class=\"data row1 col1\" >77.645277</td>\n",
       "            </tr>\n",
       "            <tr>\n",
       "                        <th id=\"T_5aca999e_9eb4_11eb_849f_4c1d9604228dlevel0_row2\" class=\"row_heading level0 row2\" >2</th>\n",
       "                        <td id=\"T_5aca999e_9eb4_11eb_849f_4c1d9604228drow2_col0\" class=\"data row2 col0\" >modus</td>\n",
       "                        <td id=\"T_5aca999e_9eb4_11eb_849f_4c1d9604228drow2_col1\" class=\"data row2 col1\" >[71.29356396 78.83325579 84.75622403 88.00634154]</td>\n",
       "            </tr>\n",
       "            <tr>\n",
       "                        <th id=\"T_5aca999e_9eb4_11eb_849f_4c1d9604228dlevel0_row3\" class=\"row_heading level0 row3\" >3</th>\n",
       "                        <td id=\"T_5aca999e_9eb4_11eb_849f_4c1d9604228drow3_col0\" class=\"data row3 col0\" >standar deviasi</td>\n",
       "                        <td id=\"T_5aca999e_9eb4_11eb_849f_4c1d9604228drow3_col1\" class=\"data row3 col1\" >8.056867</td>\n",
       "            </tr>\n",
       "            <tr>\n",
       "                        <th id=\"T_5aca999e_9eb4_11eb_849f_4c1d9604228dlevel0_row4\" class=\"row_heading level0 row4\" >4</th>\n",
       "                        <td id=\"T_5aca999e_9eb4_11eb_849f_4c1d9604228drow4_col0\" class=\"data row4 col0\" >variansi</td>\n",
       "                        <td id=\"T_5aca999e_9eb4_11eb_849f_4c1d9604228drow4_col1\" class=\"data row4 col1\" >64.913111</td>\n",
       "            </tr>\n",
       "            <tr>\n",
       "                        <th id=\"T_5aca999e_9eb4_11eb_849f_4c1d9604228dlevel0_row5\" class=\"row_heading level0 row5\" >5</th>\n",
       "                        <td id=\"T_5aca999e_9eb4_11eb_849f_4c1d9604228drow5_col0\" class=\"data row5 col0\" >range</td>\n",
       "                        <td id=\"T_5aca999e_9eb4_11eb_849f_4c1d9604228drow5_col1\" class=\"data row5 col1\" >40.747172</td>\n",
       "            </tr>\n",
       "            <tr>\n",
       "                        <th id=\"T_5aca999e_9eb4_11eb_849f_4c1d9604228dlevel0_row6\" class=\"row_heading level0 row6\" >6</th>\n",
       "                        <td id=\"T_5aca999e_9eb4_11eb_849f_4c1d9604228drow6_col0\" class=\"data row6 col0\" >minimum</td>\n",
       "                        <td id=\"T_5aca999e_9eb4_11eb_849f_4c1d9604228drow6_col1\" class=\"data row6 col1\" >56.666658</td>\n",
       "            </tr>\n",
       "            <tr>\n",
       "                        <th id=\"T_5aca999e_9eb4_11eb_849f_4c1d9604228dlevel0_row7\" class=\"row_heading level0 row7\" >7</th>\n",
       "                        <td id=\"T_5aca999e_9eb4_11eb_849f_4c1d9604228drow7_col0\" class=\"data row7 col0\" >maksimum</td>\n",
       "                        <td id=\"T_5aca999e_9eb4_11eb_849f_4c1d9604228drow7_col1\" class=\"data row7 col1\" >97.413830</td>\n",
       "            </tr>\n",
       "            <tr>\n",
       "                        <th id=\"T_5aca999e_9eb4_11eb_849f_4c1d9604228dlevel0_row8\" class=\"row_heading level0 row8\" >8</th>\n",
       "                        <td id=\"T_5aca999e_9eb4_11eb_849f_4c1d9604228drow8_col0\" class=\"data row8 col0\" >kuartil 1</td>\n",
       "                        <td id=\"T_5aca999e_9eb4_11eb_849f_4c1d9604228drow8_col1\" class=\"data row8 col1\" >71.745308</td>\n",
       "            </tr>\n",
       "            <tr>\n",
       "                        <th id=\"T_5aca999e_9eb4_11eb_849f_4c1d9604228dlevel0_row9\" class=\"row_heading level0 row9\" >9</th>\n",
       "                        <td id=\"T_5aca999e_9eb4_11eb_849f_4c1d9604228drow9_col0\" class=\"data row9 col0\" >kuartil 2</td>\n",
       "                        <td id=\"T_5aca999e_9eb4_11eb_849f_4c1d9604228drow9_col1\" class=\"data row9 col1\" >77.645277</td>\n",
       "            </tr>\n",
       "            <tr>\n",
       "                        <th id=\"T_5aca999e_9eb4_11eb_849f_4c1d9604228dlevel0_row10\" class=\"row_heading level0 row10\" >10</th>\n",
       "                        <td id=\"T_5aca999e_9eb4_11eb_849f_4c1d9604228drow10_col0\" class=\"data row10 col0\" >kuartil 3</td>\n",
       "                        <td id=\"T_5aca999e_9eb4_11eb_849f_4c1d9604228drow10_col1\" class=\"data row10 col1\" >83.648598</td>\n",
       "            </tr>\n",
       "            <tr>\n",
       "                        <th id=\"T_5aca999e_9eb4_11eb_849f_4c1d9604228dlevel0_row11\" class=\"row_heading level0 row11\" >11</th>\n",
       "                        <td id=\"T_5aca999e_9eb4_11eb_849f_4c1d9604228drow11_col0\" class=\"data row11 col0\" >IQR</td>\n",
       "                        <td id=\"T_5aca999e_9eb4_11eb_849f_4c1d9604228drow11_col1\" class=\"data row11 col1\" >11.903290</td>\n",
       "            </tr>\n",
       "            <tr>\n",
       "                        <th id=\"T_5aca999e_9eb4_11eb_849f_4c1d9604228dlevel0_row12\" class=\"row_heading level0 row12\" >12</th>\n",
       "                        <td id=\"T_5aca999e_9eb4_11eb_849f_4c1d9604228drow12_col0\" class=\"data row12 col0\" >skewness</td>\n",
       "                        <td id=\"T_5aca999e_9eb4_11eb_849f_4c1d9604228drow12_col1\" class=\"data row12 col1\" >0.002725</td>\n",
       "            </tr>\n",
       "            <tr>\n",
       "                        <th id=\"T_5aca999e_9eb4_11eb_849f_4c1d9604228dlevel0_row13\" class=\"row_heading level0 row13\" >13</th>\n",
       "                        <td id=\"T_5aca999e_9eb4_11eb_849f_4c1d9604228drow13_col0\" class=\"data row13 col0\" >kurtosis</td>\n",
       "                        <td id=\"T_5aca999e_9eb4_11eb_849f_4c1d9604228drow13_col1\" class=\"data row13 col1\" >-0.466455</td>\n",
       "            </tr>\n",
       "    </tbody></table>"
      ],
      "text/plain": [
       "<pandas.io.formats.style.Styler at 0x17d992adbe0>"
      ]
     },
     "execution_count": 12,
     "metadata": {},
     "output_type": "execute_result"
    }
   ],
   "source": [
    "# Diameter\n",
    "nomor1('Diameter')"
   ]
  },
  {
   "cell_type": "code",
   "execution_count": 13,
   "id": "6518899f",
   "metadata": {},
   "outputs": [
    {
     "data": {
      "text/html": [
       "<style  type=\"text/css\" >\n",
       "</style><table id=\"T_5b9910de_9eb4_11eb_b0b1_4c1d9604228d\" style='display:inline'><caption>Deskripsi Statistik KadarAir</caption><thead>    <tr>        <th class=\"blank level0\" ></th>        <th class=\"col_heading level0 col0\" >0</th>        <th class=\"col_heading level0 col1\" >1</th>    </tr></thead><tbody>\n",
       "                <tr>\n",
       "                        <th id=\"T_5b9910de_9eb4_11eb_b0b1_4c1d9604228dlevel0_row0\" class=\"row_heading level0 row0\" >0</th>\n",
       "                        <td id=\"T_5b9910de_9eb4_11eb_b0b1_4c1d9604228drow0_col0\" class=\"data row0 col0\" >mean</td>\n",
       "                        <td id=\"T_5b9910de_9eb4_11eb_b0b1_4c1d9604228drow0_col1\" class=\"data row0 col1\" >0.648372</td>\n",
       "            </tr>\n",
       "            <tr>\n",
       "                        <th id=\"T_5b9910de_9eb4_11eb_b0b1_4c1d9604228dlevel0_row1\" class=\"row_heading level0 row1\" >1</th>\n",
       "                        <td id=\"T_5b9910de_9eb4_11eb_b0b1_4c1d9604228drow1_col0\" class=\"data row1 col0\" >median</td>\n",
       "                        <td id=\"T_5b9910de_9eb4_11eb_b0b1_4c1d9604228drow1_col1\" class=\"data row1 col1\" >0.626117</td>\n",
       "            </tr>\n",
       "            <tr>\n",
       "                        <th id=\"T_5b9910de_9eb4_11eb_b0b1_4c1d9604228dlevel0_row2\" class=\"row_heading level0 row2\" >2</th>\n",
       "                        <td id=\"T_5b9910de_9eb4_11eb_b0b1_4c1d9604228drow2_col0\" class=\"data row2 col0\" >modus</td>\n",
       "                        <td id=\"T_5b9910de_9eb4_11eb_b0b1_4c1d9604228drow2_col1\" class=\"data row2 col1\" >[0.73584906 0.82440476]</td>\n",
       "            </tr>\n",
       "            <tr>\n",
       "                        <th id=\"T_5b9910de_9eb4_11eb_b0b1_4c1d9604228dlevel0_row3\" class=\"row_heading level0 row3\" >3</th>\n",
       "                        <td id=\"T_5b9910de_9eb4_11eb_b0b1_4c1d9604228drow3_col0\" class=\"data row3 col0\" >standar deviasi</td>\n",
       "                        <td id=\"T_5b9910de_9eb4_11eb_b0b1_4c1d9604228drow3_col1\" class=\"data row3 col1\" >0.094367</td>\n",
       "            </tr>\n",
       "            <tr>\n",
       "                        <th id=\"T_5b9910de_9eb4_11eb_b0b1_4c1d9604228dlevel0_row4\" class=\"row_heading level0 row4\" >4</th>\n",
       "                        <td id=\"T_5b9910de_9eb4_11eb_b0b1_4c1d9604228drow4_col0\" class=\"data row4 col0\" >variansi</td>\n",
       "                        <td id=\"T_5b9910de_9eb4_11eb_b0b1_4c1d9604228drow4_col1\" class=\"data row4 col1\" >0.008905</td>\n",
       "            </tr>\n",
       "            <tr>\n",
       "                        <th id=\"T_5b9910de_9eb4_11eb_b0b1_4c1d9604228dlevel0_row5\" class=\"row_heading level0 row5\" >5</th>\n",
       "                        <td id=\"T_5b9910de_9eb4_11eb_b0b1_4c1d9604228drow5_col0\" class=\"data row5 col0\" >range</td>\n",
       "                        <td id=\"T_5b9910de_9eb4_11eb_b0b1_4c1d9604228drow5_col1\" class=\"data row5 col1\" >0.468972</td>\n",
       "            </tr>\n",
       "            <tr>\n",
       "                        <th id=\"T_5b9910de_9eb4_11eb_b0b1_4c1d9604228dlevel0_row6\" class=\"row_heading level0 row6\" >6</th>\n",
       "                        <td id=\"T_5b9910de_9eb4_11eb_b0b1_4c1d9604228drow6_col0\" class=\"data row6 col0\" >minimum</td>\n",
       "                        <td id=\"T_5b9910de_9eb4_11eb_b0b1_4c1d9604228drow6_col1\" class=\"data row6 col1\" >0.409927</td>\n",
       "            </tr>\n",
       "            <tr>\n",
       "                        <th id=\"T_5b9910de_9eb4_11eb_b0b1_4c1d9604228dlevel0_row7\" class=\"row_heading level0 row7\" >7</th>\n",
       "                        <td id=\"T_5b9910de_9eb4_11eb_b0b1_4c1d9604228drow7_col0\" class=\"data row7 col0\" >maksimum</td>\n",
       "                        <td id=\"T_5b9910de_9eb4_11eb_b0b1_4c1d9604228drow7_col1\" class=\"data row7 col1\" >0.878899</td>\n",
       "            </tr>\n",
       "            <tr>\n",
       "                        <th id=\"T_5b9910de_9eb4_11eb_b0b1_4c1d9604228dlevel0_row8\" class=\"row_heading level0 row8\" >8</th>\n",
       "                        <td id=\"T_5b9910de_9eb4_11eb_b0b1_4c1d9604228drow8_col0\" class=\"data row8 col0\" >kuartil 1</td>\n",
       "                        <td id=\"T_5b9910de_9eb4_11eb_b0b1_4c1d9604228drow8_col1\" class=\"data row8 col1\" >0.572632</td>\n",
       "            </tr>\n",
       "            <tr>\n",
       "                        <th id=\"T_5b9910de_9eb4_11eb_b0b1_4c1d9604228dlevel0_row9\" class=\"row_heading level0 row9\" >9</th>\n",
       "                        <td id=\"T_5b9910de_9eb4_11eb_b0b1_4c1d9604228drow9_col0\" class=\"data row9 col0\" >kuartil 2</td>\n",
       "                        <td id=\"T_5b9910de_9eb4_11eb_b0b1_4c1d9604228drow9_col1\" class=\"data row9 col1\" >0.626117</td>\n",
       "            </tr>\n",
       "            <tr>\n",
       "                        <th id=\"T_5b9910de_9eb4_11eb_b0b1_4c1d9604228dlevel0_row10\" class=\"row_heading level0 row10\" >10</th>\n",
       "                        <td id=\"T_5b9910de_9eb4_11eb_b0b1_4c1d9604228drow10_col0\" class=\"data row10 col0\" >kuartil 3</td>\n",
       "                        <td id=\"T_5b9910de_9eb4_11eb_b0b1_4c1d9604228drow10_col1\" class=\"data row10 col1\" >0.726633</td>\n",
       "            </tr>\n",
       "            <tr>\n",
       "                        <th id=\"T_5b9910de_9eb4_11eb_b0b1_4c1d9604228dlevel0_row11\" class=\"row_heading level0 row11\" >11</th>\n",
       "                        <td id=\"T_5b9910de_9eb4_11eb_b0b1_4c1d9604228drow11_col0\" class=\"data row11 col0\" >IQR</td>\n",
       "                        <td id=\"T_5b9910de_9eb4_11eb_b0b1_4c1d9604228drow11_col1\" class=\"data row11 col1\" >0.154001</td>\n",
       "            </tr>\n",
       "            <tr>\n",
       "                        <th id=\"T_5b9910de_9eb4_11eb_b0b1_4c1d9604228dlevel0_row12\" class=\"row_heading level0 row12\" >12</th>\n",
       "                        <td id=\"T_5b9910de_9eb4_11eb_b0b1_4c1d9604228drow12_col0\" class=\"data row12 col0\" >skewness</td>\n",
       "                        <td id=\"T_5b9910de_9eb4_11eb_b0b1_4c1d9604228drow12_col1\" class=\"data row12 col1\" >0.493661</td>\n",
       "            </tr>\n",
       "            <tr>\n",
       "                        <th id=\"T_5b9910de_9eb4_11eb_b0b1_4c1d9604228dlevel0_row13\" class=\"row_heading level0 row13\" >13</th>\n",
       "                        <td id=\"T_5b9910de_9eb4_11eb_b0b1_4c1d9604228drow13_col0\" class=\"data row13 col0\" >kurtosis</td>\n",
       "                        <td id=\"T_5b9910de_9eb4_11eb_b0b1_4c1d9604228drow13_col1\" class=\"data row13 col1\" >-0.740326</td>\n",
       "            </tr>\n",
       "    </tbody></table>"
      ],
      "text/plain": [
       "<pandas.io.formats.style.Styler at 0x17d992ad2e8>"
      ]
     },
     "execution_count": 13,
     "metadata": {},
     "output_type": "execute_result"
    }
   ],
   "source": [
    "# KadarAir\n",
    "nomor1('KadarAir')"
   ]
  },
  {
   "cell_type": "code",
   "execution_count": 14,
   "id": "2803854f",
   "metadata": {},
   "outputs": [
    {
     "data": {
      "text/html": [
       "<style  type=\"text/css\" >\n",
       "</style><table id=\"T_5cb3675c_9eb4_11eb_b2ca_4c1d9604228d\" style='display:inline'><caption>Deskripsi Statistik Keliling</caption><thead>    <tr>        <th class=\"blank level0\" ></th>        <th class=\"col_heading level0 col0\" >0</th>        <th class=\"col_heading level0 col1\" >1</th>    </tr></thead><tbody>\n",
       "                <tr>\n",
       "                        <th id=\"T_5cb3675c_9eb4_11eb_b2ca_4c1d9604228dlevel0_row0\" class=\"row_heading level0 row0\" >0</th>\n",
       "                        <td id=\"T_5cb3675c_9eb4_11eb_b2ca_4c1d9604228drow0_col0\" class=\"data row0 col0\" >mean</td>\n",
       "                        <td id=\"T_5cb3675c_9eb4_11eb_b2ca_4c1d9604228drow0_col1\" class=\"data row0 col1\" >281.479722</td>\n",
       "            </tr>\n",
       "            <tr>\n",
       "                        <th id=\"T_5cb3675c_9eb4_11eb_b2ca_4c1d9604228dlevel0_row1\" class=\"row_heading level0 row1\" >1</th>\n",
       "                        <td id=\"T_5cb3675c_9eb4_11eb_b2ca_4c1d9604228drow1_col0\" class=\"data row1 col0\" >median</td>\n",
       "                        <td id=\"T_5cb3675c_9eb4_11eb_b2ca_4c1d9604228drow1_col1\" class=\"data row1 col1\" >280.045500</td>\n",
       "            </tr>\n",
       "            <tr>\n",
       "                        <th id=\"T_5cb3675c_9eb4_11eb_b2ca_4c1d9604228dlevel0_row2\" class=\"row_heading level0 row2\" >2</th>\n",
       "                        <td id=\"T_5cb3675c_9eb4_11eb_b2ca_4c1d9604228drow2_col0\" class=\"data row2 col0\" >modus</td>\n",
       "                        <td id=\"T_5cb3675c_9eb4_11eb_b2ca_4c1d9604228drow2_col1\" class=\"data row2 col1\" >[197.015 200.587 202.456 207.325 207.697 208.317 209.823 210.012 210.657\n",
       " 211.667 214.338 214.44  216.93  218.773 219.663 221.295 221.38  222.373\n",
       " 223.117 224.485 225.237 226.049 226.454 226.793 227.007 227.562 227.853\n",
       " 227.906 227.934 228.007 229.044 229.787 229.852 230.332 230.728 230.804\n",
       " 231.291 232.122 232.838 232.94  233.736 234.047 234.302 234.781 234.817\n",
       " 235.385 235.476 235.534 235.807 235.956 236.521 236.767 236.813 237.412\n",
       " 237.568 237.593 238.395 238.547 239.34  239.356 239.364 240.017 240.094\n",
       " 240.295 240.315 240.44  240.529 240.546 240.603 240.915 240.926 241.24\n",
       " 241.481 241.542 242.064 242.117 242.167 242.294 242.407 242.845 243.201\n",
       " 243.28  243.849 243.983 244.123 244.287 244.49  245.108 245.517 245.889\n",
       " 246.555 247.032 247.294 247.69  247.889 248.428 249.213 249.248 249.61\n",
       " 249.882 250.098 250.412 250.912 251.05  251.165 251.355 251.807 252.331\n",
       " 252.523 252.837 252.87  253.068 253.076 253.449 253.493 253.792 254.662\n",
       " 254.699 254.771 254.977 255.102 255.109 255.508 255.689 255.796 255.912\n",
       " 255.914 256.199 256.222 256.509 256.524 256.647 256.711 256.915 257.06\n",
       " 257.1   257.268 257.486 257.607 257.666 258.503 259.184 259.272 259.409\n",
       " 259.741 259.808 260.209 260.346 260.354 260.462 260.478 260.512 260.732\n",
       " 260.888 260.959 261.064 261.089 261.29  261.405 261.474 261.568 261.701\n",
       " 261.724 261.858 261.978 262.097 262.446 262.743 263.    263.151 263.299\n",
       " 263.424 263.639 263.678 263.752 263.959 264.24  264.28  264.342 264.418\n",
       " 264.64  264.644 264.923 264.951 265.142 265.151 265.167 265.248 265.364\n",
       " 265.778 266.221 266.484 266.682 266.82  266.923 267.193 267.246 267.759\n",
       " 268.026 268.297 268.492 268.59  268.805 268.84  268.932 269.116 269.153\n",
       " 269.177 269.387 269.449 269.51  270.072 270.638 270.823 271.228 271.738\n",
       " 271.783 272.761 272.888 273.085 273.607 273.621 273.942 274.007 274.231\n",
       " 274.262 274.318 274.329 274.396 274.486 274.946 275.362 275.478 275.818\n",
       " 276.025 276.786 276.798 276.911 277.133 277.216 277.531 278.57  278.571\n",
       " 278.618 278.623 278.741 279.019 279.034 279.606 279.955 280.136 280.448\n",
       " 280.459 280.5   281.305 281.35  281.478 281.839 282.031 282.086 282.244\n",
       " 282.98  283.186 283.196 283.33  283.668 283.809 283.873 283.977 284.145\n",
       " 284.222 284.343 284.386 284.75  285.184 285.254 285.494 285.799 286.116\n",
       " 286.264 286.377 286.773 286.844 287.087 287.436 287.462 287.727 287.874\n",
       " 288.12  288.273 288.61  288.779 288.913 289.009 289.043 289.067 289.5\n",
       " 289.902 289.962 290.011 290.047 290.143 291.224 291.302 291.359 291.454\n",
       " 291.523 291.54  291.699 292.196 292.22  292.518 292.569 292.789 292.865\n",
       " 292.906 293.36  293.409 293.548 293.758 293.922 294.219 294.451 294.789\n",
       " 294.808 294.988 295.253 295.612 295.728 296.2   296.211 296.222 297.081\n",
       " 297.114 297.14  297.24  297.276 297.395 297.503 298.048 298.057 298.992\n",
       " 299.044 299.083 299.091 299.67  299.788 299.803 299.924 300.022 300.597\n",
       " 300.837 300.885 301.307 301.902 301.985 302.11  302.131 302.164 302.542\n",
       " 302.73  302.928 302.958 303.047 303.102 303.285 303.999 304.449 305.036\n",
       " 305.169 305.326 305.582 305.628 305.701 305.872 306.634 306.907 306.914\n",
       " 307.129 307.304 307.377 307.543 307.776 307.947 307.965 308.106 308.355\n",
       " 308.667 309.111 309.264 309.712 309.718 309.826 310.522 310.778 310.785\n",
       " 311.005 311.235 311.51  311.647 311.85  311.868 311.871 312.248 312.386\n",
       " 312.678 312.835 312.898 313.011 313.296 313.372 314.233 314.352 314.656\n",
       " 315.431 315.483 316.144 316.194 316.558 316.683 316.69  316.756 316.987\n",
       " 317.21  317.226 317.55  317.671 318.791 318.86  318.914 319.702 319.883\n",
       " 320.105 320.388 320.825 320.902 321.246 321.354 321.441 321.58  321.778\n",
       " 321.893 322.073 322.15  322.198 322.299 322.3   322.853 323.587 323.807\n",
       " 324.563 326.626 328.178 328.799 329.128 329.747 330.709 331.296 331.417\n",
       " 331.535 331.893 332.61  333.722 334.743 336.166 336.803 337.028 338.191\n",
       " 338.258 338.782 339.413 340.02  340.6   340.726 341.702 342.257 342.99\n",
       " 343.706 343.917 344.138 346.308 346.714 347.364 348.085 348.74  352.718\n",
       " 353.032 353.285 354.483 357.414 359.911 362.021 365.062 366.62  367.844\n",
       " 375.651 390.125 434.235 448.305 488.837]</td>\n",
       "            </tr>\n",
       "            <tr>\n",
       "                        <th id=\"T_5cb3675c_9eb4_11eb_b2ca_4c1d9604228dlevel0_row3\" class=\"row_heading level0 row3\" >3</th>\n",
       "                        <td id=\"T_5cb3675c_9eb4_11eb_b2ca_4c1d9604228drow3_col0\" class=\"data row3 col0\" >standar deviasi</td>\n",
       "                        <td id=\"T_5cb3675c_9eb4_11eb_b2ca_4c1d9604228drow3_col1\" class=\"data row3 col1\" >37.335402</td>\n",
       "            </tr>\n",
       "            <tr>\n",
       "                        <th id=\"T_5cb3675c_9eb4_11eb_b2ca_4c1d9604228dlevel0_row4\" class=\"row_heading level0 row4\" >4</th>\n",
       "                        <td id=\"T_5cb3675c_9eb4_11eb_b2ca_4c1d9604228drow4_col0\" class=\"data row4 col0\" >variansi</td>\n",
       "                        <td id=\"T_5cb3675c_9eb4_11eb_b2ca_4c1d9604228drow4_col1\" class=\"data row4 col1\" >1393.932221</td>\n",
       "            </tr>\n",
       "            <tr>\n",
       "                        <th id=\"T_5cb3675c_9eb4_11eb_b2ca_4c1d9604228dlevel0_row5\" class=\"row_heading level0 row5\" >5</th>\n",
       "                        <td id=\"T_5cb3675c_9eb4_11eb_b2ca_4c1d9604228drow5_col0\" class=\"data row5 col0\" >range</td>\n",
       "                        <td id=\"T_5cb3675c_9eb4_11eb_b2ca_4c1d9604228drow5_col1\" class=\"data row5 col1\" >291.822000</td>\n",
       "            </tr>\n",
       "            <tr>\n",
       "                        <th id=\"T_5cb3675c_9eb4_11eb_b2ca_4c1d9604228dlevel0_row6\" class=\"row_heading level0 row6\" >6</th>\n",
       "                        <td id=\"T_5cb3675c_9eb4_11eb_b2ca_4c1d9604228drow6_col0\" class=\"data row6 col0\" >minimum</td>\n",
       "                        <td id=\"T_5cb3675c_9eb4_11eb_b2ca_4c1d9604228drow6_col1\" class=\"data row6 col1\" >197.015000</td>\n",
       "            </tr>\n",
       "            <tr>\n",
       "                        <th id=\"T_5cb3675c_9eb4_11eb_b2ca_4c1d9604228dlevel0_row7\" class=\"row_heading level0 row7\" >7</th>\n",
       "                        <td id=\"T_5cb3675c_9eb4_11eb_b2ca_4c1d9604228drow7_col0\" class=\"data row7 col0\" >maksimum</td>\n",
       "                        <td id=\"T_5cb3675c_9eb4_11eb_b2ca_4c1d9604228drow7_col1\" class=\"data row7 col1\" >488.837000</td>\n",
       "            </tr>\n",
       "            <tr>\n",
       "                        <th id=\"T_5cb3675c_9eb4_11eb_b2ca_4c1d9604228dlevel0_row8\" class=\"row_heading level0 row8\" >8</th>\n",
       "                        <td id=\"T_5cb3675c_9eb4_11eb_b2ca_4c1d9604228drow8_col0\" class=\"data row8 col0\" >kuartil 1</td>\n",
       "                        <td id=\"T_5cb3675c_9eb4_11eb_b2ca_4c1d9604228drow8_col1\" class=\"data row8 col1\" >255.883000</td>\n",
       "            </tr>\n",
       "            <tr>\n",
       "                        <th id=\"T_5cb3675c_9eb4_11eb_b2ca_4c1d9604228dlevel0_row9\" class=\"row_heading level0 row9\" >9</th>\n",
       "                        <td id=\"T_5cb3675c_9eb4_11eb_b2ca_4c1d9604228drow9_col0\" class=\"data row9 col0\" >kuartil 2</td>\n",
       "                        <td id=\"T_5cb3675c_9eb4_11eb_b2ca_4c1d9604228drow9_col1\" class=\"data row9 col1\" >280.045500</td>\n",
       "            </tr>\n",
       "            <tr>\n",
       "                        <th id=\"T_5cb3675c_9eb4_11eb_b2ca_4c1d9604228dlevel0_row10\" class=\"row_heading level0 row10\" >10</th>\n",
       "                        <td id=\"T_5cb3675c_9eb4_11eb_b2ca_4c1d9604228drow10_col0\" class=\"data row10 col0\" >kuartil 3</td>\n",
       "                        <td id=\"T_5cb3675c_9eb4_11eb_b2ca_4c1d9604228drow10_col1\" class=\"data row10 col1\" >306.062500</td>\n",
       "            </tr>\n",
       "            <tr>\n",
       "                        <th id=\"T_5cb3675c_9eb4_11eb_b2ca_4c1d9604228dlevel0_row11\" class=\"row_heading level0 row11\" >11</th>\n",
       "                        <td id=\"T_5cb3675c_9eb4_11eb_b2ca_4c1d9604228drow11_col0\" class=\"data row11 col0\" >IQR</td>\n",
       "                        <td id=\"T_5cb3675c_9eb4_11eb_b2ca_4c1d9604228drow11_col1\" class=\"data row11 col1\" >50.179500</td>\n",
       "            </tr>\n",
       "            <tr>\n",
       "                        <th id=\"T_5cb3675c_9eb4_11eb_b2ca_4c1d9604228dlevel0_row12\" class=\"row_heading level0 row12\" >12</th>\n",
       "                        <td id=\"T_5cb3675c_9eb4_11eb_b2ca_4c1d9604228drow12_col0\" class=\"data row12 col0\" >skewness</td>\n",
       "                        <td id=\"T_5cb3675c_9eb4_11eb_b2ca_4c1d9604228drow12_col1\" class=\"data row12 col1\" >0.733627</td>\n",
       "            </tr>\n",
       "            <tr>\n",
       "                        <th id=\"T_5cb3675c_9eb4_11eb_b2ca_4c1d9604228dlevel0_row13\" class=\"row_heading level0 row13\" >13</th>\n",
       "                        <td id=\"T_5cb3675c_9eb4_11eb_b2ca_4c1d9604228drow13_col0\" class=\"data row13 col0\" >kurtosis</td>\n",
       "                        <td id=\"T_5cb3675c_9eb4_11eb_b2ca_4c1d9604228drow13_col1\" class=\"data row13 col1\" >2.272685</td>\n",
       "            </tr>\n",
       "    </tbody></table>"
      ],
      "text/plain": [
       "<pandas.io.formats.style.Styler at 0x17d992ad0f0>"
      ]
     },
     "execution_count": 14,
     "metadata": {},
     "output_type": "execute_result"
    }
   ],
   "source": [
    "# Keliling\n",
    "nomor1('Keliling')"
   ]
  },
  {
   "cell_type": "code",
   "execution_count": 15,
   "id": "47697418",
   "metadata": {},
   "outputs": [
    {
     "data": {
      "text/html": [
       "<style  type=\"text/css\" >\n",
       "</style><table id=\"T_5d3f48b8_9eb4_11eb_802b_4c1d9604228d\" style='display:inline'><caption>Deskripsi Statistik Bulatan</caption><thead>    <tr>        <th class=\"blank level0\" ></th>        <th class=\"col_heading level0 col0\" >0</th>        <th class=\"col_heading level0 col1\" >1</th>    </tr></thead><tbody>\n",
       "                <tr>\n",
       "                        <th id=\"T_5d3f48b8_9eb4_11eb_802b_4c1d9604228dlevel0_row0\" class=\"row_heading level0 row0\" >0</th>\n",
       "                        <td id=\"T_5d3f48b8_9eb4_11eb_802b_4c1d9604228drow0_col0\" class=\"data row0 col0\" >mean</td>\n",
       "                        <td id=\"T_5d3f48b8_9eb4_11eb_802b_4c1d9604228drow0_col1\" class=\"data row0 col1\" >0.761737</td>\n",
       "            </tr>\n",
       "            <tr>\n",
       "                        <th id=\"T_5d3f48b8_9eb4_11eb_802b_4c1d9604228dlevel0_row1\" class=\"row_heading level0 row1\" >1</th>\n",
       "                        <td id=\"T_5d3f48b8_9eb4_11eb_802b_4c1d9604228drow1_col0\" class=\"data row1 col0\" >median</td>\n",
       "                        <td id=\"T_5d3f48b8_9eb4_11eb_802b_4c1d9604228drow1_col1\" class=\"data row1 col1\" >0.761288</td>\n",
       "            </tr>\n",
       "            <tr>\n",
       "                        <th id=\"T_5d3f48b8_9eb4_11eb_802b_4c1d9604228dlevel0_row2\" class=\"row_heading level0 row2\" >2</th>\n",
       "                        <td id=\"T_5d3f48b8_9eb4_11eb_802b_4c1d9604228drow2_col0\" class=\"data row2 col0\" >modus</td>\n",
       "                        <td id=\"T_5d3f48b8_9eb4_11eb_802b_4c1d9604228drow2_col1\" class=\"data row2 col1\" >[0.17459018 0.26129739 0.29929762 0.58914596 0.60380663 0.61813153\n",
       " 0.61933137 0.62220215 0.64293959 0.6554238  0.66184861 0.67123989\n",
       " 0.67141453 0.67177503 0.67201825 0.67329155 0.67501879 0.67629288\n",
       " 0.67720007 0.67989254 0.68019478 0.68522301 0.68588055 0.68746403\n",
       " 0.68815997 0.68845222 0.69114993 0.69416245 0.69446339 0.69546401\n",
       " 0.69605196 0.69680086 0.69743449 0.69834092 0.69855842 0.70056486\n",
       " 0.700633   0.70458271 0.70465252 0.70465516 0.70569682 0.70712978\n",
       " 0.70772876 0.70814803 0.70837218 0.70867505 0.70980558 0.71107314\n",
       " 0.7112693  0.71167673 0.71201998 0.71277587 0.7128031  0.71324373\n",
       " 0.71344154 0.71376408 0.71492424 0.71518853 0.7162271  0.71672984\n",
       " 0.71691272 0.71693536 0.71749287 0.71760445 0.71836699 0.71849583\n",
       " 0.71877805 0.71884806 0.71938139 0.71943899 0.71948393 0.71972997\n",
       " 0.72004593 0.72076308 0.7209455  0.72130727 0.72190517 0.72222512\n",
       " 0.72222591 0.72233116 0.72257306 0.72291354 0.72303066 0.72372408\n",
       " 0.72404096 0.72423669 0.72443716 0.7246254  0.72565411 0.72648609\n",
       " 0.72676819 0.7269404  0.72718736 0.7273035  0.72761802 0.72773158\n",
       " 0.72787204 0.72791653 0.72813192 0.72833422 0.72837184 0.72877966\n",
       " 0.72883847 0.72885009 0.72907035 0.7290989  0.7291904  0.72919336\n",
       " 0.72924503 0.72983776 0.7298434  0.729885   0.73013043 0.73033802\n",
       " 0.73042412 0.73048467 0.73052826 0.73070032 0.73078472 0.73087835\n",
       " 0.7309527  0.7310322  0.73130251 0.73176073 0.73190872 0.73201806\n",
       " 0.73215878 0.73310775 0.73319853 0.73382279 0.73458463 0.73478158\n",
       " 0.73507868 0.73541536 0.73572319 0.7359288  0.7360203  0.73641027\n",
       " 0.73663879 0.73666973 0.73685871 0.73762171 0.73791569 0.73849372\n",
       " 0.73874582 0.73911166 0.73923992 0.73939197 0.73945484 0.73948976\n",
       " 0.7395355  0.73970114 0.73986662 0.74010479 0.74032869 0.74035329\n",
       " 0.74035806 0.74039592 0.74060812 0.74093328 0.74102057 0.74152126\n",
       " 0.74158786 0.74202666 0.74234335 0.74236693 0.74240238 0.74308847\n",
       " 0.7438997  0.74396132 0.74416976 0.74466506 0.74466647 0.74495824\n",
       " 0.74528593 0.74537237 0.74546102 0.74583513 0.74588395 0.74622025\n",
       " 0.74624028 0.74636879 0.74653083 0.74724019 0.74763833 0.74791775\n",
       " 0.74849826 0.74855186 0.74880089 0.74880748 0.74910995 0.7493321\n",
       " 0.74937773 0.74942542 0.74963749 0.7497552  0.74985555 0.74990339\n",
       " 0.75010605 0.75012473 0.75024191 0.75040757 0.75072894 0.75081051\n",
       " 0.75101052 0.75143246 0.75146262 0.75182934 0.75195836 0.7519931\n",
       " 0.75219557 0.7523375  0.75240783 0.75278615 0.75289492 0.75359076\n",
       " 0.75362762 0.75375384 0.75383635 0.75391578 0.75410885 0.75423266\n",
       " 0.75434639 0.75474527 0.75522341 0.75564902 0.75627492 0.75629113\n",
       " 0.75667614 0.75678843 0.75725773 0.75748239 0.75780105 0.75781136\n",
       " 0.75823565 0.75829814 0.75855052 0.75867359 0.7587911  0.75890994\n",
       " 0.75915663 0.75934393 0.75951389 0.75960905 0.76009659 0.76050835\n",
       " 0.76055343 0.76072934 0.76100162 0.76117345 0.76140343 0.76161513\n",
       " 0.76176432 0.76184435 0.76191928 0.76232714 0.76236076 0.76236687\n",
       " 0.76237069 0.76300766 0.76371996 0.76400532 0.76403455 0.764174\n",
       " 0.76437785 0.76450962 0.7645727  0.76496722 0.76593917 0.76594682\n",
       " 0.76655978 0.76667865 0.7669605  0.76718421 0.76744487 0.76770519\n",
       " 0.76810933 0.76834701 0.76837685 0.7685942  0.76896955 0.76941025\n",
       " 0.76950002 0.76985456 0.76993111 0.77017383 0.77020482 0.77050754\n",
       " 0.77052146 0.77083431 0.77105584 0.77113953 0.77124954 0.77160738\n",
       " 0.77211184 0.77224385 0.77231091 0.77279979 0.77292623 0.77300038\n",
       " 0.77306749 0.77321644 0.77354417 0.77370871 0.77409528 0.7742274\n",
       " 0.77452904 0.77465549 0.77502867 0.77584873 0.77590477 0.77642846\n",
       " 0.77665676 0.77703027 0.77707003 0.77708742 0.77785664 0.77787706\n",
       " 0.7787306  0.77884978 0.77956609 0.78031608 0.78041817 0.78068578\n",
       " 0.78085057 0.78106356 0.78135959 0.78172962 0.78208859 0.78209158\n",
       " 0.78209836 0.78220059 0.78263822 0.78264603 0.78332683 0.78423321\n",
       " 0.78490739 0.78491641 0.78545988 0.78615569 0.78628449 0.78660174\n",
       " 0.78688525 0.78688603 0.78730771 0.78731085 0.78778464 0.78843919\n",
       " 0.78844019 0.78864163 0.78899223 0.7898489  0.79028465 0.79038901\n",
       " 0.79060071 0.79147466 0.79153863 0.79157643 0.79170959 0.79182955\n",
       " 0.792413   0.79271154 0.79288915 0.79304879 0.79309069 0.79310768\n",
       " 0.79320721 0.79343085 0.7936971  0.79406584 0.79518969 0.79521913\n",
       " 0.79538622 0.79541675 0.79633467 0.79643987 0.79701667 0.79746457\n",
       " 0.79843448 0.79843914 0.79846761 0.79874869 0.79915518 0.79932417\n",
       " 0.79974095 0.80047564 0.80063864 0.80093459 0.80101436 0.80163734\n",
       " 0.80223953 0.80226118 0.80226707 0.80260308 0.80298481 0.80303228\n",
       " 0.80314922 0.80318188 0.80346144 0.80379511 0.80429562 0.8045454\n",
       " 0.80473316 0.80511139 0.80539467 0.80543952 0.80556495 0.80562291\n",
       " 0.80573293 0.80617258 0.80677954 0.80679226 0.80774627 0.80779223\n",
       " 0.80824835 0.80846584 0.80900255 0.80950495 0.80953786 0.81025732\n",
       " 0.81102136 0.81159905 0.81208221 0.81224217 0.81229067 0.81269596\n",
       " 0.81293487 0.81359911 0.81416748 0.81444917 0.81458179 0.81501932\n",
       " 0.81523387 0.81525875 0.81545821 0.81571818 0.81609066 0.81650032\n",
       " 0.81676783 0.81693127 0.81704462 0.81763553 0.81965023 0.82176391\n",
       " 0.82250555 0.82398761 0.82466236 0.82488083 0.82671961 0.82721721\n",
       " 0.8273957  0.82793048 0.82841931 0.82948713 0.82966862 0.83132093\n",
       " 0.8316582  0.83179714 0.83362279 0.83480579 0.83520346 0.8358101\n",
       " 0.83629396 0.83683047 0.83780329 0.83893568 0.83957606 0.84043852\n",
       " 0.84107421 0.8414383  0.84152914 0.84280501 0.84304838 0.84386004\n",
       " 0.84445283 0.84511253 0.84609489 0.84653541 0.84751942 0.84759343\n",
       " 0.84831936 0.84929668 0.84989101 0.85015892 0.85030644 0.85076337\n",
       " 0.85619838 0.85847279 0.86323376 0.86409227 0.86714778 0.86843357\n",
       " 0.86844406 0.87020312 0.8707456  0.8724169  0.87424293 0.87474328\n",
       " 0.89170555 0.90474831]</td>\n",
       "            </tr>\n",
       "            <tr>\n",
       "                        <th id=\"T_5d3f48b8_9eb4_11eb_802b_4c1d9604228dlevel0_row3\" class=\"row_heading level0 row3\" >3</th>\n",
       "                        <td id=\"T_5d3f48b8_9eb4_11eb_802b_4c1d9604228drow3_col0\" class=\"data row3 col0\" >standar deviasi</td>\n",
       "                        <td id=\"T_5d3f48b8_9eb4_11eb_802b_4c1d9604228drow3_col1\" class=\"data row3 col1\" >0.061702</td>\n",
       "            </tr>\n",
       "            <tr>\n",
       "                        <th id=\"T_5d3f48b8_9eb4_11eb_802b_4c1d9604228dlevel0_row4\" class=\"row_heading level0 row4\" >4</th>\n",
       "                        <td id=\"T_5d3f48b8_9eb4_11eb_802b_4c1d9604228drow4_col0\" class=\"data row4 col0\" >variansi</td>\n",
       "                        <td id=\"T_5d3f48b8_9eb4_11eb_802b_4c1d9604228drow4_col1\" class=\"data row4 col1\" >0.003807</td>\n",
       "            </tr>\n",
       "            <tr>\n",
       "                        <th id=\"T_5d3f48b8_9eb4_11eb_802b_4c1d9604228dlevel0_row5\" class=\"row_heading level0 row5\" >5</th>\n",
       "                        <td id=\"T_5d3f48b8_9eb4_11eb_802b_4c1d9604228drow5_col0\" class=\"data row5 col0\" >range</td>\n",
       "                        <td id=\"T_5d3f48b8_9eb4_11eb_802b_4c1d9604228drow5_col1\" class=\"data row5 col1\" >0.730158</td>\n",
       "            </tr>\n",
       "            <tr>\n",
       "                        <th id=\"T_5d3f48b8_9eb4_11eb_802b_4c1d9604228dlevel0_row6\" class=\"row_heading level0 row6\" >6</th>\n",
       "                        <td id=\"T_5d3f48b8_9eb4_11eb_802b_4c1d9604228drow6_col0\" class=\"data row6 col0\" >minimum</td>\n",
       "                        <td id=\"T_5d3f48b8_9eb4_11eb_802b_4c1d9604228drow6_col1\" class=\"data row6 col1\" >0.174590</td>\n",
       "            </tr>\n",
       "            <tr>\n",
       "                        <th id=\"T_5d3f48b8_9eb4_11eb_802b_4c1d9604228dlevel0_row7\" class=\"row_heading level0 row7\" >7</th>\n",
       "                        <td id=\"T_5d3f48b8_9eb4_11eb_802b_4c1d9604228drow7_col0\" class=\"data row7 col0\" >maksimum</td>\n",
       "                        <td id=\"T_5d3f48b8_9eb4_11eb_802b_4c1d9604228drow7_col1\" class=\"data row7 col1\" >0.904748</td>\n",
       "            </tr>\n",
       "            <tr>\n",
       "                        <th id=\"T_5d3f48b8_9eb4_11eb_802b_4c1d9604228dlevel0_row8\" class=\"row_heading level0 row8\" >8</th>\n",
       "                        <td id=\"T_5d3f48b8_9eb4_11eb_802b_4c1d9604228drow8_col0\" class=\"data row8 col0\" >kuartil 1</td>\n",
       "                        <td id=\"T_5d3f48b8_9eb4_11eb_802b_4c1d9604228drow8_col1\" class=\"data row8 col1\" >0.731991</td>\n",
       "            </tr>\n",
       "            <tr>\n",
       "                        <th id=\"T_5d3f48b8_9eb4_11eb_802b_4c1d9604228dlevel0_row9\" class=\"row_heading level0 row9\" >9</th>\n",
       "                        <td id=\"T_5d3f48b8_9eb4_11eb_802b_4c1d9604228drow9_col0\" class=\"data row9 col0\" >kuartil 2</td>\n",
       "                        <td id=\"T_5d3f48b8_9eb4_11eb_802b_4c1d9604228drow9_col1\" class=\"data row9 col1\" >0.761288</td>\n",
       "            </tr>\n",
       "            <tr>\n",
       "                        <th id=\"T_5d3f48b8_9eb4_11eb_802b_4c1d9604228dlevel0_row10\" class=\"row_heading level0 row10\" >10</th>\n",
       "                        <td id=\"T_5d3f48b8_9eb4_11eb_802b_4c1d9604228drow10_col0\" class=\"data row10 col0\" >kuartil 3</td>\n",
       "                        <td id=\"T_5d3f48b8_9eb4_11eb_802b_4c1d9604228drow10_col1\" class=\"data row10 col1\" >0.796361</td>\n",
       "            </tr>\n",
       "            <tr>\n",
       "                        <th id=\"T_5d3f48b8_9eb4_11eb_802b_4c1d9604228dlevel0_row11\" class=\"row_heading level0 row11\" >11</th>\n",
       "                        <td id=\"T_5d3f48b8_9eb4_11eb_802b_4c1d9604228drow11_col0\" class=\"data row11 col0\" >IQR</td>\n",
       "                        <td id=\"T_5d3f48b8_9eb4_11eb_802b_4c1d9604228drow11_col1\" class=\"data row11 col1\" >0.064370</td>\n",
       "            </tr>\n",
       "            <tr>\n",
       "                        <th id=\"T_5d3f48b8_9eb4_11eb_802b_4c1d9604228dlevel0_row12\" class=\"row_heading level0 row12\" >12</th>\n",
       "                        <td id=\"T_5d3f48b8_9eb4_11eb_802b_4c1d9604228drow12_col0\" class=\"data row12 col0\" >skewness</td>\n",
       "                        <td id=\"T_5d3f48b8_9eb4_11eb_802b_4c1d9604228drow12_col1\" class=\"data row12 col1\" >-3.599237</td>\n",
       "            </tr>\n",
       "            <tr>\n",
       "                        <th id=\"T_5d3f48b8_9eb4_11eb_802b_4c1d9604228dlevel0_row13\" class=\"row_heading level0 row13\" >13</th>\n",
       "                        <td id=\"T_5d3f48b8_9eb4_11eb_802b_4c1d9604228drow13_col0\" class=\"data row13 col0\" >kurtosis</td>\n",
       "                        <td id=\"T_5d3f48b8_9eb4_11eb_802b_4c1d9604228drow13_col1\" class=\"data row13 col1\" >29.975096</td>\n",
       "            </tr>\n",
       "    </tbody></table>"
      ],
      "text/plain": [
       "<pandas.io.formats.style.Styler at 0x17d992a4710>"
      ]
     },
     "execution_count": 15,
     "metadata": {},
     "output_type": "execute_result"
    }
   ],
   "source": [
    "# Bulatan\n",
    "nomor1('Bulatan')"
   ]
  },
  {
   "cell_type": "code",
   "execution_count": 16,
   "id": "48407f66",
   "metadata": {},
   "outputs": [
    {
     "data": {
      "text/html": [
       "<style  type=\"text/css\" >\n",
       "</style><table id=\"T_5defe7ba_9eb4_11eb_b6b8_4c1d9604228d\" style='display:inline'><caption>Deskripsi Statistik Ransum</caption><thead>    <tr>        <th class=\"blank level0\" ></th>        <th class=\"col_heading level0 col0\" >0</th>        <th class=\"col_heading level0 col1\" >1</th>    </tr></thead><tbody>\n",
       "                <tr>\n",
       "                        <th id=\"T_5defe7ba_9eb4_11eb_b6b8_4c1d9604228dlevel0_row0\" class=\"row_heading level0 row0\" >0</th>\n",
       "                        <td id=\"T_5defe7ba_9eb4_11eb_b6b8_4c1d9604228drow0_col0\" class=\"data row0 col0\" >mean</td>\n",
       "                        <td id=\"T_5defe7ba_9eb4_11eb_b6b8_4c1d9604228drow0_col1\" class=\"data row0 col1\" >2.150915</td>\n",
       "            </tr>\n",
       "            <tr>\n",
       "                        <th id=\"T_5defe7ba_9eb4_11eb_b6b8_4c1d9604228dlevel0_row1\" class=\"row_heading level0 row1\" >1</th>\n",
       "                        <td id=\"T_5defe7ba_9eb4_11eb_b6b8_4c1d9604228drow1_col0\" class=\"data row1 col0\" >median</td>\n",
       "                        <td id=\"T_5defe7ba_9eb4_11eb_b6b8_4c1d9604228drow1_col1\" class=\"data row1 col1\" >2.193599</td>\n",
       "            </tr>\n",
       "            <tr>\n",
       "                        <th id=\"T_5defe7ba_9eb4_11eb_b6b8_4c1d9604228dlevel0_row2\" class=\"row_heading level0 row2\" >2</th>\n",
       "                        <td id=\"T_5defe7ba_9eb4_11eb_b6b8_4c1d9604228drow2_col0\" class=\"data row2 col0\" >modus</td>\n",
       "                        <td id=\"T_5defe7ba_9eb4_11eb_b6b8_4c1d9604228drow2_col1\" class=\"data row2 col1\" >[1.44079562 1.45313658 1.46595015 1.48345605 1.51000024 1.51934197\n",
       " 1.52172723 1.54048663 1.5420579  1.54718325 1.54753566 1.55009418\n",
       " 1.56465256 1.58018954 1.58660847 1.58746216 1.59013408 1.61898202\n",
       " 1.65307939 1.65543321 1.66811277 1.67563913 1.6800393  1.68337372\n",
       " 1.68659214 1.68819623 1.69725069 1.69922647 1.70064373 1.70697746\n",
       " 1.71391421 1.72488549 1.72703223 1.73601534 1.74752328 1.75100193\n",
       " 1.75127415 1.7601     1.76021012 1.76364045 1.76365724 1.77839948\n",
       " 1.77859548 1.78089829 1.78141461 1.78228391 1.78277949 1.78852746\n",
       " 1.7981668  1.7999591  1.802645   1.80289305 1.80401234 1.8055657\n",
       " 1.80815895 1.81231337 1.81578134 1.81760877 1.82625181 1.83009134\n",
       " 1.8331378  1.83374015 1.83789868 1.83825096 1.84028642 1.84056052\n",
       " 1.84134338 1.84673075 1.85013915 1.85154104 1.85301262 1.85365086\n",
       " 1.8537631  1.85401362 1.85522089 1.85907972 1.86382857 1.87578241\n",
       " 1.8776946  1.87805045 1.88064591 1.88310166 1.88434101 1.88643959\n",
       " 1.88785243 1.88870019 1.88883221 1.89672207 1.89818537 1.90143727\n",
       " 1.90604654 1.90661938 1.90681733 1.90778399 1.9107876  1.91122471\n",
       " 1.91282581 1.91697146 1.91808097 1.91909264 1.92094305 1.92591221\n",
       " 1.92871616 1.93081831 1.93105814 1.93569855 1.93860642 1.93890281\n",
       " 1.94644011 1.94688595 1.95033017 1.95297043 1.95825463 1.95839565\n",
       " 1.96280274 1.96817911 1.9727376  1.97308803 1.9752661  1.97667944\n",
       " 1.97693235 1.97869024 1.97889128 1.9789531  1.98387475 1.98396014\n",
       " 1.98426015 1.98632577 1.98649914 1.98663285 1.99537403 1.99566453\n",
       " 1.9963922  1.99770722 1.9980862  2.00038077 2.00114651 2.00151602\n",
       " 2.00325936 2.00504275 2.00653111 2.00789217 2.0085044  2.01106075\n",
       " 2.01118395 2.01270268 2.01277602 2.01383666 2.0147035  2.014789\n",
       " 2.01695679 2.0188409  2.02127562 2.02337673 2.02795134 2.02909693\n",
       " 2.02972929 2.03040459 2.0321843  2.03363782 2.03954957 2.04179048\n",
       " 2.04515946 2.0478172  2.04836831 2.04999207 2.05036159 2.05259056\n",
       " 2.05620341 2.05724708 2.05936645 2.06251491 2.06305512 2.06313671\n",
       " 2.06348189 2.06430714 2.06639784 2.06758759 2.0678626  2.06872306\n",
       " 2.06901128 2.06929035 2.07093529 2.0711318  2.07121037 2.07148393\n",
       " 2.07342202 2.07497042 2.07506837 2.07845887 2.07846247 2.07866003\n",
       " 2.08034426 2.08232503 2.08652859 2.08747539 2.09089885 2.09376024\n",
       " 2.09709775 2.09918652 2.09984714 2.10027437 2.10066629 2.10224698\n",
       " 2.10491693 2.1049262  2.10494515 2.1057073  2.10584352 2.10711498\n",
       " 2.10774019 2.10936877 2.11050847 2.11390084 2.11410263 2.11858137\n",
       " 2.12154334 2.12212441 2.12244331 2.12359548 2.12483756 2.12662826\n",
       " 2.12853697 2.13149577 2.1323482  2.13361966 2.13364839 2.13681367\n",
       " 2.14355157 2.14928325 2.1525715  2.15346705 2.15680945 2.16221662\n",
       " 2.16312224 2.16688934 2.16897431 2.16926512 2.17671208 2.17747485\n",
       " 2.1804902  2.18073856 2.18171621 2.18248378 2.18515848 2.18979806\n",
       " 2.19044124 2.19060801 2.19073334 2.19313241 2.19406566 2.19408845\n",
       " 2.19415807 2.19787742 2.20144559 2.20401268 2.20590967 2.20642817\n",
       " 2.20712875 2.208922   2.20933531 2.20973391 2.21288765 2.21302743\n",
       " 2.21849312 2.21962541 2.22030567 2.22111203 2.22139459 2.22242168\n",
       " 2.22415165 2.22619704 2.2265763  2.23657372 2.2393984  2.23957573\n",
       " 2.25127664 2.25251271 2.25654002 2.25798263 2.26013734 2.263187\n",
       " 2.26434941 2.26661112 2.26738628 2.26743092 2.26750033 2.26774892\n",
       " 2.26780923 2.26796364 2.26927835 2.26976829 2.2743787  2.27569424\n",
       " 2.27569474 2.27753084 2.27796171 2.27802891 2.28040565 2.28941795\n",
       " 2.29083916 2.29089112 2.29228889 2.29367423 2.29600804 2.29666362\n",
       " 2.29667814 2.30191269 2.30309032 2.3031764  2.3101414  2.3101934\n",
       " 2.31367799 2.31537848 2.3156969  2.31613943 2.31681556 2.31705922\n",
       " 2.3186965  2.31916698 2.31977363 2.32003701 2.32140883 2.32146794\n",
       " 2.3220132  2.32466732 2.3259607  2.32776021 2.3282059  2.32843143\n",
       " 2.32859974 2.33019151 2.33028195 2.33343718 2.3341385  2.33525386\n",
       " 2.33562886 2.33685187 2.33754228 2.33824471 2.33861326 2.33870168\n",
       " 2.34013491 2.34108154 2.34376951 2.3441163  2.34447005 2.34684843\n",
       " 2.34802965 2.35103612 2.35137349 2.35151575 2.35255151 2.352695\n",
       " 2.35371473 2.3545136  2.35544388 2.35731593 2.35770297 2.35814076\n",
       " 2.36219907 2.36343497 2.36500495 2.36559764 2.36569167 2.36625285\n",
       " 2.36753418 2.3678128  2.37081329 2.37266995 2.37327481 2.37745802\n",
       " 2.37899324 2.38103334 2.38117687 2.38291826 2.38316225 2.38387966\n",
       " 2.3841424  2.38416524 2.38503543 2.38559792 2.38628145 2.38645785\n",
       " 2.38657506 2.38683029 2.39052635 2.39114818 2.39119784 2.39220743\n",
       " 2.39283373 2.39301663 2.39343124 2.39390912 2.39396756 2.39455045\n",
       " 2.39533972 2.39593991 2.39675687 2.39693767 2.39747357 2.39775761\n",
       " 2.39807793 2.39919678 2.39924907 2.40008635 2.40088016 2.40137876\n",
       " 2.40282945 2.40323609 2.40367835 2.40435795 2.40693868 2.40747963\n",
       " 2.40904472 2.40942221 2.40965505 2.40985039 2.41031416 2.41035497\n",
       " 2.41084296 2.41245943 2.41269891 2.41304088 2.41415932 2.41578277\n",
       " 2.4160049  2.4164218  2.4174815  2.41842043 2.41889629 2.41915155\n",
       " 2.41917728 2.42222063 2.42248073 2.42283522 2.42301328 2.42492264\n",
       " 2.42540218 2.42561734 2.42565777 2.42654161 2.42670311 2.42722907\n",
       " 2.42798333 2.42816715 2.42835227 2.43176546 2.43207856 2.43241649\n",
       " 2.43330455 2.43367842 2.43396579 2.43466103 2.43605548 2.43633347\n",
       " 2.43671967 2.43864761 2.43945351 2.43948666 2.44102098 2.44168019\n",
       " 2.44207467 2.44272232 2.44293088 2.4429757  2.44338494 2.44453248\n",
       " 2.44513496 2.4453417  2.44543748 2.44593528 2.44746903 2.44906394\n",
       " 2.4492201  2.44955255 2.44957357 2.45015633 2.45036957 2.45145274\n",
       " 2.45181572 2.45271684 2.45327822 2.45330082 2.45376943 2.45422817\n",
       " 2.45538353 2.45660855 2.45734025 2.45766993 2.45865688 2.45942803\n",
       " 2.46030805 2.46043169 2.46087511 2.46101701 2.46151044 2.46329684\n",
       " 2.46354573 2.46480858]</td>\n",
       "            </tr>\n",
       "            <tr>\n",
       "                        <th id=\"T_5defe7ba_9eb4_11eb_b6b8_4c1d9604228dlevel0_row3\" class=\"row_heading level0 row3\" >3</th>\n",
       "                        <td id=\"T_5defe7ba_9eb4_11eb_b6b8_4c1d9604228drow3_col0\" class=\"data row3 col0\" >standar deviasi</td>\n",
       "                        <td id=\"T_5defe7ba_9eb4_11eb_b6b8_4c1d9604228drow3_col1\" class=\"data row3 col1\" >0.249767</td>\n",
       "            </tr>\n",
       "            <tr>\n",
       "                        <th id=\"T_5defe7ba_9eb4_11eb_b6b8_4c1d9604228dlevel0_row4\" class=\"row_heading level0 row4\" >4</th>\n",
       "                        <td id=\"T_5defe7ba_9eb4_11eb_b6b8_4c1d9604228drow4_col0\" class=\"data row4 col0\" >variansi</td>\n",
       "                        <td id=\"T_5defe7ba_9eb4_11eb_b6b8_4c1d9604228drow4_col1\" class=\"data row4 col1\" >0.062383</td>\n",
       "            </tr>\n",
       "            <tr>\n",
       "                        <th id=\"T_5defe7ba_9eb4_11eb_b6b8_4c1d9604228dlevel0_row5\" class=\"row_heading level0 row5\" >5</th>\n",
       "                        <td id=\"T_5defe7ba_9eb4_11eb_b6b8_4c1d9604228drow5_col0\" class=\"data row5 col0\" >range</td>\n",
       "                        <td id=\"T_5defe7ba_9eb4_11eb_b6b8_4c1d9604228drow5_col1\" class=\"data row5 col1\" >1.024013</td>\n",
       "            </tr>\n",
       "            <tr>\n",
       "                        <th id=\"T_5defe7ba_9eb4_11eb_b6b8_4c1d9604228dlevel0_row6\" class=\"row_heading level0 row6\" >6</th>\n",
       "                        <td id=\"T_5defe7ba_9eb4_11eb_b6b8_4c1d9604228drow6_col0\" class=\"data row6 col0\" >minimum</td>\n",
       "                        <td id=\"T_5defe7ba_9eb4_11eb_b6b8_4c1d9604228drow6_col1\" class=\"data row6 col1\" >1.440796</td>\n",
       "            </tr>\n",
       "            <tr>\n",
       "                        <th id=\"T_5defe7ba_9eb4_11eb_b6b8_4c1d9604228dlevel0_row7\" class=\"row_heading level0 row7\" >7</th>\n",
       "                        <td id=\"T_5defe7ba_9eb4_11eb_b6b8_4c1d9604228drow7_col0\" class=\"data row7 col0\" >maksimum</td>\n",
       "                        <td id=\"T_5defe7ba_9eb4_11eb_b6b8_4c1d9604228drow7_col1\" class=\"data row7 col1\" >2.464809</td>\n",
       "            </tr>\n",
       "            <tr>\n",
       "                        <th id=\"T_5defe7ba_9eb4_11eb_b6b8_4c1d9604228dlevel0_row8\" class=\"row_heading level0 row8\" >8</th>\n",
       "                        <td id=\"T_5defe7ba_9eb4_11eb_b6b8_4c1d9604228drow8_col0\" class=\"data row8 col0\" >kuartil 1</td>\n",
       "                        <td id=\"T_5defe7ba_9eb4_11eb_b6b8_4c1d9604228drow8_col1\" class=\"data row8 col1\" >1.983939</td>\n",
       "            </tr>\n",
       "            <tr>\n",
       "                        <th id=\"T_5defe7ba_9eb4_11eb_b6b8_4c1d9604228dlevel0_row9\" class=\"row_heading level0 row9\" >9</th>\n",
       "                        <td id=\"T_5defe7ba_9eb4_11eb_b6b8_4c1d9604228drow9_col0\" class=\"data row9 col0\" >kuartil 2</td>\n",
       "                        <td id=\"T_5defe7ba_9eb4_11eb_b6b8_4c1d9604228drow9_col1\" class=\"data row9 col1\" >2.193599</td>\n",
       "            </tr>\n",
       "            <tr>\n",
       "                        <th id=\"T_5defe7ba_9eb4_11eb_b6b8_4c1d9604228dlevel0_row10\" class=\"row_heading level0 row10\" >10</th>\n",
       "                        <td id=\"T_5defe7ba_9eb4_11eb_b6b8_4c1d9604228drow10_col0\" class=\"data row10 col0\" >kuartil 3</td>\n",
       "                        <td id=\"T_5defe7ba_9eb4_11eb_b6b8_4c1d9604228drow10_col1\" class=\"data row10 col1\" >2.381612</td>\n",
       "            </tr>\n",
       "            <tr>\n",
       "                        <th id=\"T_5defe7ba_9eb4_11eb_b6b8_4c1d9604228dlevel0_row11\" class=\"row_heading level0 row11\" >11</th>\n",
       "                        <td id=\"T_5defe7ba_9eb4_11eb_b6b8_4c1d9604228drow11_col0\" class=\"data row11 col0\" >IQR</td>\n",
       "                        <td id=\"T_5defe7ba_9eb4_11eb_b6b8_4c1d9604228drow11_col1\" class=\"data row11 col1\" >0.397673</td>\n",
       "            </tr>\n",
       "            <tr>\n",
       "                        <th id=\"T_5defe7ba_9eb4_11eb_b6b8_4c1d9604228dlevel0_row12\" class=\"row_heading level0 row12\" >12</th>\n",
       "                        <td id=\"T_5defe7ba_9eb4_11eb_b6b8_4c1d9604228drow12_col0\" class=\"data row12 col0\" >skewness</td>\n",
       "                        <td id=\"T_5defe7ba_9eb4_11eb_b6b8_4c1d9604228drow12_col1\" class=\"data row12 col1\" >-0.658188</td>\n",
       "            </tr>\n",
       "            <tr>\n",
       "                        <th id=\"T_5defe7ba_9eb4_11eb_b6b8_4c1d9604228dlevel0_row13\" class=\"row_heading level0 row13\" >13</th>\n",
       "                        <td id=\"T_5defe7ba_9eb4_11eb_b6b8_4c1d9604228drow13_col0\" class=\"data row13 col0\" >kurtosis</td>\n",
       "                        <td id=\"T_5defe7ba_9eb4_11eb_b6b8_4c1d9604228drow13_col1\" class=\"data row13 col1\" >-0.428656</td>\n",
       "            </tr>\n",
       "    </tbody></table>"
      ],
      "text/plain": [
       "<pandas.io.formats.style.Styler at 0x17d992a4be0>"
      ]
     },
     "execution_count": 16,
     "metadata": {},
     "output_type": "execute_result"
    }
   ],
   "source": [
    "# Ransum\n",
    "nomor1('Ransum')"
   ]
  },
  {
   "cell_type": "code",
   "execution_count": 17,
   "id": "f73151b0",
   "metadata": {},
   "outputs": [
    {
     "data": {
      "text/html": [
       "<style  type=\"text/css\" >\n",
       "</style><table id=\"T_5e6eac5c_9eb4_11eb_ae4e_4c1d9604228d\" style='display:inline'><caption>Deskripsi Statistik Kelas</caption><thead>    <tr>        <th class=\"blank level0\" ></th>        <th class=\"col_heading level0 col0\" >0</th>        <th class=\"col_heading level0 col1\" >1</th>    </tr></thead><tbody>\n",
       "                <tr>\n",
       "                        <th id=\"T_5e6eac5c_9eb4_11eb_ae4e_4c1d9604228dlevel0_row0\" class=\"row_heading level0 row0\" >0</th>\n",
       "                        <td id=\"T_5e6eac5c_9eb4_11eb_ae4e_4c1d9604228drow0_col0\" class=\"data row0 col0\" >mean</td>\n",
       "                        <td id=\"T_5e6eac5c_9eb4_11eb_ae4e_4c1d9604228drow0_col1\" class=\"data row0 col1\" >1.502000</td>\n",
       "            </tr>\n",
       "            <tr>\n",
       "                        <th id=\"T_5e6eac5c_9eb4_11eb_ae4e_4c1d9604228dlevel0_row1\" class=\"row_heading level0 row1\" >1</th>\n",
       "                        <td id=\"T_5e6eac5c_9eb4_11eb_ae4e_4c1d9604228drow1_col0\" class=\"data row1 col0\" >median</td>\n",
       "                        <td id=\"T_5e6eac5c_9eb4_11eb_ae4e_4c1d9604228drow1_col1\" class=\"data row1 col1\" >2.000000</td>\n",
       "            </tr>\n",
       "            <tr>\n",
       "                        <th id=\"T_5e6eac5c_9eb4_11eb_ae4e_4c1d9604228dlevel0_row2\" class=\"row_heading level0 row2\" >2</th>\n",
       "                        <td id=\"T_5e6eac5c_9eb4_11eb_ae4e_4c1d9604228drow2_col0\" class=\"data row2 col0\" >modus</td>\n",
       "                        <td id=\"T_5e6eac5c_9eb4_11eb_ae4e_4c1d9604228drow2_col1\" class=\"data row2 col1\" >[2]</td>\n",
       "            </tr>\n",
       "            <tr>\n",
       "                        <th id=\"T_5e6eac5c_9eb4_11eb_ae4e_4c1d9604228dlevel0_row3\" class=\"row_heading level0 row3\" >3</th>\n",
       "                        <td id=\"T_5e6eac5c_9eb4_11eb_ae4e_4c1d9604228drow3_col0\" class=\"data row3 col0\" >standar deviasi</td>\n",
       "                        <td id=\"T_5e6eac5c_9eb4_11eb_ae4e_4c1d9604228drow3_col1\" class=\"data row3 col1\" >0.500497</td>\n",
       "            </tr>\n",
       "            <tr>\n",
       "                        <th id=\"T_5e6eac5c_9eb4_11eb_ae4e_4c1d9604228dlevel0_row4\" class=\"row_heading level0 row4\" >4</th>\n",
       "                        <td id=\"T_5e6eac5c_9eb4_11eb_ae4e_4c1d9604228drow4_col0\" class=\"data row4 col0\" >variansi</td>\n",
       "                        <td id=\"T_5e6eac5c_9eb4_11eb_ae4e_4c1d9604228drow4_col1\" class=\"data row4 col1\" >0.250497</td>\n",
       "            </tr>\n",
       "            <tr>\n",
       "                        <th id=\"T_5e6eac5c_9eb4_11eb_ae4e_4c1d9604228dlevel0_row5\" class=\"row_heading level0 row5\" >5</th>\n",
       "                        <td id=\"T_5e6eac5c_9eb4_11eb_ae4e_4c1d9604228drow5_col0\" class=\"data row5 col0\" >range</td>\n",
       "                        <td id=\"T_5e6eac5c_9eb4_11eb_ae4e_4c1d9604228drow5_col1\" class=\"data row5 col1\" >1</td>\n",
       "            </tr>\n",
       "            <tr>\n",
       "                        <th id=\"T_5e6eac5c_9eb4_11eb_ae4e_4c1d9604228dlevel0_row6\" class=\"row_heading level0 row6\" >6</th>\n",
       "                        <td id=\"T_5e6eac5c_9eb4_11eb_ae4e_4c1d9604228drow6_col0\" class=\"data row6 col0\" >minimum</td>\n",
       "                        <td id=\"T_5e6eac5c_9eb4_11eb_ae4e_4c1d9604228drow6_col1\" class=\"data row6 col1\" >1</td>\n",
       "            </tr>\n",
       "            <tr>\n",
       "                        <th id=\"T_5e6eac5c_9eb4_11eb_ae4e_4c1d9604228dlevel0_row7\" class=\"row_heading level0 row7\" >7</th>\n",
       "                        <td id=\"T_5e6eac5c_9eb4_11eb_ae4e_4c1d9604228drow7_col0\" class=\"data row7 col0\" >maksimum</td>\n",
       "                        <td id=\"T_5e6eac5c_9eb4_11eb_ae4e_4c1d9604228drow7_col1\" class=\"data row7 col1\" >2</td>\n",
       "            </tr>\n",
       "            <tr>\n",
       "                        <th id=\"T_5e6eac5c_9eb4_11eb_ae4e_4c1d9604228dlevel0_row8\" class=\"row_heading level0 row8\" >8</th>\n",
       "                        <td id=\"T_5e6eac5c_9eb4_11eb_ae4e_4c1d9604228drow8_col0\" class=\"data row8 col0\" >kuartil 1</td>\n",
       "                        <td id=\"T_5e6eac5c_9eb4_11eb_ae4e_4c1d9604228drow8_col1\" class=\"data row8 col1\" >1.000000</td>\n",
       "            </tr>\n",
       "            <tr>\n",
       "                        <th id=\"T_5e6eac5c_9eb4_11eb_ae4e_4c1d9604228dlevel0_row9\" class=\"row_heading level0 row9\" >9</th>\n",
       "                        <td id=\"T_5e6eac5c_9eb4_11eb_ae4e_4c1d9604228drow9_col0\" class=\"data row9 col0\" >kuartil 2</td>\n",
       "                        <td id=\"T_5e6eac5c_9eb4_11eb_ae4e_4c1d9604228drow9_col1\" class=\"data row9 col1\" >2.000000</td>\n",
       "            </tr>\n",
       "            <tr>\n",
       "                        <th id=\"T_5e6eac5c_9eb4_11eb_ae4e_4c1d9604228dlevel0_row10\" class=\"row_heading level0 row10\" >10</th>\n",
       "                        <td id=\"T_5e6eac5c_9eb4_11eb_ae4e_4c1d9604228drow10_col0\" class=\"data row10 col0\" >kuartil 3</td>\n",
       "                        <td id=\"T_5e6eac5c_9eb4_11eb_ae4e_4c1d9604228drow10_col1\" class=\"data row10 col1\" >2.000000</td>\n",
       "            </tr>\n",
       "            <tr>\n",
       "                        <th id=\"T_5e6eac5c_9eb4_11eb_ae4e_4c1d9604228dlevel0_row11\" class=\"row_heading level0 row11\" >11</th>\n",
       "                        <td id=\"T_5e6eac5c_9eb4_11eb_ae4e_4c1d9604228drow11_col0\" class=\"data row11 col0\" >IQR</td>\n",
       "                        <td id=\"T_5e6eac5c_9eb4_11eb_ae4e_4c1d9604228drow11_col1\" class=\"data row11 col1\" >1.000000</td>\n",
       "            </tr>\n",
       "            <tr>\n",
       "                        <th id=\"T_5e6eac5c_9eb4_11eb_ae4e_4c1d9604228dlevel0_row12\" class=\"row_heading level0 row12\" >12</th>\n",
       "                        <td id=\"T_5e6eac5c_9eb4_11eb_ae4e_4c1d9604228drow12_col0\" class=\"data row12 col0\" >skewness</td>\n",
       "                        <td id=\"T_5e6eac5c_9eb4_11eb_ae4e_4c1d9604228drow12_col1\" class=\"data row12 col1\" >-0.008024</td>\n",
       "            </tr>\n",
       "            <tr>\n",
       "                        <th id=\"T_5e6eac5c_9eb4_11eb_ae4e_4c1d9604228dlevel0_row13\" class=\"row_heading level0 row13\" >13</th>\n",
       "                        <td id=\"T_5e6eac5c_9eb4_11eb_ae4e_4c1d9604228drow13_col0\" class=\"data row13 col0\" >kurtosis</td>\n",
       "                        <td id=\"T_5e6eac5c_9eb4_11eb_ae4e_4c1d9604228drow13_col1\" class=\"data row13 col1\" >-2.007984</td>\n",
       "            </tr>\n",
       "    </tbody></table>"
      ],
      "text/plain": [
       "<pandas.io.formats.style.Styler at 0x17d992a4a20>"
      ]
     },
     "execution_count": 17,
     "metadata": {},
     "output_type": "execute_result"
    }
   ],
   "source": [
    "# Kelas\n",
    "nomor1('Kelas')"
   ]
  },
  {
   "cell_type": "markdown",
   "id": "2c9c1965",
   "metadata": {},
   "source": [
    "Nomor 2"
   ]
  },
  {
   "cell_type": "code",
   "execution_count": 18,
   "id": "2da1ae46",
   "metadata": {},
   "outputs": [],
   "source": [
    "# Soal 2\n",
    "\n",
    "# Membuat Visualisasi plot distribusi, dalam bentuk histogram dan boxplot untuk setiap\n",
    "# kolom numerik. Berikan uraian penjelasan kondisi setiap kolom berdasarkan kedua plot\n",
    "# tersebut.\n",
    "\n",
    "def nomor2(nama):\n",
    "    import pandas as pd\n",
    "    import matplotlib.pyplot as plt\n",
    "\n",
    "    # membuka file csv\n",
    "    path = 'D:\\KULIAH SMT 4\\IF2220 Probabilitas dan Statistika\\TUBES\\Gandum.csv'\n",
    "    # menamakan kolom\n",
    "    df = pd.read_csv(path, names=[\"id\", \"Daerah\", \"SumbuUtama\", \"SumbuKecil\", \"Keunikan\", \"AreaBulatan\", \"Diameter\", \"KadarAir\", \"Keliling\", \"Bulatan\", \"Ransum\", \"Kelas\"])\n",
    "\n",
    "    df1=df[nama]\n",
    "    print(\"Histogram :\")\n",
    "    df1.plot(kind='hist',edgecolor='black', color='skyblue', title=\"Histogram \"+nama, grid=True)\n",
    "    plt.show()\n",
    "    print(\"Boxplot :\")\n",
    "    df.boxplot(column=nama)\n",
    "    plt.show()"
   ]
  },
  {
   "cell_type": "code",
   "execution_count": 20,
   "id": "bffedf92",
   "metadata": {},
   "outputs": [
    {
     "name": "stdout",
     "output_type": "stream",
     "text": [
      "Histogram :\n"
     ]
    },
    {
     "data": {
      "image/png": "[encoded data removed]",
      "text/plain": [
       "<Figure size 432x288 with 1 Axes>"
      ]
     },
     "metadata": {
      "needs_background": "light"
     },
     "output_type": "display_data"
    },
    {
     "name": "stdout",
     "output_type": "stream",
     "text": [
      "Boxplot :\n"
     ]
    },
    {
     "data": {
      "image/png": "[encoded data removed]",
      "text/plain": [
       "<Figure size 432x288 with 1 Axes>"
      ]
     },
     "metadata": {
      "needs_background": "light"
     },
     "output_type": "display_data"
    },
    {
     "name": "stdout",
     "output_type": "stream",
     "text": [
      "Berdasarkan histogram dan boxplotnya, dapat diketahui bahwa kolom id merupakan distribusi uniform.\n"
     ]
    }
   ],
   "source": [
    "# id\n",
    "nomor2('id')\n",
    "print(\"Berdasarkan histogram dan boxplotnya, dapat diketahui bahwa kolom id merupakan distribusi uniform.\")"
   ]
  },
  {
   "cell_type": "code",
   "execution_count": 21,
   "id": "10338515",
   "metadata": {},
   "outputs": [
    {
     "name": "stdout",
     "output_type": "stream",
     "text": [
      "Histogram :\n"
     ]
    },
    {
     "data": {
      "image/png": "[encoded data removed]",
      "text/plain": [
       "<Figure size 432x288 with 1 Axes>"
      ]
     },
     "metadata": {
      "needs_background": "light"
     },
     "output_type": "display_data"
    },
    {
     "name": "stdout",
     "output_type": "stream",
     "text": [
      "Boxplot :\n"
     ]
    },
    {
     "data": {
      "image/png": "[encoded data removed]",
      "text/plain": [
       "<Figure size 432x288 with 1 Axes>"
      ]
     },
     "metadata": {
      "needs_background": "light"
     },
     "output_type": "display_data"
    },
    {
     "name": "stdout",
     "output_type": "stream",
     "text": [
      "Berdasarkan histogram dan boxplotnya, data pada kolom daerah relatif simetris, rentang nilai minimum dan maksimumnya relatif besar, dan tidak memiliki pencilan.\n"
     ]
    }
   ],
   "source": [
    "# Daerah\n",
    "nomor2('Daerah')\n",
    "print(\"Berdasarkan histogram dan boxplotnya, data pada kolom daerah relatif simetris, rentang nilai minimum dan maksimumnya relatif besar, dan tidak memiliki pencilan.\")"
   ]
  },
  {
   "cell_type": "code",
   "execution_count": 22,
   "id": "efd52b4b",
   "metadata": {},
   "outputs": [
    {
     "name": "stdout",
     "output_type": "stream",
     "text": [
      "Histogram :\n"
     ]
    },
    {
     "data": {
      "image/png": "[encoded data removed]",
      "text/plain": [
       "<Figure size 432x288 with 1 Axes>"
      ]
     },
     "metadata": {
      "needs_background": "light"
     },
     "output_type": "display_data"
    },
    {
     "name": "stdout",
     "output_type": "stream",
     "text": [
      "Boxplot :\n"
     ]
    },
    {
     "data": {
      "image/png": "[encoded data removed]",
      "text/plain": [
       "<Figure size 432x288 with 1 Axes>"
      ]
     },
     "metadata": {
      "needs_background": "light"
     },
     "output_type": "display_data"
    },
    {
     "name": "stdout",
     "output_type": "stream",
     "text": [
      "Berdasarkan histogram dan boxplotnya, kolom SumbuUtama memiliki rentang nilai maksimum dan minimum yang relatif kecil dan pencilan atas\n"
     ]
    }
   ],
   "source": [
    "# SumbuUtama\n",
    "nomor2('SumbuUtama')\n",
    "print(\"Berdasarkan histogram dan boxplotnya, kolom SumbuUtama memiliki rentang nilai maksimum dan minimum yang relatif kecil dan pencilan atas\")"
   ]
  },
  {
   "cell_type": "code",
   "execution_count": 23,
   "id": "ee53d094",
   "metadata": {},
   "outputs": [
    {
     "name": "stdout",
     "output_type": "stream",
     "text": [
      "Histogram :\n"
     ]
    },
    {
     "data": {
      "image/png": "[encoded data removed]",
      "text/plain": [
       "<Figure size 432x288 with 1 Axes>"
      ]
     },
     "metadata": {
      "needs_background": "light"
     },
     "output_type": "display_data"
    },
    {
     "name": "stdout",
     "output_type": "stream",
     "text": [
      "Boxplot :\n"
     ]
    },
    {
     "data": {
      "image/png": "[encoded data removed]",
      "text/plain": [
       "<Figure size 432x288 with 1 Axes>"
      ]
     },
     "metadata": {
      "needs_background": "light"
     },
     "output_type": "display_data"
    },
    {
     "name": "stdout",
     "output_type": "stream",
     "text": [
      "Berdasarkan histogram dan boxplotnya, kolom SumbuKecil memiliki pencilan atas dan pencilan bawah.\n"
     ]
    }
   ],
   "source": [
    "# SumbuKecil\n",
    "nomor2('SumbuKecil')\n",
    "print(\"Berdasarkan histogram dan boxplotnya, kolom SumbuKecil memiliki pencilan atas dan pencilan bawah.\")"
   ]
  },
  {
   "cell_type": "code",
   "execution_count": 24,
   "id": "dc8ecff8",
   "metadata": {},
   "outputs": [
    {
     "name": "stdout",
     "output_type": "stream",
     "text": [
      "Histogram :\n"
     ]
    },
    {
     "data": {
      "image/png": "[encoded data removed]",
      "text/plain": [
       "<Figure size 432x288 with 1 Axes>"
      ]
     },
     "metadata": {
      "needs_background": "light"
     },
     "output_type": "display_data"
    },
    {
     "name": "stdout",
     "output_type": "stream",
     "text": [
      "Boxplot :\n"
     ]
    },
    {
     "data": {
      "image/png": "[encoded data removed]",
      "text/plain": [
       "<Figure size 432x288 with 1 Axes>"
      ]
     },
     "metadata": {
      "needs_background": "light"
     },
     "output_type": "display_data"
    },
    {
     "name": "stdout",
     "output_type": "stream",
     "text": [
      "Berdasarkan histogram dan boxplotnya, kolom keunikan merupakan data yang skew-left dan memiliki banyak pencilan bawah\n"
     ]
    }
   ],
   "source": [
    "# Keunikan\n",
    "nomor2('Keunikan')\n",
    "print(\"Berdasarkan histogram dan boxplotnya, kolom keunikan merupakan data yang skew-left dan memiliki banyak pencilan bawah\")"
   ]
  },
  {
   "cell_type": "code",
   "execution_count": 25,
   "id": "ca5b740a",
   "metadata": {},
   "outputs": [
    {
     "name": "stdout",
     "output_type": "stream",
     "text": [
      "Histogram :\n"
     ]
    },
    {
     "data": {
      "image/png": "[encoded data removed]",
      "text/plain": [
       "<Figure size 432x288 with 1 Axes>"
      ]
     },
     "metadata": {
      "needs_background": "light"
     },
     "output_type": "display_data"
    },
    {
     "name": "stdout",
     "output_type": "stream",
     "text": [
      "Boxplot :\n"
     ]
    },
    {
     "data": {
      "image/png": "[encoded data removed]",
      "text/plain": [
       "<Figure size 432x288 with 1 Axes>"
      ]
     },
     "metadata": {
      "needs_background": "light"
     },
     "output_type": "display_data"
    },
    {
     "name": "stdout",
     "output_type": "stream",
     "text": [
      "Berdasarkan histogram dan boxplotnya, kolom area bulatan memiliki distribusi yang relatif simetris dan tidak memiliki pencilan atas maupun bawah\n"
     ]
    }
   ],
   "source": [
    "# AreaBulatan\n",
    "nomor2('AreaBulatan')\n",
    "print(\"Berdasarkan histogram dan boxplotnya, kolom area bulatan memiliki distribusi yang relatif simetris dan tidak memiliki pencilan atas maupun bawah\")"
   ]
  },
  {
   "cell_type": "code",
   "execution_count": 26,
   "id": "77720e90",
   "metadata": {},
   "outputs": [
    {
     "name": "stdout",
     "output_type": "stream",
     "text": [
      "Histogram :\n"
     ]
    },
    {
     "data": {
      "image/png": "[encoded data removed]",
      "text/plain": [
       "<Figure size 432x288 with 1 Axes>"
      ]
     },
     "metadata": {
      "needs_background": "light"
     },
     "output_type": "display_data"
    },
    {
     "name": "stdout",
     "output_type": "stream",
     "text": [
      "Boxplot :\n"
     ]
    },
    {
     "data": {
      "image/png": "[encoded data removed]",
      "text/plain": [
       "<Figure size 432x288 with 1 Axes>"
      ]
     },
     "metadata": {
      "needs_background": "light"
     },
     "output_type": "display_data"
    },
    {
     "name": "stdout",
     "output_type": "stream",
     "text": [
      "Berdasarkan histogram dan boxplotnya, kolom diameter memiliki distribusi yang relatif simetris dan tidak memiliki pencilan atas maupun bawah\n"
     ]
    }
   ],
   "source": [
    "# Diameter\n",
    "nomor2('Diameter')\n",
    "print(\"Berdasarkan histogram dan boxplotnya, kolom diameter memiliki distribusi yang relatif simetris dan tidak memiliki pencilan atas maupun bawah\")"
   ]
  },
  {
   "cell_type": "code",
   "execution_count": 27,
   "id": "6af9e317",
   "metadata": {},
   "outputs": [
    {
     "name": "stdout",
     "output_type": "stream",
     "text": [
      "Histogram :\n"
     ]
    },
    {
     "data": {
      "image/png": "[encoded data removed]",
      "text/plain": [
       "<Figure size 432x288 with 1 Axes>"
      ]
     },
     "metadata": {
      "needs_background": "light"
     },
     "output_type": "display_data"
    },
    {
     "name": "stdout",
     "output_type": "stream",
     "text": [
      "Boxplot :\n"
     ]
    },
    {
     "data": {
      "image/png": "[encoded data removed]",
      "text/plain": [
       "<Figure size 432x288 with 1 Axes>"
      ]
     },
     "metadata": {
      "needs_background": "light"
     },
     "output_type": "display_data"
    },
    {
     "name": "stdout",
     "output_type": "stream",
     "text": [
      "Berdasarkan histogram dan boxplotnya, kolom kadar air tidak memiliki pencilan atas maupun bawah.\n"
     ]
    }
   ],
   "source": [
    "# KadarAir\n",
    "nomor2('KadarAir')\n",
    "print(\"Berdasarkan histogram dan boxplotnya, kolom kadar air tidak memiliki pencilan atas maupun bawah.\")"
   ]
  },
  {
   "cell_type": "code",
   "execution_count": 28,
   "id": "9db3cc89",
   "metadata": {},
   "outputs": [
    {
     "name": "stdout",
     "output_type": "stream",
     "text": [
      "Histogram :\n"
     ]
    },
    {
     "data": {
      "image/png": "[encoded data removed]",
      "text/plain": [
       "<Figure size 432x288 with 1 Axes>"
      ]
     },
     "metadata": {
      "needs_background": "light"
     },
     "output_type": "display_data"
    },
    {
     "name": "stdout",
     "output_type": "stream",
     "text": [
      "Boxplot :\n"
     ]
    },
    {
     "data": {
      "image/png": "[encoded data removed]",
      "text/plain": [
       "<Figure size 432x288 with 1 Axes>"
      ]
     },
     "metadata": {
      "needs_background": "light"
     },
     "output_type": "display_data"
    },
    {
     "name": "stdout",
     "output_type": "stream",
     "text": [
      "Berdasarkan histogram dan boxplotnya, kolom Keliling memiliki pencilan atas.\n"
     ]
    }
   ],
   "source": [
    "# Keliling\n",
    "nomor2('Keliling')\n",
    "print(\"Berdasarkan histogram dan boxplotnya, kolom Keliling memiliki pencilan atas.\")"
   ]
  },
  {
   "cell_type": "code",
   "execution_count": 29,
   "id": "9f123c99",
   "metadata": {},
   "outputs": [
    {
     "name": "stdout",
     "output_type": "stream",
     "text": [
      "Histogram :\n"
     ]
    },
    {
     "data": {
      "image/png": "[encoded data removed]",
      "text/plain": [
       "<Figure size 432x288 with 1 Axes>"
      ]
     },
     "metadata": {
      "needs_background": "light"
     },
     "output_type": "display_data"
    },
    {
     "name": "stdout",
     "output_type": "stream",
     "text": [
      "Boxplot :\n"
     ]
    },
    {
     "data": {
      "image/png": "[encoded data removed]",
      "text/plain": [
       "<Figure size 432x288 with 1 Axes>"
      ]
     },
     "metadata": {
      "needs_background": "light"
     },
     "output_type": "display_data"
    },
    {
     "name": "stdout",
     "output_type": "stream",
     "text": [
      "Berdasarkan histogram dan boxplotnya, kolom Bulatan memiliki pencilan atas dan banyak pencilan bawah.\n"
     ]
    }
   ],
   "source": [
    "# Bulatan\n",
    "nomor2('Bulatan')\n",
    "print(\"Berdasarkan histogram dan boxplotnya, kolom Bulatan memiliki pencilan atas dan banyak pencilan bawah.\")"
   ]
  },
  {
   "cell_type": "code",
   "execution_count": 30,
   "id": "4db4565a",
   "metadata": {},
   "outputs": [
    {
     "name": "stdout",
     "output_type": "stream",
     "text": [
      "Histogram :\n"
     ]
    },
    {
     "data": {
      "image/png": "[encoded data removed]",
      "text/plain": [
       "<Figure size 432x288 with 1 Axes>"
      ]
     },
     "metadata": {
      "needs_background": "light"
     },
     "output_type": "display_data"
    },
    {
     "name": "stdout",
     "output_type": "stream",
     "text": [
      "Boxplot :\n"
     ]
    },
    {
     "data": {
      "image/png": "[encoded data removed]",
      "text/plain": [
       "<Figure size 432x288 with 1 Axes>"
      ]
     },
     "metadata": {
      "needs_background": "light"
     },
     "output_type": "display_data"
    },
    {
     "name": "stdout",
     "output_type": "stream",
     "text": [
      "Berdasarkan histogram dan boxplotnya, kolom Ransum tidak memiliki pencilan dan merupakan data yang skew-left.\n"
     ]
    }
   ],
   "source": [
    "# Ransum\n",
    "nomor2('Ransum')\n",
    "print(\"Berdasarkan histogram dan boxplotnya, kolom Ransum tidak memiliki pencilan dan merupakan data yang skew-left.\")"
   ]
  },
  {
   "cell_type": "code",
   "execution_count": 31,
   "id": "acb123b2",
   "metadata": {},
   "outputs": [
    {
     "name": "stdout",
     "output_type": "stream",
     "text": [
      "Histogram :\n"
     ]
    },
    {
     "data": {
      "image/png": "[encoded data removed]",
      "text/plain": [
       "<Figure size 432x288 with 1 Axes>"
      ]
     },
     "metadata": {
      "needs_background": "light"
     },
     "output_type": "display_data"
    },
    {
     "name": "stdout",
     "output_type": "stream",
     "text": [
      "Boxplot :\n"
     ]
    },
    {
     "data": {
      "image/png": "[encoded data removed]",
      "text/plain": [
       "<Figure size 432x288 with 1 Axes>"
      ]
     },
     "metadata": {
      "needs_background": "light"
     },
     "output_type": "display_data"
    },
    {
     "name": "stdout",
     "output_type": "stream",
     "text": [
      "Berdasarkan histogram dan boxplotnya, kolom kelas merupakan kolom yang bernilai antara 1 dan 2, serta tidak memiliki pencilan.\n"
     ]
    }
   ],
   "source": [
    "# Kelas\n",
    "nomor2('Kelas')\n",
    "print(\"Berdasarkan histogram dan boxplotnya, kolom kelas merupakan kolom yang bernilai antara 1 dan 2, serta tidak memiliki pencilan.\")"
   ]
  },
  {
   "cell_type": "markdown",
   "id": "00792685",
   "metadata": {},
   "source": [
    "Nomor 3"
   ]
  },
  {
   "cell_type": "code",
   "execution_count": 32,
   "id": "0a9c3672",
   "metadata": {},
   "outputs": [],
   "source": [
    "# 3\n",
    "# Menentukan setiap kolom numerik berdistribusi normal atau tidak. Gunakan normality test\n",
    "# yang dikaitkan dengan histogram plot.\n",
    "\n",
    "def normality_test(nama):\n",
    "    import pandas as pd\n",
    "    import matplotlib.pyplot as plt\n",
    "    from scipy import stats\n",
    "\n",
    "    # membuka file csv\n",
    "    path = 'D:\\KULIAH SMT 4\\IF2220 Probabilitas dan Statistika\\TUBES\\Gandum.csv'\n",
    "    # menamakan kolom\n",
    "    df = pd.read_csv(path, names=[\"id\", \"Daerah\", \"SumbuUtama\", \"SumbuKecil\", \"Keunikan\", \"AreaBulatan\", \"Diameter\", \"KadarAir\", \"Keliling\", \"Bulatan\", \"Ransum\", \"Kelas\"])\n",
    "\n",
    "    statistic, p_val = stats.normaltest(df[nama])\n",
    "    print(\"Nilai P : \"+str(p_val))\n",
    "    alpha = 0.05\n",
    "    # jika p-value > alpha, maka distribusi normal\n",
    "    print(\"Kolom \"+nama,end=' ')\n",
    "    if p_val > alpha:\n",
    "        print(\"berdistribusi normal.\")\n",
    "    else:\n",
    "        print(\"tidak berdistribusi normal.\")"
   ]
  },
  {
   "cell_type": "code",
   "execution_count": 33,
   "id": "cb619b73",
   "metadata": {},
   "outputs": [
    {
     "name": "stdout",
     "output_type": "stream",
     "text": [
      "Nilai P : 1.1693020376929758e-69\n",
      "Kolom id tidak berdistribusi normal.\n"
     ]
    }
   ],
   "source": [
    "# id\n",
    "normality_test(\"id\")"
   ]
  },
  {
   "cell_type": "code",
   "execution_count": 34,
   "id": "d83dc17f",
   "metadata": {},
   "outputs": [
    {
     "name": "stdout",
     "output_type": "stream",
     "text": [
      "Nilai P : 0.004386271773193838\n",
      "Kolom Daerah tidak berdistribusi normal.\n"
     ]
    }
   ],
   "source": [
    "# Daerah\n",
    "normality_test(\"Daerah\")"
   ]
  },
  {
   "cell_type": "code",
   "execution_count": 35,
   "id": "ce1f9cba",
   "metadata": {},
   "outputs": [
    {
     "name": "stdout",
     "output_type": "stream",
     "text": [
      "Nilai P : 2.2127429343273333e-21\n",
      "Kolom SumbuUtama tidak berdistribusi normal.\n"
     ]
    }
   ],
   "source": [
    "# SumbuUtama\n",
    "normality_test(\"SumbuUtama\")"
   ]
  },
  {
   "cell_type": "code",
   "execution_count": 36,
   "id": "6624c258",
   "metadata": {},
   "outputs": [
    {
     "name": "stdout",
     "output_type": "stream",
     "text": [
      "Nilai P : 0.1573634413290252\n",
      "Kolom SumbuKecil berdistribusi normal.\n"
     ]
    }
   ],
   "source": [
    "# SumbuKecil\n",
    "normality_test(\"SumbuKecil\")"
   ]
  },
  {
   "cell_type": "code",
   "execution_count": 37,
   "id": "7b91bbdf",
   "metadata": {},
   "outputs": [
    {
     "name": "stdout",
     "output_type": "stream",
     "text": [
      "Nilai P : 3.602971140062405e-35\n",
      "Kolom Keunikan tidak berdistribusi normal.\n"
     ]
    }
   ],
   "source": [
    "# Keunikan\n",
    "normality_test(\"Keunikan\")"
   ]
  },
  {
   "cell_type": "code",
   "execution_count": 38,
   "id": "09208c75",
   "metadata": {},
   "outputs": [
    {
     "name": "stdout",
     "output_type": "stream",
     "text": [
      "Nilai P : 0.004657058890055043\n",
      "Kolom AreaBulatan tidak berdistribusi normal.\n"
     ]
    }
   ],
   "source": [
    "# AreaBulatan\n",
    "normality_test(\"AreaBulatan\")"
   ]
  },
  {
   "cell_type": "code",
   "execution_count": 39,
   "id": "6a4989b4",
   "metadata": {},
   "outputs": [
    {
     "name": "stdout",
     "output_type": "stream",
     "text": [
      "Nilai P : 0.024157198077543095\n",
      "Kolom Diameter tidak berdistribusi normal.\n"
     ]
    }
   ],
   "source": [
    "# Diameter\n",
    "normality_test(\"Diameter\")"
   ]
  },
  {
   "cell_type": "code",
   "execution_count": 40,
   "id": "45662f7c",
   "metadata": {},
   "outputs": [
    {
     "name": "stdout",
     "output_type": "stream",
     "text": [
      "Nilai P : 2.5869363404624707e-11\n",
      "Kolom KadarAir tidak berdistribusi normal.\n"
     ]
    }
   ],
   "source": [
    "# KadarAir\n",
    "normality_test(\"KadarAir\")"
   ]
  },
  {
   "cell_type": "code",
   "execution_count": 41,
   "id": "305dc0e8",
   "metadata": {},
   "outputs": [
    {
     "name": "stdout",
     "output_type": "stream",
     "text": [
      "Nilai P : 2.2390130437166565e-15\n",
      "Kolom Keliling tidak berdistribusi normal.\n"
     ]
    }
   ],
   "source": [
    "# Keliling\n",
    "normality_test(\"Keliling\")"
   ]
  },
  {
   "cell_type": "code",
   "execution_count": 42,
   "id": "8aa2ea7a",
   "metadata": {},
   "outputs": [
    {
     "name": "stdout",
     "output_type": "stream",
     "text": [
      "Nilai P : 9.885276103161724e-97\n",
      "Kolom Bulatan tidak berdistribusi normal.\n"
     ]
    }
   ],
   "source": [
    "# Bulatan\n",
    "normality_test(\"Bulatan\")"
   ]
  },
  {
   "cell_type": "code",
   "execution_count": 43,
   "id": "ebedcfbe",
   "metadata": {},
   "outputs": [
    {
     "name": "stdout",
     "output_type": "stream",
     "text": [
      "Nilai P : 8.963008041823752e-09\n",
      "Kolom Ransum tidak berdistribusi normal.\n"
     ]
    }
   ],
   "source": [
    "# Ransum\n",
    "normality_test(\"Ransum\")"
   ]
  },
  {
   "cell_type": "code",
   "execution_count": 44,
   "id": "9299942e",
   "metadata": {},
   "outputs": [
    {
     "name": "stdout",
     "output_type": "stream",
     "text": [
      "Nilai P : 0.0\n",
      "Kolom Kelas tidak berdistribusi normal.\n"
     ]
    }
   ],
   "source": [
    "# Kelas\n",
    "normality_test(\"Kelas\")"
   ]
  },
  {
   "cell_type": "markdown",
   "id": "d59690af",
   "metadata": {},
   "source": [
    "Nomor 4"
   ]
  },
  {
   "cell_type": "code",
   "execution_count": null,
   "id": "2a0e0719",
   "metadata": {},
   "outputs": [],
   "source": [
    "# 4\n",
    "# Melakukan test hipotesis 1 sampel, dengan menuliskan 6 langkah testing dan menampilkan\n",
    "# juga boxplotnya untuk kolom/bagian yang bersesuaian.\n",
    "# a. Nilai rata-rata Daerah di atas 4700?\n",
    "# b. Nilai Rata-rata Sumbu Utama tidak sama dengan 116?\n",
    "# c. Nilai Rata-rata 20 baris pertama kolom Sumbu Kecil bukan 50?\n",
    "# d. Proporsi nilai Diameter yang lebih dari 85, adalah tidak sama dengan 15% ?\n",
    "# e. Proporsi nilai Keliling yang kurang dari 100, adalah kurang dari 5% ?\n"
   ]
  },
  {
   "cell_type": "code",
   "execution_count": 45,
   "id": "ecf422d2",
   "metadata": {},
   "outputs": [],
   "source": [
    "import os\n",
    "import pandas as pd\n",
    "from scipy import stats\n",
    "import matplotlib.pyplot as plt\n",
    "\n",
    "# membuka file csv\n",
    "path = 'D:\\KULIAH SMT 4\\IF2220 Probabilitas dan Statistika\\TUBES\\Gandum.csv'\n",
    "# menamakan kolom\n",
    "df = pd.read_csv(path, names=[\"id\", \"Daerah\", \"SumbuUtama\", \"SumbuKecil\", \"Keunikan\", \"AreaBulatan\", \"Diameter\", \"KadarAir\", \"Keliling\", \"Bulatan\", \"Ransum\", \"Kelas\"])\n"
   ]
  },
  {
   "cell_type": "code",
   "execution_count": 46,
   "id": "b11a72b8",
   "metadata": {},
   "outputs": [
    {
     "name": "stdout",
     "output_type": "stream",
     "text": [
      "Nilai uji statistik : 2.295153824252517\n",
      "Nilai P : 0.011069185447613176\n",
      "Berdasarkan uji hipotesis menggunakan P-value,\n",
      "maka hipotesis nol H0 DITOLAK\n"
     ]
    },
    {
     "data": {
      "image/png": "[encoded data removed]",
      "text/plain": [
       "<Figure size 432x288 with 1 Axes>"
      ]
     },
     "metadata": {
      "needs_background": "light"
     },
     "output_type": "display_data"
    }
   ],
   "source": [
    "# Sampel yang diambil adalah seluruh populasinya.\n",
    "# a. Nilai rata-rata Daerah di atas 4700?\n",
    "df1 = df[\"Daerah\"]\n",
    "# 1. Tentukan Hipotesis Nol, H0 : mean = 4700\n",
    "# 2. Tentukan Hipotesis Alternatif, H1 : mean > 4700\n",
    "# 3. Tentukan tingkat signifikansi alfa\n",
    "alfa = 0.05\n",
    "# 4. Tentukan uji statistik yang sesuai dan tentukan daerah kritis\n",
    "# Daerah kritis hipotesis alternatif ada di sebelah kanan nilai kritis\n",
    "# uji T test dan mencari p_value\n",
    "# 5. Hitung nilai uji statistik dari data sample. Hitung p-value sesuai dengan uji statistik yang digunakan.\n",
    "stat, p_value = stats.ttest_1samp(df1, 4700)\n",
    "# Karena ttest_1samp secara default merupakan two-sided, maka p_value dibagi 2\n",
    "p_value /= 2\n",
    "print(\"Nilai uji statistik :\",stat)\n",
    "print(\"Nilai P :\",p_value)\n",
    "# 6. Ambil keputusan tolak atau terima, berdasarkan p-value\n",
    "print(\"Berdasarkan uji hipotesis menggunakan P-value,\\nmaka hipotesis nol H0\",end=' ')\n",
    "if (p_value < alfa):\n",
    "  print(\"DITOLAK\")\n",
    "else:\n",
    "  print(\"TIDAK DITOLAK\")\n",
    "\n",
    "df.boxplot(column=\"Daerah\")\n",
    "plt.show()"
   ]
  },
  {
   "cell_type": "code",
   "execution_count": 47,
   "id": "85f47246",
   "metadata": {},
   "outputs": [
    {
     "name": "stdout",
     "output_type": "stream",
     "text": [
      "Nilai uji statistik : -1.3101757355175676\n",
      "Nilai P : 0.1911420067726601\n",
      "Berdasarkan uji hipotesis menggunakan P-value,\n",
      "maka hipotesis nol H0 TIDAK DITOLAK\n"
     ]
    },
    {
     "data": {
      "image/png": "[encoded data removed]",
      "text/plain": [
       "<Figure size 432x288 with 1 Axes>"
      ]
     },
     "metadata": {
      "needs_background": "light"
     },
     "output_type": "display_data"
    }
   ],
   "source": [
    "# Sampel yang diambil adalah seluruh populasinya.\n",
    "# b. Nilai Rata-rata Sumbu Utama tidak sama dengan 116?\n",
    "df1 = df[\"SumbuUtama\"][100:400]\n",
    "# 1. Tentukan Hipotesis Nol, H0 : mean = 116\n",
    "# 2. Tentukan Hipotesis Alternatif, H1 : mean != 116\n",
    "# 3. Tentukan tingkat signifikansi alfa\n",
    "alfa = 0.05\n",
    "# 4. Tentukan uji statistik yang sesuai dan tentukan daerah kritis\n",
    "# Daerah kritis berada di kedua bagian mean < 116 dan mean > 116\n",
    "# uji T test dan mencari p_value\n",
    "# 5. Hitung nilai uji statistik dari data sample. Hitung p-value sesuai dengan uji statistik yang digunakan.\n",
    "stat, p_value = stats.ttest_1samp(df1, 116)\n",
    "print(\"Nilai uji statistik :\",stat)\n",
    "print(\"Nilai P :\",p_value)\n",
    "# 6. Ambil keputusan tolak atau terima, berdasarkan p-value\n",
    "print(\"Berdasarkan uji hipotesis menggunakan P-value,\\nmaka hipotesis nol H0\",end=' ')\n",
    "if (p_value < alfa):\n",
    "  print(\"DITOLAK\")\n",
    "else:\n",
    "  print(\"TIDAK DITOLAK\")\n",
    "\n",
    "df.boxplot(column=\"SumbuUtama\")\n",
    "plt.show()"
   ]
  },
  {
   "cell_type": "code",
   "execution_count": 48,
   "id": "927805bf",
   "metadata": {},
   "outputs": [
    {
     "name": "stdout",
     "output_type": "stream",
     "text": [
      "Nilai uji statistik : 6.478168916968894\n",
      "Nilai P : 3.3020185644244998e-06\n",
      "Berdasarkan uji hipotesis menggunakan P-value,\n",
      "maka hipotesis nol H0 DITOLAK\n"
     ]
    },
    {
     "data": {
      "image/png": "[encoded data removed]",
      "text/plain": [
       "<Figure size 432x288 with 1 Axes>"
      ]
     },
     "metadata": {
      "needs_background": "light"
     },
     "output_type": "display_data"
    }
   ],
   "source": [
    "# Sampel yang diambil adalah 20 baris pertama kolom Sumbu Kecil\n",
    "# c. Nilai Rata-rata 20 baris pertama kolom Sumbu Kecil bukan 50?\n",
    "df1 = df[\"SumbuKecil\"][:20]\n",
    "# 1. Tentukan Hipotesis Nol, H0 : mean = 50\n",
    "# 2. Tentukan Hipotesis Alternatif, H1 : mean != 50\n",
    "# 3. Tentukan tingkat signifikansi alfa\n",
    "alfa = 0.05\n",
    "# 4. Tentukan uji statistik yang sesuai dan tentukan daerah kritis\n",
    "# Daerah kritis berada di kedua bagian mean < 50 dan mean > 50\n",
    "# uji T test dan mencari p_value\n",
    "# 5. Hitung nilai uji statistik dari data sample. Hitung p-value sesuai dengan uji statistik yang digunakan.\n",
    "stat, p_value = stats.ttest_1samp(df1, 50)\n",
    "print(\"Nilai uji statistik :\",stat)\n",
    "print(\"Nilai P :\",p_value)\n",
    "# 6. Ambil keputusan tolak atau terima, berdasarkan p-value\n",
    "print(\"Berdasarkan uji hipotesis menggunakan P-value,\\nmaka hipotesis nol H0\",end=' ')\n",
    "if (p_value < alfa):\n",
    "  print(\"DITOLAK\")\n",
    "else:\n",
    "  print(\"TIDAK DITOLAK\")\n",
    "\n",
    "df1.plot.box(title='BoxPlot 20 Baris Pertama')\n",
    "plt.show()"
   ]
  },
  {
   "cell_type": "code",
   "execution_count": 49,
   "id": "1fdb795c",
   "metadata": {},
   "outputs": [
    {
     "name": "stdout",
     "output_type": "stream",
     "text": [
      "Nilai uji statistik : 2.4881083733392226\n",
      "Nilai P : 0.012842459209356831\n",
      "Berdasarkan uji hipotesis menggunakan P-value,\n",
      "maka hipotesis nol H0 DITOLAK\n"
     ]
    },
    {
     "data": {
      "image/png": "[encoded data removed]",
      "text/plain": [
       "<Figure size 432x288 with 1 Axes>"
      ]
     },
     "metadata": {
      "needs_background": "light"
     },
     "output_type": "display_data"
    }
   ],
   "source": [
    "# Sampel yang diambil adalah nilai Diameter yang lebih dari 85\n",
    "# d. Proporsi nilai Diameter yang lebih dari 85, adalah tidak sama dengan 15% ?\n",
    "from statsmodels.stats.proportion import proportions_ztest\n",
    "# kolom diameter dengan nilai diatas 85\n",
    "df1 = df[df[\"Diameter\"]>85][\"Diameter\"]\n",
    "# 1. Tentukan Hipotesis Nol, H0 : proporsi = 15%\n",
    "# 2. Tentukan Hipotesis Alternatif, H1 : proporsi != 15%\n",
    "# 3. Tentukan tingkat signifikansi alfa\n",
    "alfa = 0.05\n",
    "# 4. Tentukan uji statistik yang sesuai dan tentukan daerah kritis\n",
    "# Menggunakan Z test, Daerah kritis berada di kedua bagian proporsi < 0.15 dan proporsi > 0.15\n",
    "# 5. Hitung nilai uji statistik dari data sample. Hitung p-value sesuai dengan uji statistik yang digunakan\n",
    "stat, p_value = proportions_ztest(df1.count(), 500, 0.15, alternative='two-sided')\n",
    "print(\"Nilai uji statistik :\",stat)\n",
    "print(\"Nilai P :\",p_value)\n",
    "# 6. Ambil keputusan tolak atau terima, berdasarkan p-value\n",
    "print(\"Berdasarkan uji hipotesis menggunakan P-value,\\nmaka hipotesis nol H0\",end=' ')\n",
    "if (p_value < alfa):\n",
    "  print(\"DITOLAK\")\n",
    "else:\n",
    "  print(\"TIDAK DITOLAK\")\n",
    "\n",
    "df1.plot.box(title=\"BoxPlot Diameter > 85\")\n",
    "plt.show()"
   ]
  },
  {
   "cell_type": "code",
   "execution_count": 50,
   "id": "92da8ea0",
   "metadata": {},
   "outputs": [
    {
     "name": "stdout",
     "output_type": "stream",
     "text": [
      "Nilai uji statistik : -inf\n",
      "Nilai P : 1.0\n",
      "Berdasarkan uji hipotesis menggunakan P-value,\n",
      "maka hipotesis nol H0 TIDAK DITOLAK\n"
     ]
    },
    {
     "name": "stderr",
     "output_type": "stream",
     "text": [
      "c:\\users\\ahan\\appdata\\local\\programs\\python\\python36\\lib\\site-packages\\statsmodels\\stats\\weightstats.py:790: RuntimeWarning: divide by zero encountered in double_scalars\n",
      "  zstat = value / std\n"
     ]
    },
    {
     "data": {
      "image/png": "[encoded data removed]",
      "text/plain": [
       "<Figure size 432x288 with 1 Axes>"
      ]
     },
     "metadata": {
      "needs_background": "light"
     },
     "output_type": "display_data"
    }
   ],
   "source": [
    "# Sampel yang diambil adalah nilai Keliling yang kurang dari 100\n",
    "# e. Proporsi nilai Keliling yang kurang dari 100, adalah kurang dari 5% ?\n",
    "\n",
    "from statsmodels.stats.proportion import proportions_ztest\n",
    "# kolom keliling dengan nilai diatas 100\n",
    "df1 = df[df[\"Keliling\"]<100][\"Keliling\"]\n",
    "# 1. Tentukan Hipotesis Nol, H0 : proporsi < 5%\n",
    "# 2. Tentukan Hipotesis Alternatif, H1 : proporsi >= 5%\n",
    "# 3. Tentukan tingkat signifikansi alfa\n",
    "alfa = 0.05\n",
    "# 4. Tentukan uji statistik yang sesuai dan tentukan daerah kritis\n",
    "# Menggunakan Z test, Daerah kritis berada di kedua bagian proporsi < 0.05 dan proporsi > 0.05\n",
    "# 5. Hitung nilai uji statistik dari data sample. Hitung p-value sesuai dengan uji statistik yang digunakan\n",
    "stat, p_value = proportions_ztest(df1.count(), 500, 0.05, alternative='larger')\n",
    "print(\"Nilai uji statistik :\",stat)\n",
    "print(\"Nilai P :\",p_value)\n",
    "# 6. Ambil keputusan tolak atau terima, berdasarkan p-value\n",
    "print(\"Berdasarkan uji hipotesis menggunakan P-value,\\nmaka hipotesis nol H0\",end=' ')\n",
    "if (p_value < alfa):\n",
    "  print(\"DITOLAK\")\n",
    "else:\n",
    "  print(\"TIDAK DITOLAK\")\n",
    "\n",
    "df1.plot.box(title=\"BoxPlot Keliling < 100\")\n",
    "plt.show()\n",
    "\n",
    "# Catatan : TIDAK ADA DATA DENGAN NILAI KELILING < 100."
   ]
  },
  {
   "cell_type": "markdown",
   "id": "905c913e",
   "metadata": {},
   "source": [
    "Nomor 5"
   ]
  },
  {
   "cell_type": "code",
   "execution_count": null,
   "id": "c750033e",
   "metadata": {},
   "outputs": [],
   "source": [
    "# Soal 5\n",
    "\n",
    "# Melakukan test hipotesis 2 sampel, dengan menuliskan 6 langkah testing dan menampilkan\n",
    "# juga boxplotnya untuk kolom/bagian yang bersesuaian.\n",
    "\n",
    "import pandas as pd\n",
    "import matplotlib.pyplot as plt\n",
    "from scipy import stats\n",
    "import math\n",
    "from statsmodels.stats import weightstats as stests\n",
    "\n",
    "# membuka file csv\n",
    "path = 'C:/Users/Hiro Agayeff/Documents/0KULIAH/SMT_4/PROBSTAT/TubesProbstat/Gandum.csv'\n",
    "# menamakan kolom\n",
    "df = pd.read_csv(path, names=[\"id\", \"Daerah\", \"SumbuUtama\", \"SumbuKecil\", \"Keunikan\", \"AreaBulatan\", \"Diameter\", \"KadarAir\", \"Keliling\", \"Bulatan\", \"Ransum\", \"Kelas\"])"
   ]
  },
  {
   "cell_type": "code",
   "execution_count": null,
   "id": "0efe8b0c",
   "metadata": {},
   "outputs": [],
   "source": [
    "# 5a. Data kolom AreaBulatan dibagi 2 sama rata: bagian awal dan bagian akhir kolom.\n",
    "#     Benarkah rata-rata kedua bagian tersebut sama?\n",
    "\n",
    "# nilai tingkat signifikan\n",
    "alpha = 0.05\n",
    "\n",
    "# data bagian awal\n",
    "df1 = df['AreaBulatan'][:250]\n",
    "# data bagian akhir\n",
    "df2 = df['AreaBulatan'][250:]\n",
    "\n",
    "# plot data\n",
    "print('Plot data awal AreaBulatan:')\n",
    "df1.plot.box()\n",
    "plt.show()\n",
    "print('Plot data akhir AreaBulatan:')\n",
    "df2.plot.box()\n",
    "plt.show()\n",
    "\n",
    "# uji statistik (t test)\n",
    "tstat, pval = stats.ttest_rel(df1, df2)\n",
    "print('Nilai uji statistik: ', tstat)\n",
    "\n",
    "# P value\n",
    "print('P value: ', pval)\n",
    "\n",
    "# Daerah kritis\n",
    "x = stats.t.ppf(alpha, len(df1)-1)\n",
    "y = stats.t.ppf(1-alpha, len(df2)-1)\n",
    "print('Daerah kritis diantara ', x, ' dan ', y)\n",
    "\n",
    "# Kesimpulan\n",
    "print('\\nKesimpulan:')\n",
    "if (alpha > pval):\n",
    "    print('H0 ditolak')\n",
    "else:\n",
    "    print('H0 tidak ditolak')"
   ]
  },
  {
   "cell_type": "code",
   "execution_count": null,
   "id": "076abb5a",
   "metadata": {},
   "outputs": [],
   "source": [
    "# 5b. Data kolom Kadar Air dibagi 2 sama rata: bagian awal dan bagian akhir kolom. Benarkah\n",
    "#     rata-rata bagian awal lebih besar dari pada bagian akhir sebesar 0.2?\n",
    "\n",
    "# H0 = rata-rata data bagian awal KadarAir - rata-rata data bagian akhir KadarAir = 0.2\n",
    "# H1 = rata-rata data bagian awal KadarAir - rata-rata data bagian akhir KadarAir ≠ 0.2\n",
    "\n",
    "# nilai tingkat signifikan\n",
    "alpha = 0.05\n",
    "\n",
    "# data bagian awal\n",
    "df1 = df['KadarAir'][:250]\n",
    "# data bagian akhir\n",
    "df2 = df['KadarAir'][250:]\n",
    "\n",
    "# plot data\n",
    "print('Plot data awal KadarAir:')\n",
    "df1.plot.box()\n",
    "plt.show()\n",
    "print('Plot data akhir KadarAir:')\n",
    "df2.plot.box()\n",
    "plt.show()\n",
    "\n",
    "# uji statistik (test z)\n",
    "ztest, pval = stests.ztest(df1, x2=df2, value=0.2, alternative='two-sided')\n",
    "print('Nilai uji statistik: ', ztest)\n",
    "\n",
    "# P value\n",
    "print('P value: ', pval)\n",
    "\n",
    "# Daerah kritis\n",
    "print('Daerah kritis pada z > z(0.05) atau z < -z(0.05)')\n",
    "\n",
    "# Kesimpulan\n",
    "print('\\nKesimpulan:')\n",
    "if (pval > 1.960 or pval < -1.960):\n",
    "    print('H0 ditolak')\n",
    "else:\n",
    "    print('H0 tidak ditolak')"
   ]
  },
  {
   "cell_type": "code",
   "execution_count": null,
   "id": "7bacaf7a",
   "metadata": {},
   "outputs": [],
   "source": [
    "# 5c. Rata-rata 20 baris pertama kolom Bulatan sama dengan 20 baris terakhirnya?\n",
    "\n",
    "# nilai tingkat signifikan\n",
    "alpha = 0.05\n",
    "\n",
    "# data bagian awal\n",
    "df1 = df['Bulatan'][:20]\n",
    "# data bagian akhir\n",
    "df2 = df['Bulatan'][480:500]\n",
    "\n",
    "# plot data\n",
    "print('Plot data awal Bulatan:')\n",
    "df1.plot.box()\n",
    "plt.show()\n",
    "print('Plot data akhir Bulatan:')\n",
    "df2.plot.box()\n",
    "plt.show()\n",
    "\n",
    "# uji statistik (t test)\n",
    "tstat, pval = stats.ttest_rel(df1, df2)\n",
    "print('Nilai uji statistik: ', tstat)\n",
    "\n",
    "# P value\n",
    "print('P value: ', pval)\n",
    "\n",
    "# Daerah kritis\n",
    "x = stats.t.ppf(alpha, len(df1)-1)\n",
    "y = stats.t.ppf(1-alpha, len(df2)-1)\n",
    "print('Daerah kritis diantara ', x, ' dan ', y)\n",
    "\n",
    "# Kesimpulan\n",
    "print('\\nKesimpulan:')\n",
    "if (alpha > pval):\n",
    "    print('H0 ditolak')\n",
    "else:\n",
    "    print('H0 tidak ditolak')"
   ]
  },
  {
   "cell_type": "code",
   "execution_count": null,
   "id": "f412c9c1",
   "metadata": {},
   "outputs": [],
   "source": [
    "# 5d. Proporsi nilai bagian awal Ransum yang lebih dari 2, adalah lebih besar daripada,\n",
    "#    proporsi nilai yang sama di bagian akhir Ransum?\n",
    "\n",
    "# H0 = Pawal(ransum > 2) > Pakhir(ransum > 2)\n",
    "# H1 = Pawal(ransum > 2) <= Pakhir(ransum > 2)\n",
    "\n",
    "# nilai tingkat signifikan\n",
    "alpha = 0.05\n",
    "\n",
    "# data bagian awal\n",
    "dfr1 = df['Ransum'][:250][df['Ransum'] > 2]\n",
    "# data bagian akhir\n",
    "dfr2 = df['Ransum'][250:][df['Ransum'] > 2]\n",
    "\n",
    "# plot data\n",
    "print('Plot data awal Ransum:')\n",
    "dfr1.plot.box()\n",
    "plt.show()\n",
    "print('Plot data akhir Ransum:')\n",
    "dfr2.plot.box()\n",
    "plt.show()\n",
    "\n",
    "# jumlah data awal dan akhir ransum\n",
    "nr1 = 250\n",
    "nr2 = 250\n",
    "\n",
    "# uji statistik (test z)\n",
    "p1 = len(dfr1)/nr1\n",
    "p2 = len(dfr2)/nr2\n",
    "p = (len(dfr1) + len(dfr2))/(nr1+nr2)\n",
    "q = 1-p\n",
    "z = (p1-p2)/math.sqrt(p*q*(1/nr1 + 1/nr2))\n",
    "\n",
    "print('Nilai uji statistik: ', z)\n",
    "\n",
    "# Daerah kritis\n",
    "zkritis = stats.norm.ppf(0.05)\n",
    "print('Daerah kritis terletak pada z > ', zkritis)\n",
    "\n",
    "# Kesimpulan\n",
    "print('\\nKesimpulan:')\n",
    "if (z > zkritis):\n",
    "    print('H0 ditolak')\n",
    "else:\n",
    "    print('H0 tidak ditolak')"
   ]
  },
  {
   "cell_type": "code",
   "execution_count": null,
   "id": "13c2f309",
   "metadata": {},
   "outputs": [],
   "source": [
    "# 5e. Bagian awal kolom Diameter memiliki variansi yang sama dengan bagian akhirnya?\n",
    "\n",
    "# H0 = var1 = var2\n",
    "# H1 = var1 != var2\n",
    "\n",
    "# nilai tingkat signifikan\n",
    "alpha = 0.05\n",
    "\n",
    "# Data bagian awal\n",
    "df1 = df['Diameter'][:250]\n",
    "# Data bagian akhir\n",
    "df2 = df['Diameter'][250:]\n",
    "\n",
    "# Plot data\n",
    "print('Plot data awal Diameter:')\n",
    "df1.plot.box()\n",
    "plt.show()\n",
    "print('Plot data akhir Diameter:')\n",
    "df2.plot.box()\n",
    "plt.show()\n",
    "\n",
    "# degrees of freedom\n",
    "dfn = len(df1)-1\n",
    "dfd = len(df2)-1\n",
    "\n",
    "# Variance dari data awal dan akhir\n",
    "var1 = df1.var(ddof=1)\n",
    "var2 = df2.var(ddof=1)\n",
    "print('Variance data awal Diameter: ', var1)\n",
    "print('Variance data akhir Diameter: ', var2)\n",
    "\n",
    "# Uji statistik (test f)\n",
    "f = var1/var2\n",
    "print('Nilai uji statistik: ', f)\n",
    "\n",
    "# P Value\n",
    "f_pval = 1-stats.f.cdf(f, dfn, dfd)\n",
    "print('P value: ', f_pval)\n",
    "\n",
    "# Daerah kritis\n",
    "fkritis1 = stats.f(dfn, dfd).ppf(1-alpha/2)\n",
    "fkritis2 = stats.f(dfn, dfd).ppf(alpha/2)\n",
    "print('f memiliki daerah kritis pada f > ', fkritis1, ' dan f < ', fkritis2)\n",
    "\n",
    "# Kesimpulan\n",
    "print('\\nKesimpulan:')\n",
    "if (f > fkritis1 or f < fkritis2):\n",
    "    print('H0 ditolak')\n",
    "else:\n",
    "    print('H0 tidak ditolak')"
   ]
  },
  {
   "cell_type": "markdown",
   "id": "a19b0256",
   "metadata": {},
   "source": [
    "Nomor 6"
   ]
  },
  {
   "cell_type": "code",
   "execution_count": 51,
   "id": "2f0e1c2a",
   "metadata": {},
   "outputs": [],
   "source": [
    "# 6\n",
    "# Test korelasi: tentukan apakah setiap kolom non-target berkorelasi dengan kolom target,\n",
    "# dengan menggambarkan juga scatter plot nya. Gunakan correlation test\n"
   ]
  },
  {
   "cell_type": "code",
   "execution_count": 52,
   "id": "04efb16f",
   "metadata": {},
   "outputs": [],
   "source": [
    "import pandas as pd\n",
    "import matplotlib.pyplot as plt\n",
    "\n",
    "def nomor6(nama):\n",
    "    # membuka file csv\n",
    "    path = 'D:\\KULIAH SMT 4\\IF2220 Probabilitas dan Statistika\\TUBES\\Gandum.csv'\n",
    "    # menamakan kolom\n",
    "    df = pd.read_csv(path, names=[\"id\", \"Daerah\", \"SumbuUtama\", \"SumbuKecil\", \"Keunikan\", \"AreaBulatan\", \"Diameter\", \"KadarAir\", \"Keliling\", \"Bulatan\", \"Ransum\", \"Kelas\"])\n",
    "    df.plot(kind='scatter', x=nama, y=\"Kelas\", color=\"blue\")\n",
    "    plt.show()\n",
    "    df1 = df[nama]\n",
    "    cor = df1.corr(method='pearson', other=df[\"Kelas\"])\n",
    "    print(\"Koefisien Korelasi Pearson dari \"+nama+\" : \"+str(cor))\n",
    "    print(\"Korelasi antara kolom \"+nama+\" dan kolom Kelas adalah\",end=' ')\n",
    "    if 0 < cor < 1:\n",
    "        print(\"positive correlation.\")\n",
    "    elif -1 < cor < 0:\n",
    "        print(\"negative correlation.\")\n",
    "    elif cor == 1:\n",
    "        print(\"perfect positive correlation.\")\n",
    "    elif cor == -1:\n",
    "        print(\"perfect negative correlation.\")\n",
    "    elif cor == 0:\n",
    "        print(\"tidak memiliki correlation.\")\n",
    "    else: # cor diluar -1 <= cor <= 1\n",
    "        print(\"error.\")"
   ]
  },
  {
   "cell_type": "code",
   "execution_count": 53,
   "id": "3bd1198c",
   "metadata": {},
   "outputs": [
    {
     "data": {
      "image/png": "[encoded data removed]",
      "text/plain": [
       "<Figure size 432x288 with 1 Axes>"
      ]
     },
     "metadata": {
      "needs_background": "light"
     },
     "output_type": "display_data"
    },
    {
     "name": "stdout",
     "output_type": "stream",
     "text": [
      "Koefisien Korelasi Pearson dari Daerah : -0.6027466517416662\n",
      "Korelasi antara kolom Daerah dan kolom Kelas adalah negative correlation.\n"
     ]
    }
   ],
   "source": [
    "# Daerah\n",
    "nomor6('Daerah')"
   ]
  },
  {
   "cell_type": "code",
   "execution_count": 54,
   "id": "4b499b67",
   "metadata": {},
   "outputs": [
    {
     "data": {
      "image/png": "[encoded data removed]",
      "text/plain": [
       "<Figure size 432x288 with 1 Axes>"
      ]
     },
     "metadata": {
      "needs_background": "light"
     },
     "output_type": "display_data"
    },
    {
     "name": "stdout",
     "output_type": "stream",
     "text": [
      "Koefisien Korelasi Pearson dari SumbuUtama : -0.7130906104204592\n",
      "Korelasi antara kolom SumbuUtama dan kolom Kelas adalah negative correlation.\n"
     ]
    }
   ],
   "source": [
    "# SumbuUtama\n",
    "nomor6('SumbuUtama')"
   ]
  },
  {
   "cell_type": "code",
   "execution_count": 55,
   "id": "f9a08f9b",
   "metadata": {},
   "outputs": [
    {
     "data": {
      "image/png": "[encoded data removed]",
      "text/plain": [
       "<Figure size 432x288 with 1 Axes>"
      ]
     },
     "metadata": {
      "needs_background": "light"
     },
     "output_type": "display_data"
    },
    {
     "name": "stdout",
     "output_type": "stream",
     "text": [
      "Koefisien Korelasi Pearson dari SumbuKecil : -0.15297517335535027\n",
      "Korelasi antara kolom SumbuKecil dan kolom Kelas adalah negative correlation.\n"
     ]
    }
   ],
   "source": [
    "# SumbuKecil\n",
    "nomor6('SumbuKecil')"
   ]
  },
  {
   "cell_type": "code",
   "execution_count": 56,
   "id": "1010b162",
   "metadata": {},
   "outputs": [
    {
     "data": {
      "image/png": "[encoded data removed]",
      "text/plain": [
       "<Figure size 432x288 with 1 Axes>"
      ]
     },
     "metadata": {
      "needs_background": "light"
     },
     "output_type": "display_data"
    },
    {
     "name": "stdout",
     "output_type": "stream",
     "text": [
      "Koefisien Korelasi Pearson dari Keunikan : -0.7304563686511923\n",
      "Korelasi antara kolom Keunikan dan kolom Kelas adalah negative correlation.\n"
     ]
    }
   ],
   "source": [
    "# Keunikan\n",
    "nomor6('Keunikan')"
   ]
  },
  {
   "cell_type": "code",
   "execution_count": 57,
   "id": "6c482b76",
   "metadata": {},
   "outputs": [
    {
     "data": {
      "image/png": "[encoded data removed]",
      "text/plain": [
       "<Figure size 432x288 with 1 Axes>"
      ]
     },
     "metadata": {
      "needs_background": "light"
     },
     "output_type": "display_data"
    },
    {
     "name": "stdout",
     "output_type": "stream",
     "text": [
      "Koefisien Korelasi Pearson dari AreaBulatan : -0.6073125434153751\n",
      "Korelasi antara kolom AreaBulatan dan kolom Kelas adalah negative correlation.\n"
     ]
    }
   ],
   "source": [
    "# AreaBulatan\n",
    "nomor6('AreaBulatan')"
   ]
  },
  {
   "cell_type": "code",
   "execution_count": 58,
   "id": "81799c67",
   "metadata": {},
   "outputs": [
    {
     "data": {
      "image/png": "[encoded data removed]",
      "text/plain": [
       "<Figure size 432x288 with 1 Axes>"
      ]
     },
     "metadata": {
      "needs_background": "light"
     },
     "output_type": "display_data"
    },
    {
     "name": "stdout",
     "output_type": "stream",
     "text": [
      "Koefisien Korelasi Pearson dari KadarAir : 0.13434422605727642\n",
      "Korelasi antara kolom KadarAir dan kolom Kelas adalah positive correlation.\n"
     ]
    }
   ],
   "source": [
    "# KadarAir\n",
    "nomor6('KadarAir')"
   ]
  },
  {
   "cell_type": "code",
   "execution_count": 61,
   "id": "d84a75af",
   "metadata": {},
   "outputs": [
    {
     "data": {
      "image/png": "[encoded data removed]",
      "text/plain": [
       "<Figure size 432x288 with 1 Axes>"
      ]
     },
     "metadata": {
      "needs_background": "light"
     },
     "output_type": "display_data"
    },
    {
     "name": "stdout",
     "output_type": "stream",
     "text": [
      "Koefisien Korelasi Pearson dari Keliling : -0.6348607454756858\n",
      "Korelasi antara kolom Keliling dan kolom Kelas adalah negative correlation.\n"
     ]
    }
   ],
   "source": [
    "# Keliling\n",
    "nomor6('Keliling')"
   ]
  },
  {
   "cell_type": "code",
   "execution_count": 62,
   "id": "ea72e56f",
   "metadata": {},
   "outputs": [
    {
     "data": {
      "image/png": "[encoded data removed]",
      "text/plain": [
       "<Figure size 432x288 with 1 Axes>"
      ]
     },
     "metadata": {
      "needs_background": "light"
     },
     "output_type": "display_data"
    },
    {
     "name": "stdout",
     "output_type": "stream",
     "text": [
      "Koefisien Korelasi Pearson dari Bulatan : 0.5450045317240076\n",
      "Korelasi antara kolom Bulatan dan kolom Kelas adalah positive correlation.\n"
     ]
    }
   ],
   "source": [
    "# Bulatan\n",
    "nomor6('Bulatan')"
   ]
  },
  {
   "cell_type": "code",
   "execution_count": null,
   "id": "06231921",
   "metadata": {},
   "outputs": [],
   "source": [
    "# Ransum\n",
    "nomor6('Ransum')"
   ]
  },
  {
   "cell_type": "code",
   "execution_count": null,
   "id": "5182a37b",
   "metadata": {},
   "outputs": [],
   "source": []
  },
  {
   "cell_type": "code",
   "execution_count": null,
   "id": "7fa2bf64",
   "metadata": {},
   "outputs": [],
   "source": []
  }
 ],
 "metadata": {
  "kernelspec": {
   "display_name": "Python 3",
   "language": "python",
   "name": "python3"
  },
  "language_info": {
   "codemirror_mode": {
    "name": "ipython",
    "version": 3
   },
   "file_extension": ".py",
   "mimetype": "text/x-python",
   "name": "python",
   "nbconvert_exporter": "python",
   "pygments_lexer": "ipython3",
   "version": "3.7.4"
  }
 },
 "nbformat": 4,
 "nbformat_minor": 5
}
