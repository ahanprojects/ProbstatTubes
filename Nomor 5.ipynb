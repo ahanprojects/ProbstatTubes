{
 "cells": [
  {
   "cell_type": "code",
   "execution_count": 30,
   "id": "b70a6362",
   "metadata": {},
   "outputs": [],
   "source": [
    "# Soal 5\n",
    "\n",
    "# Melakukan test hipotesis 2 sampel, dengan menuliskan 6 langkah testing dan menampilkan\n",
    "# juga boxplotnya untuk kolom/bagian yang bersesuaian.\n",
    "\n",
    "import pandas as pd\n",
    "import matplotlib.pyplot as plt\n",
    "from scipy import stats\n",
    "import math\n",
    "from statsmodels.stats import weightstats as stests\n",
    "\n",
    "# membuka file csv\n",
    "path = 'C:/Users/Hiro Agayeff/Documents/0KULIAH/SMT_4/PROBSTAT/TubesProbstat/Gandum.csv'\n",
    "# menamakan kolom\n",
    "df = pd.read_csv(path, names=[\"id\", \"Daerah\", \"SumbuUtama\", \"SumbuKecil\", \"Keunikan\", \"AreaBulatan\", \"Diameter\", \"KadarAir\", \"Keliling\", \"Bulatan\", \"Ransum\", \"Kelas\"])\n"
   ]
  },
  {
   "cell_type": "code",
   "execution_count": 31,
   "id": "18a04855",
   "metadata": {},
   "outputs": [
    {
     "name": "stdout",
     "output_type": "stream",
     "text": [
      "Plot data awal AreaBulatan:\n"
     ]
    },
    {
     "data": {
      "image/png": "[encoded data removed]",
      "text/plain": [
       "<Figure size 432x288 with 1 Axes>"
      ]
     },
     "metadata": {
      "needs_background": "light"
     },
     "output_type": "display_data"
    },
    {
     "name": "stdout",
     "output_type": "stream",
     "text": [
      "Plot data akhir AreaBulatan:\n"
     ]
    },
    {
     "data": {
      "image/png": "[encoded data removed]",
      "text/plain": [
       "<Figure size 432x288 with 1 Axes>"
      ]
     },
     "metadata": {
      "needs_background": "light"
     },
     "output_type": "display_data"
    },
    {
     "name": "stdout",
     "output_type": "stream",
     "text": [
      "Nilai uji statistik:  18.218137518439374\n",
      "P value:  1.0466710944662901e-47\n",
      "Daerah kritis diantara  -1.6509961516772618  dan  1.650996151677261\n",
      "\n",
      "Kesimpulan:\n",
      "H0 ditolak\n"
     ]
    }
   ],
   "source": [
    "# 5a. Data kolom AreaBulatan dibagi 2 sama rata: bagian awal dan bagian akhir kolom.\n",
    "#     Benarkah rata-rata kedua bagian tersebut sama?\n",
    "\n",
    "# nilai tingkat signifikan\n",
    "alpha = 0.05\n",
    "\n",
    "# data bagian awal\n",
    "df1 = df['AreaBulatan'][:250]\n",
    "# data bagian akhir\n",
    "df2 = df['AreaBulatan'][250:]\n",
    "\n",
    "# plot data\n",
    "print('Plot data awal AreaBulatan:')\n",
    "df1.plot.box()\n",
    "plt.show()\n",
    "print('Plot data akhir AreaBulatan:')\n",
    "df2.plot.box()\n",
    "plt.show()\n",
    "\n",
    "# uji statistik (t test)\n",
    "tstat, pval = stats.ttest_rel(df1, df2)\n",
    "print('Nilai uji statistik: ', tstat)\n",
    "\n",
    "# P value\n",
    "print('P value: ', pval)\n",
    "\n",
    "# Daerah kritis\n",
    "x = stats.t.ppf(alpha, len(df1)-1)\n",
    "y = stats.t.ppf(1-alpha, len(df2)-1)\n",
    "print('Daerah kritis diantara ', x, ' dan ', y)\n",
    "\n",
    "# Kesimpulan\n",
    "print('\\nKesimpulan:')\n",
    "if (alpha > pval):\n",
    "    print('H0 ditolak')\n",
    "else:\n",
    "    print('H0 tidak ditolak')"
   ]
  },
  {
   "cell_type": "code",
   "execution_count": 32,
   "id": "e45cda41",
   "metadata": {},
   "outputs": [
    {
     "name": "stdout",
     "output_type": "stream",
     "text": [
      "Plot data awal KadarAir:\n"
     ]
    },
    {
     "data": {
      "image/png": "[encoded data removed]",
      "text/plain": [
       "<Figure size 432x288 with 1 Axes>"
      ]
     },
     "metadata": {
      "needs_background": "light"
     },
     "output_type": "display_data"
    },
    {
     "name": "stdout",
     "output_type": "stream",
     "text": [
      "Plot data akhir KadarAir:\n"
     ]
    },
    {
     "data": {
      "image/png": "[encoded data removed]",
      "text/plain": [
       "<Figure size 432x288 with 1 Axes>"
      ]
     },
     "metadata": {
      "needs_background": "light"
     },
     "output_type": "display_data"
    },
    {
     "name": "stdout",
     "output_type": "stream",
     "text": [
      "Nilai uji statistik:  -26.90344424974495\n",
      "P value:  2.0016082856023656e-159\n",
      "Daerah kritis pada z > z(0.05) atau z < -z(0.05)\n",
      "\n",
      "Kesimpulan:\n",
      "H0 tidak ditolak\n"
     ]
    }
   ],
   "source": [
    "# 5b. Data kolom Kadar Air dibagi 2 sama rata: bagian awal dan bagian akhir kolom. Benarkah\n",
    "#     rata-rata bagian awal lebih besar dari pada bagian akhir sebesar 0.2?\n",
    "\n",
    "# H0 = rata-rata data bagian awal KadarAir - rata-rata data bagian akhir KadarAir = 0.2\n",
    "# H1 = rata-rata data bagian awal KadarAir - rata-rata data bagian akhir KadarAir ≠ 0.2\n",
    "\n",
    "# nilai tingkat signifikan\n",
    "alpha = 0.05\n",
    "\n",
    "# data bagian awal\n",
    "df1 = df['KadarAir'][:250]\n",
    "# data bagian akhir\n",
    "df2 = df['KadarAir'][250:]\n",
    "\n",
    "# plot data\n",
    "print('Plot data awal KadarAir:')\n",
    "df1.plot.box()\n",
    "plt.show()\n",
    "print('Plot data akhir KadarAir:')\n",
    "df2.plot.box()\n",
    "plt.show()\n",
    "\n",
    "# uji statistik (test z)\n",
    "ztest, pval = stests.ztest(df1, x2=df2, value=0.2, alternative='two-sided')\n",
    "print('Nilai uji statistik: ', ztest)\n",
    "\n",
    "# P value\n",
    "print('P value: ', pval)\n",
    "\n",
    "# Daerah kritis\n",
    "print('Daerah kritis pada z > z(0.05) atau z < -z(0.05)')\n",
    "\n",
    "# Kesimpulan\n",
    "print('\\nKesimpulan:')\n",
    "if (pval > 1.960 or pval < -1.960):\n",
    "    print('H0 ditolak')\n",
    "else:\n",
    "    print('H0 tidak ditolak')"
   ]
  },
  {
   "cell_type": "code",
   "execution_count": 33,
   "id": "f2eae8cb",
   "metadata": {},
   "outputs": [
    {
     "name": "stdout",
     "output_type": "stream",
     "text": [
      "Plot data awal Bulatan:\n"
     ]
    },
    {
     "data": {
      "image/png": "[encoded data removed]",
      "text/plain": [
       "<Figure size 432x288 with 1 Axes>"
      ]
     },
     "metadata": {
      "needs_background": "light"
     },
     "output_type": "display_data"
    },
    {
     "name": "stdout",
     "output_type": "stream",
     "text": [
      "Plot data akhir Bulatan:\n"
     ]
    },
    {
     "data": {
      "image/png": "[encoded data removed]",
      "text/plain": [
       "<Figure size 432x288 with 1 Axes>"
      ]
     },
     "metadata": {
      "needs_background": "light"
     },
     "output_type": "display_data"
    },
    {
     "name": "stdout",
     "output_type": "stream",
     "text": [
      "Nilai uji statistik:  -3.4108599915540974\n",
      "P value:  0.0029315509260543185\n",
      "Daerah kritis diantara  -1.7291328115213678  dan  1.729132811521367\n",
      "\n",
      "Kesimpulan:\n",
      "H0 ditolak\n"
     ]
    }
   ],
   "source": [
    "# 5c. Rata-rata 20 baris pertama kolom Bulatan sama dengan 20 baris terakhirnya?\n",
    "\n",
    "# nilai tingkat signifikan\n",
    "alpha = 0.05\n",
    "\n",
    "# data bagian awal\n",
    "df1 = df['Bulatan'][:20]\n",
    "# data bagian akhir\n",
    "df2 = df['Bulatan'][480:500]\n",
    "\n",
    "# plot data\n",
    "print('Plot data awal Bulatan:')\n",
    "df1.plot.box()\n",
    "plt.show()\n",
    "print('Plot data akhir Bulatan:')\n",
    "df2.plot.box()\n",
    "plt.show()\n",
    "\n",
    "# uji statistik (t test)\n",
    "tstat, pval = stats.ttest_rel(df1, df2)\n",
    "print('Nilai uji statistik: ', tstat)\n",
    "\n",
    "# P value\n",
    "print('P value: ', pval)\n",
    "\n",
    "# Daerah kritis\n",
    "x = stats.t.ppf(alpha, len(df1)-1)\n",
    "y = stats.t.ppf(1-alpha, len(df2)-1)\n",
    "print('Daerah kritis diantara ', x, ' dan ', y)\n",
    "\n",
    "# Kesimpulan\n",
    "print('\\nKesimpulan:')\n",
    "if (alpha > pval):\n",
    "    print('H0 ditolak')\n",
    "else:\n",
    "    print('H0 tidak ditolak')"
   ]
  },
  {
   "cell_type": "code",
   "execution_count": 34,
   "id": "1a5b6546",
   "metadata": {},
   "outputs": [
    {
     "name": "stdout",
     "output_type": "stream",
     "text": [
      "Plot data awal Ransum:\n"
     ]
    },
    {
     "data": {
      "image/png": "[encoded data removed]",
      "text/plain": [
       "<Figure size 432x288 with 1 Axes>"
      ]
     },
     "metadata": {
      "needs_background": "light"
     },
     "output_type": "display_data"
    },
    {
     "name": "stdout",
     "output_type": "stream",
     "text": [
      "Plot data akhir Ransum:\n"
     ]
    },
    {
     "data": {
      "image/png": "[encoded data removed]",
      "text/plain": [
       "<Figure size 432x288 with 1 Axes>"
      ]
     },
     "metadata": {
      "needs_background": "light"
     },
     "output_type": "display_data"
    },
    {
     "name": "stdout",
     "output_type": "stream",
     "text": [
      "Nilai uji statistik:  13.397486455610238\n",
      "Daerah kritis terletak pada z >  -1.6448536269514729\n",
      "\n",
      "Kesimpulan:\n",
      "H0 ditolak\n"
     ]
    }
   ],
   "source": [
    "# 5d. Proporsi nilai bagian awal Ransum yang lebih dari 2, adalah lebih besar daripada,\n",
    "#    proporsi nilai yang sama di bagian akhir Ransum?\n",
    "\n",
    "# H0 = Pawal(ransum > 2) > Pakhir(ransum > 2)\n",
    "# H1 = Pawal(ransum > 2) <= Pakhir(ransum > 2)\n",
    "\n",
    "# nilai tingkat signifikan\n",
    "alpha = 0.05\n",
    "\n",
    "# data bagian awal\n",
    "dfr1 = df['Ransum'][:250][df['Ransum'] > 2]\n",
    "# data bagian akhir\n",
    "dfr2 = df['Ransum'][250:][df['Ransum'] > 2]\n",
    "\n",
    "# plot data\n",
    "print('Plot data awal Ransum:')\n",
    "dfr1.plot.box()\n",
    "plt.show()\n",
    "print('Plot data akhir Ransum:')\n",
    "dfr2.plot.box()\n",
    "plt.show()\n",
    "\n",
    "# jumlah data awal dan akhir ransum\n",
    "nr1 = 250\n",
    "nr2 = 250\n",
    "\n",
    "# uji statistik (test z)\n",
    "p1 = len(dfr1)/nr1\n",
    "p2 = len(dfr2)/nr2\n",
    "p = (len(dfr1) + len(dfr2))/(nr1+nr2)\n",
    "q = 1-p\n",
    "z = (p1-p2)/math.sqrt(p*q*(1/nr1 + 1/nr2))\n",
    "\n",
    "print('Nilai uji statistik: ', z)\n",
    "\n",
    "# Daerah kritis\n",
    "zkritis = stats.norm.ppf(0.05)\n",
    "print('Daerah kritis terletak pada z > ', zkritis)\n",
    "\n",
    "# Kesimpulan\n",
    "print('\\nKesimpulan:')\n",
    "if (z > zkritis):\n",
    "    print('H0 ditolak')\n",
    "else:\n",
    "    print('H0 tidak ditolak')"
   ]
  },
  {
   "cell_type": "code",
   "execution_count": 35,
   "id": "4ed1c23a",
   "metadata": {},
   "outputs": [
    {
     "name": "stdout",
     "output_type": "stream",
     "text": [
      "Plot data awal Diameter:\n"
     ]
    },
    {
     "data": {
      "image/png": "[encoded data removed]",
      "text/plain": [
       "<Figure size 432x288 with 1 Axes>"
      ]
     },
     "metadata": {
      "needs_background": "light"
     },
     "output_type": "display_data"
    },
    {
     "name": "stdout",
     "output_type": "stream",
     "text": [
      "Plot data akhir Diameter:\n"
     ]
    },
    {
     "data": {
      "image/png": "[encoded data removed]",
      "text/plain": [
       "<Figure size 432x288 with 1 Axes>"
      ]
     },
     "metadata": {
      "needs_background": "light"
     },
     "output_type": "display_data"
    },
    {
     "name": "stdout",
     "output_type": "stream",
     "text": [
      "Variance data awal Diameter:  43.168980426322435\n",
      "Variance data akhir Diameter:  39.8282643880772\n",
      "Nilai uji statistik:  1.083878022042188\n",
      "P value:  0.26278959201893937\n",
      "f memiliki daerah kritis pada f >  1.2827228078241388  dan f <  0.7795916576054985\n",
      "\n",
      "Kesimpulan:\n",
      "H0 tidak ditolak\n"
     ]
    }
   ],
   "source": [
    "# 5e. Bagian awal kolom Diameter memiliki variansi yang sama dengan bagian akhirnya?\n",
    "\n",
    "# H0 = var1 = var2\n",
    "# H1 = var1 != var2\n",
    "\n",
    "# nilai tingkat signifikan\n",
    "alpha = 0.05\n",
    "\n",
    "# Data bagian awal\n",
    "df1 = df['Diameter'][:250]\n",
    "# Data bagian akhir\n",
    "df2 = df['Diameter'][250:]\n",
    "\n",
    "# Plot data\n",
    "print('Plot data awal Diameter:')\n",
    "df1.plot.box()\n",
    "plt.show()\n",
    "print('Plot data akhir Diameter:')\n",
    "df2.plot.box()\n",
    "plt.show()\n",
    "\n",
    "# degrees of freedom\n",
    "dfn = len(df1)-1\n",
    "dfd = len(df2)-1\n",
    "\n",
    "# Variance dari data awal dan akhir\n",
    "var1 = df1.var(ddof=1)\n",
    "var2 = df2.var(ddof=1)\n",
    "print('Variance data awal Diameter: ', var1)\n",
    "print('Variance data akhir Diameter: ', var2)\n",
    "\n",
    "# Uji statistik (test f)\n",
    "f = var1/var2\n",
    "print('Nilai uji statistik: ', f)\n",
    "\n",
    "# P Value\n",
    "f_pval = 1-stats.f.cdf(f, dfn, dfd)\n",
    "print('P value: ', f_pval)\n",
    "\n",
    "# Daerah kritis\n",
    "fkritis1 = stats.f(dfn, dfd).ppf(1-alpha/2)\n",
    "fkritis2 = stats.f(dfn, dfd).ppf(alpha/2)\n",
    "print('f memiliki daerah kritis pada f > ', fkritis1, ' dan f < ', fkritis2)\n",
    "\n",
    "# Kesimpulan\n",
    "print('\\nKesimpulan:')\n",
    "if (f > fkritis1 or f < fkritis2):\n",
    "    print('H0 ditolak')\n",
    "else:\n",
    "    print('H0 tidak ditolak')"
   ]
  },
  {
   "cell_type": "code",
   "execution_count": null,
   "id": "5a91e730",
   "metadata": {},
   "outputs": [],
   "source": []
  }
 ],
 "metadata": {
  "kernelspec": {
   "display_name": "Python 3",
   "language": "python",
   "name": "python3"
  },
  "language_info": {
   "codemirror_mode": {
    "name": "ipython",
    "version": 3
   },
   "file_extension": ".py",
   "mimetype": "text/x-python",
   "name": "python",
   "nbconvert_exporter": "python",
   "pygments_lexer": "ipython3",
   "version": "3.7.4"
  }
 },
 "nbformat": 4,
 "nbformat_minor": 5
}
