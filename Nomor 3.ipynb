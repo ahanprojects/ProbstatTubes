{
 "cells": [
  {
   "cell_type": "code",
   "execution_count": 9,
   "id": "18f7ced1",
   "metadata": {},
   "outputs": [],
   "source": [
    "# 3\n",
    "# Menentukan setiap kolom numerik berdistribusi normal atau tidak. Gunakan normality test\n",
    "# yang dikaitkan dengan histogram plot.\n",
    "\n",
    "def normality_test(nama):\n",
    "    import pandas as pd\n",
    "    import matplotlib.pyplot as plt\n",
    "    from scipy import stats\n",
    "\n",
    "    # membuka file csv\n",
    "    path = 'D:\\KULIAH SMT 4\\IF2220 Probabilitas dan Statistika\\TUBES\\Gandum.csv'\n",
    "    # menamakan kolom\n",
    "    df = pd.read_csv(path, names=[\"id\", \"Daerah\", \"SumbuUtama\", \"SumbuKecil\", \"Keunikan\", \"AreaBulatan\", \"Diameter\", \"KadarAir\", \"Keliling\", \"Bulatan\", \"Ransum\", \"Kelas\"])\n",
    "\n",
    "    statistic, p_val = stats.normaltest(df[nama])\n",
    "    print(\"Nilai P : \"+str(p_val))\n",
    "    alpha = 0.05\n",
    "    # jika p-value > alpha, maka distribusi normal\n",
    "    print(\"Kolom \"+nama,end=' ')\n",
    "    if p_val > alpha:\n",
    "        print(\"berdistribusi normal.\")\n",
    "    else:\n",
    "        print(\"tidak berdistribusi normal.\")"
   ]
  },
  {
   "cell_type": "code",
   "execution_count": 10,
   "id": "5d6e9465",
   "metadata": {},
   "outputs": [
    {
     "name": "stdout",
     "output_type": "stream",
     "text": [
      "Nilai P : 1.1693020376929758e-69\n",
      "Kolom id tidak berdistribusi normal.\n"
     ]
    }
   ],
   "source": [
    "# id\n",
    "normality_test(\"id\")"
   ]
  },
  {
   "cell_type": "code",
   "execution_count": 11,
   "id": "a549836d",
   "metadata": {},
   "outputs": [
    {
     "name": "stdout",
     "output_type": "stream",
     "text": [
      "Nilai P : 0.004386271773193838\n",
      "Kolom Daerah tidak berdistribusi normal.\n"
     ]
    }
   ],
   "source": [
    "# Daerah\n",
    "normality_test(\"Daerah\")"
   ]
  },
  {
   "cell_type": "code",
   "execution_count": 12,
   "id": "d63a39d1",
   "metadata": {},
   "outputs": [
    {
     "name": "stdout",
     "output_type": "stream",
     "text": [
      "Nilai P : 2.2127429343273333e-21\n",
      "Kolom SumbuUtama tidak berdistribusi normal.\n"
     ]
    }
   ],
   "source": [
    "# SumbuUtama\n",
    "normality_test(\"SumbuUtama\")"
   ]
  },
  {
   "cell_type": "code",
   "execution_count": 13,
   "id": "3b74535d",
   "metadata": {},
   "outputs": [
    {
     "name": "stdout",
     "output_type": "stream",
     "text": [
      "Nilai P : 0.1573634413290252\n",
      "Kolom SumbuKecil berdistribusi normal.\n"
     ]
    }
   ],
   "source": [
    "# SumbuKecil\n",
    "normality_test(\"SumbuKecil\")"
   ]
  },
  {
   "cell_type": "code",
   "execution_count": 14,
   "id": "0940f91b",
   "metadata": {},
   "outputs": [
    {
     "name": "stdout",
     "output_type": "stream",
     "text": [
      "Nilai P : 3.602971140062405e-35\n",
      "Kolom Keunikan tidak berdistribusi normal.\n"
     ]
    }
   ],
   "source": [
    "# Keunikan\n",
    "normality_test(\"Keunikan\")"
   ]
  },
  {
   "cell_type": "code",
   "execution_count": 15,
   "id": "320b8b6f",
   "metadata": {},
   "outputs": [
    {
     "name": "stdout",
     "output_type": "stream",
     "text": [
      "Nilai P : 0.004657058890055043\n",
      "Kolom AreaBulatan tidak berdistribusi normal.\n"
     ]
    }
   ],
   "source": [
    "# AreaBulatan\n",
    "normality_test(\"AreaBulatan\")"
   ]
  },
  {
   "cell_type": "code",
   "execution_count": 16,
   "id": "f04279cf",
   "metadata": {},
   "outputs": [
    {
     "name": "stdout",
     "output_type": "stream",
     "text": [
      "Nilai P : 0.024157198077543095\n",
      "Kolom Diameter tidak berdistribusi normal.\n"
     ]
    }
   ],
   "source": [
    "# Diameter\n",
    "normality_test(\"Diameter\")"
   ]
  },
  {
   "cell_type": "code",
   "execution_count": 17,
   "id": "6c449d3f",
   "metadata": {},
   "outputs": [
    {
     "name": "stdout",
     "output_type": "stream",
     "text": [
      "Nilai P : 2.5869363404624707e-11\n",
      "Kolom KadarAir tidak berdistribusi normal.\n"
     ]
    }
   ],
   "source": [
    "# KadarAir\n",
    "normality_test(\"KadarAir\")"
   ]
  },
  {
   "cell_type": "code",
   "execution_count": 18,
   "id": "588517dd",
   "metadata": {},
   "outputs": [
    {
     "name": "stdout",
     "output_type": "stream",
     "text": [
      "Nilai P : 2.2390130437166565e-15\n",
      "Kolom Keliling tidak berdistribusi normal.\n"
     ]
    }
   ],
   "source": [
    "# Keliling\n",
    "normality_test(\"Keliling\")"
   ]
  },
  {
   "cell_type": "code",
   "execution_count": 19,
   "id": "36f16a13",
   "metadata": {},
   "outputs": [
    {
     "name": "stdout",
     "output_type": "stream",
     "text": [
      "Nilai P : 9.885276103161724e-97\n",
      "Kolom Bulatan tidak berdistribusi normal.\n"
     ]
    }
   ],
   "source": [
    "# Bulatan\n",
    "normality_test(\"Bulatan\")"
   ]
  },
  {
   "cell_type": "code",
   "execution_count": 20,
   "id": "585d18d6",
   "metadata": {},
   "outputs": [
    {
     "name": "stdout",
     "output_type": "stream",
     "text": [
      "Nilai P : 8.963008041823752e-09\n",
      "Kolom Ransum tidak berdistribusi normal.\n"
     ]
    }
   ],
   "source": [
    "# Ransum\n",
    "normality_test(\"Ransum\")"
   ]
  },
  {
   "cell_type": "code",
   "execution_count": 21,
   "id": "34b08b62",
   "metadata": {},
   "outputs": [
    {
     "name": "stdout",
     "output_type": "stream",
     "text": [
      "Nilai P : 0.0\n",
      "Kolom Kelas tidak berdistribusi normal.\n"
     ]
    }
   ],
   "source": [
    "# Kelas\n",
    "normality_test(\"Kelas\")"
   ]
  },
  {
   "cell_type": "code",
   "execution_count": null,
   "id": "393823cc",
   "metadata": {},
   "outputs": [],
   "source": []
  }
 ],
 "metadata": {
  "kernelspec": {
   "display_name": "Python 3",
   "language": "python",
   "name": "python3"
  },
  "language_info": {
   "codemirror_mode": {
    "name": "ipython",
    "version": 3
   },
   "file_extension": ".py",
   "mimetype": "text/x-python",
   "name": "python",
   "nbconvert_exporter": "python",
   "pygments_lexer": "ipython3",
   "version": "3.6.8"
  }
 },
 "nbformat": 4,
 "nbformat_minor": 5
}
