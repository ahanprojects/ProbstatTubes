{
 "cells": [
  {
   "cell_type": "code",
   "execution_count": 2,
   "metadata": {},
   "outputs": [],
   "source": [
    "# 4\n",
    "# Melakukan test hipotesis 1 sampel, dengan menuliskan 6 langkah testing dan menampilkan\n",
    "# juga boxplotnya untuk kolom/bagian yang bersesuaian.\n",
    "# a. Nilai rata-rata Daerah di atas 4700?\n",
    "# b. Nilai Rata-rata Sumbu Utama tidak sama dengan 116?\n",
    "# c. Nilai Rata-rata 20 baris pertama kolom Sumbu Kecil bukan 50?\n",
    "# d. Proporsi nilai Diameter yang lebih dari 85, adalah tidak sama dengan 15% ?\n",
    "# e. Proporsi nilai Keliling yang kurang dari 100, adalah kurang dari 5% ?\n"
   ]
  },
  {
   "cell_type": "code",
   "execution_count": 29,
   "metadata": {},
   "outputs": [],
   "source": [
    "import os\n",
    "import pandas as pd\n",
    "from scipy import stats\n",
    "import matplotlib.pyplot as plt\n",
    "\n",
    "# membuka file csv\n",
    "path = 'D:\\KULIAH SMT 4\\IF2220 Probabilitas dan Statistika\\TUBES\\Gandum.csv'\n",
    "# menamakan kolom\n",
    "df = pd.read_csv(path, names=[\"id\", \"Daerah\", \"SumbuUtama\", \"SumbuKecil\", \"Keunikan\", \"AreaBulatan\", \"Diameter\", \"KadarAir\", \"Keliling\", \"Bulatan\", \"Ransum\", \"Kelas\"])\n"
   ]
  },
  {
   "cell_type": "code",
   "execution_count": 31,
   "metadata": {},
   "outputs": [
    {
     "name": "stdout",
     "output_type": "stream",
     "text": [
      "Nilai uji statistik : 2.295153824252517\n",
      "Nilai P : 0.011069185447613176\n",
      "Berdasarkan uji hipotesis menggunakan P-value,\n",
      "maka hipotesis nol H0 DITOLAK\n"
     ]
    },
    {
     "data": {
      "image/png": "[encoded data removed]",
      "text/plain": [
       "<Figure size 432x288 with 1 Axes>"
      ]
     },
     "metadata": {
      "needs_background": "light"
     },
     "output_type": "display_data"
    }
   ],
   "source": [
    "# a. Nilai rata-rata Daerah di atas 4700?\n",
    "df1 = df[\"Daerah\"]\n",
    "# 1. Tentukan Hipotesis Nol, H0 : mean = 4700\n",
    "# 2. Tentukan Hipotesis Alternatif, H1 : mean > 4700\n",
    "# 3. Tentukan tingkat signifikansi alfa\n",
    "alfa = 0.05\n",
    "# 4. Tentukan uji statistik yang sesuai dan tentukan daerah kritis\n",
    "# Daerah kritis hipotesis alternatif ada di sebelah kanan nilai kritis\n",
    "# uji T test dan mencari p_value\n",
    "# 5. Hitung nilai uji statistik dari data sample. Hitung p-value sesuai dengan uji statistik yang digunakan.\n",
    "stat, p_value = stats.ttest_1samp(df1, 4700)\n",
    "# Karena ttest_1samp secara default merupakan two-sided, maka p_value dibagi 2\n",
    "p_value /= 2\n",
    "print(\"Nilai uji statistik :\",stat)\n",
    "print(\"Nilai P :\",p_value)\n",
    "# 6. Ambil keputusan tolak atau terima, berdasarkan p-value\n",
    "print(\"Berdasarkan uji hipotesis menggunakan P-value,\\nmaka hipotesis nol H0\",end=' ')\n",
    "if (p_value < alfa):\n",
    "  print(\"DITOLAK\")\n",
    "else:\n",
    "  print(\"TIDAK DITOLAK\")\n",
    "\n",
    "df.boxplot(column=\"Daerah\")\n",
    "plt.show()"
   ]
  },
  {
   "cell_type": "code",
   "execution_count": 33,
   "metadata": {},
   "outputs": [
    {
     "name": "stdout",
     "output_type": "stream",
     "text": [
      "Nilai uji statistik : 0.05524712326731844\n",
      "Nilai P : 0.955963699941099\n",
      "Berdasarkan uji hipotesis menggunakan P-value,\n",
      "maka hipotesis nol H0 TIDAK DITOLAK\n"
     ]
    },
    {
     "data": {
      "image/png": "[encoded data removed]",
      "text/plain": [
       "<Figure size 432x288 with 1 Axes>"
      ]
     },
     "metadata": {
      "needs_background": "light"
     },
     "output_type": "display_data"
    }
   ],
   "source": [
    "# b. Nilai Rata-rata Sumbu Utama tidak sama dengan 116?\n",
    "df1 = df[\"SumbuUtama\"]\n",
    "# 1. Tentukan Hipotesis Nol, H0 : mean = 116\n",
    "# 2. Tentukan Hipotesis Alternatif, H1 : mean != 116\n",
    "# 3. Tentukan tingkat signifikansi alfa\n",
    "alfa = 0.05\n",
    "# 4. Tentukan uji statistik yang sesuai dan tentukan daerah kritis\n",
    "# Daerah kritis berada di kedua bagian mean < 116 dan mean > 116\n",
    "# uji T test dan mencari p_value\n",
    "# 5. Hitung nilai uji statistik dari data sample. Hitung p-value sesuai dengan uji statistik yang digunakan.\n",
    "stat, p_value = stats.ttest_1samp(df1, 116)\n",
    "print(\"Nilai uji statistik :\",stat)\n",
    "print(\"Nilai P :\",p_value)\n",
    "# 6. Ambil keputusan tolak atau terima, berdasarkan p-value\n",
    "print(\"Berdasarkan uji hipotesis menggunakan P-value,\\nmaka hipotesis nol H0\",end=' ')\n",
    "if (p_value < alfa):\n",
    "  print(\"DITOLAK\")\n",
    "else:\n",
    "  print(\"TIDAK DITOLAK\")\n",
    "\n",
    "df.boxplot(column=\"SumbuUtama\")\n",
    "plt.show()"
   ]
  },
  {
   "cell_type": "code",
   "execution_count": 41,
   "metadata": {},
   "outputs": [
    {
     "name": "stdout",
     "output_type": "stream",
     "text": [
      "Nilai uji statistik : 6.478168916968894\n",
      "Nilai P : 3.3020185644244998e-06\n",
      "Berdasarkan uji hipotesis menggunakan P-value,\n",
      "maka hipotesis nol H0 DITOLAK\n"
     ]
    },
    {
     "data": {
      "image/png": "[encoded data removed]",
      "text/plain": [
       "<Figure size 432x288 with 1 Axes>"
      ]
     },
     "metadata": {
      "needs_background": "light"
     },
     "output_type": "display_data"
    }
   ],
   "source": [
    "# c. Nilai Rata-rata 20 baris pertama kolom Sumbu Kecil bukan 50?\n",
    "df1 = df[\"SumbuKecil\"][:20]\n",
    "# 1. Tentukan Hipotesis Nol, H0 : mean = 50\n",
    "# 2. Tentukan Hipotesis Alternatif, H1 : mean != 50\n",
    "# 3. Tentukan tingkat signifikansi alfa\n",
    "alfa = 0.05\n",
    "# 4. Tentukan uji statistik yang sesuai dan tentukan daerah kritis\n",
    "# Daerah kritis berada di kedua bagian mean < 50 dan mean > 50\n",
    "# uji T test dan mencari p_value\n",
    "# 5. Hitung nilai uji statistik dari data sample. Hitung p-value sesuai dengan uji statistik yang digunakan.\n",
    "stat, p_value = stats.ttest_1samp(df1, 50)\n",
    "print(\"Nilai uji statistik :\",stat)\n",
    "print(\"Nilai P :\",p_value)\n",
    "# 6. Ambil keputusan tolak atau terima, berdasarkan p-value\n",
    "print(\"Berdasarkan uji hipotesis menggunakan P-value,\\nmaka hipotesis nol H0\",end=' ')\n",
    "if (p_value < alfa):\n",
    "  print(\"DITOLAK\")\n",
    "else:\n",
    "  print(\"TIDAK DITOLAK\")\n",
    "\n",
    "df1.plot.box(title='BoxPlot 20 Baris Pertama')\n",
    "plt.show()"
   ]
  },
  {
   "cell_type": "code",
   "execution_count": 49,
   "metadata": {},
   "outputs": [
    {
     "name": "stdout",
     "output_type": "stream",
     "text": [
      "0      85.793926\n",
      "6      89.789492\n",
      "9      85.652824\n",
      "15     85.585905\n",
      "29     88.006342\n",
      "         ...    \n",
      "435    94.042128\n",
      "456    85.831020\n",
      "467    86.643063\n",
      "476    87.999107\n",
      "491    87.861547\n",
      "Name: Diameter, Length: 97, dtype: float64\n",
      "Nilai uji statistik : 2.4881083733392226\n",
      "Nilai P : 0.012842459209356831\n",
      "Berdasarkan uji hipotesis menggunakan P-value,\n",
      "maka hipotesis nol H0 DITOLAK\n"
     ]
    },
    {
     "data": {
      "image/png": "[encoded data removed]",
      "text/plain": [
       "<Figure size 432x288 with 1 Axes>"
      ]
     },
     "metadata": {
      "needs_background": "light"
     },
     "output_type": "display_data"
    }
   ],
   "source": [
    "# d. Proporsi nilai Diameter yang lebih dari 85, adalah tidak sama dengan 15% ?\n",
    "from statsmodels.stats.proportion import proportions_ztest\n",
    "# kolom diameter dengan nilai diatas 85\n",
    "df1 = df[df[\"Diameter\"]>85][\"Diameter\"]\n",
    "# 1. Tentukan Hipotesis Nol, H0 : proporsi = 15%\n",
    "# 2. Tentukan Hipotesis Alternatif, H1 : proporsi != 15%\n",
    "# 3. Tentukan tingkat signifikansi alfa\n",
    "alfa = 0.05\n",
    "# 4. Tentukan uji statistik yang sesuai dan tentukan daerah kritis\n",
    "# Menggunakan Z test, Daerah kritis berada di kedua bagian proporsi < 0.15 dan proporsi > 0.15\n",
    "# 5. Hitung nilai uji statistik dari data sample. Hitung p-value sesuai dengan uji statistik yang digunakan\n",
    "stat, p_value = proportions_ztest(df1.count(), 500, 0.15, alternative='two-sided')\n",
    "print(\"Nilai uji statistik :\",stat)\n",
    "print(\"Nilai P :\",p_value)\n",
    "# 6. Ambil keputusan tolak atau terima, berdasarkan p-value\n",
    "print(\"Berdasarkan uji hipotesis menggunakan P-value,\\nmaka hipotesis nol H0\",end=' ')\n",
    "if (p_value < alfa):\n",
    "  print(\"DITOLAK\")\n",
    "else:\n",
    "  print(\"TIDAK DITOLAK\")\n",
    "\n",
    "df1.plot.box(title=\"BoxPlot Diameter > 85\")\n",
    "plt.show()"
   ]
  },
  {
   "cell_type": "code",
   "execution_count": 57,
   "metadata": {},
   "outputs": [
    {
     "name": "stdout",
     "output_type": "stream",
     "text": [
      "Nilai uji statistik : -inf\n",
      "Nilai P : 1.0\n",
      "Berdasarkan uji hipotesis menggunakan P-value,\n",
      "maka hipotesis nol H0 TIDAK DITOLAK\n"
     ]
    },
    {
     "name": "stderr",
     "output_type": "stream",
     "text": [
      "c:\\users\\ahan\\appdata\\local\\programs\\python\\python36\\lib\\site-packages\\statsmodels\\stats\\weightstats.py:790: RuntimeWarning: divide by zero encountered in double_scalars\n",
      "  zstat = value / std\n"
     ]
    },
    {
     "data": {
      "image/png": "[encoded data removed]",
      "text/plain": [
       "<Figure size 432x288 with 1 Axes>"
      ]
     },
     "metadata": {
      "needs_background": "light"
     },
     "output_type": "display_data"
    }
   ],
   "source": [
    "# e. Proporsi nilai Keliling yang kurang dari 100, adalah kurang dari 5% ?\n",
    "\n",
    "from statsmodels.stats.proportion import proportions_ztest\n",
    "# kolom keliling dengan nilai diatas 100\n",
    "df1 = df[df[\"Keliling\"]<100][\"Keliling\"]\n",
    "# 1. Tentukan Hipotesis Nol, H0 : proporsi < 5%\n",
    "# 2. Tentukan Hipotesis Alternatif, H1 : proporsi >= 5%\n",
    "# 3. Tentukan tingkat signifikansi alfa\n",
    "alfa = 0.05\n",
    "# 4. Tentukan uji statistik yang sesuai dan tentukan daerah kritis\n",
    "# Menggunakan Z test, Daerah kritis berada di kedua bagian proporsi < 0.05 dan proporsi > 0.05\n",
    "# 5. Hitung nilai uji statistik dari data sample. Hitung p-value sesuai dengan uji statistik yang digunakan\n",
    "stat, p_value = proportions_ztest(df1.count(), 500, 0.05, alternative='larger')\n",
    "print(\"Nilai uji statistik :\",stat)\n",
    "print(\"Nilai P :\",p_value)\n",
    "# 6. Ambil keputusan tolak atau terima, berdasarkan p-value\n",
    "print(\"Berdasarkan uji hipotesis menggunakan P-value,\\nmaka hipotesis nol H0\",end=' ')\n",
    "if (p_value < alfa):\n",
    "  print(\"DITOLAK\")\n",
    "else:\n",
    "  print(\"TIDAK DITOLAK\")\n",
    "\n",
    "df1.plot.box(title=\"BoxPlot Keliling < 100\")\n",
    "plt.show()"
   ]
  },
  {
   "cell_type": "code",
   "execution_count": 2,
   "metadata": {},
   "outputs": [],
   "source": []
  }
 ],
 "metadata": {
  "kernelspec": {
   "display_name": "Python 3",
   "language": "python",
   "name": "python3"
  },
  "language_info": {
   "codemirror_mode": {
    "name": "ipython",
    "version": 3
   },
   "file_extension": ".py",
   "mimetype": "text/x-python",
   "name": "python",
   "nbconvert_exporter": "python",
   "pygments_lexer": "ipython3",
   "version": "3.6.8"
  }
 },
 "nbformat": 4,
 "nbformat_minor": 4
}
